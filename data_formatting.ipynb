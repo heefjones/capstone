{
 "cells": [
  {
   "cell_type": "markdown",
   "metadata": {
    "heading_collapsed": true
   },
   "source": [
    "# Project Goal\n",
    "- Create a predictive model that takes in a quarterback's past statistics to predict their __PFF offensive grade__ in the next season. PFF offensive grade is an aggregate measure of a quarterback's overall performance."
   ]
  },
  {
   "cell_type": "markdown",
   "metadata": {
    "hidden": true
   },
   "source": [
    "## Data Overview\n",
    "- We have 18 seasons (2006-2023) of NFL Quarterback data acquired from [Pro Football Focus](https://www.pff.com/).\n",
    "- This data is regular season only (excludes postseason games).\n",
    "- Each season of passing data is contained in a csv file, as well as each rushing seasons. This is a total of 36 CSVs that we must combine."
   ]
  },
  {
   "cell_type": "markdown",
   "metadata": {},
   "source": [
    "# Load data\n",
    "- Get all data into a single dataframe.\n",
    "- Each row will represent a __single season's statistics__ from a single player.\n",
    "- Most players will have multiple rows, as most played multiple seasons."
   ]
  },
  {
   "cell_type": "markdown",
   "metadata": {},
   "source": [
    "### Imports"
   ]
  },
  {
   "cell_type": "code",
   "execution_count": 2,
   "metadata": {
    "ExecuteTime": {
     "end_time": "2023-11-17T03:06:39.708594Z",
     "start_time": "2023-11-17T03:06:37.938142Z"
    }
   },
   "outputs": [],
   "source": [
    "import pandas as pd\n",
    "import numpy as np\n",
    "import os\n",
    "\n",
    "from sklearn.cluster import KMeans\n",
    "from sklearn.metrics import silhouette_score\n",
    "from sklearn.preprocessing import StandardScaler\n",
    "\n",
    "import matplotlib.pyplot as plt\n",
    "%matplotlib inline\n",
    "\n",
    "pd.options.display.max_columns = 100\n",
    "pd.options.display.max_rows = 100\n",
    "\n",
    "# global random_state\n",
    "random_state = 9"
   ]
  },
  {
   "cell_type": "code",
   "execution_count": 3,
   "metadata": {
    "ExecuteTime": {
     "end_time": "2023-11-17T03:06:40.414149Z",
     "start_time": "2023-11-17T03:06:40.365104Z"
    },
    "scrolled": false
   },
   "outputs": [
    {
     "data": {
      "text/html": [
       "<div>\n",
       "<style scoped>\n",
       "    .dataframe tbody tr th:only-of-type {\n",
       "        vertical-align: middle;\n",
       "    }\n",
       "\n",
       "    .dataframe tbody tr th {\n",
       "        vertical-align: top;\n",
       "    }\n",
       "\n",
       "    .dataframe thead th {\n",
       "        text-align: right;\n",
       "    }\n",
       "</style>\n",
       "<table border=\"1\" class=\"dataframe\">\n",
       "  <thead>\n",
       "    <tr style=\"text-align: right;\">\n",
       "      <th></th>\n",
       "      <th>player</th>\n",
       "      <th>player_id</th>\n",
       "      <th>position</th>\n",
       "      <th>team_name</th>\n",
       "      <th>player_game_count</th>\n",
       "      <th>accuracy_percent</th>\n",
       "      <th>aimed_passes</th>\n",
       "      <th>attempts</th>\n",
       "      <th>avg_depth_of_target</th>\n",
       "      <th>avg_time_to_throw</th>\n",
       "      <th>bats</th>\n",
       "      <th>big_time_throws</th>\n",
       "      <th>btt_rate</th>\n",
       "      <th>completion_percent</th>\n",
       "      <th>completions</th>\n",
       "      <th>declined_penalties</th>\n",
       "      <th>def_gen_pressures</th>\n",
       "      <th>drop_rate</th>\n",
       "      <th>dropbacks</th>\n",
       "      <th>drops</th>\n",
       "      <th>first_downs</th>\n",
       "      <th>franchise_id</th>\n",
       "      <th>grades_hands_fumble</th>\n",
       "      <th>grades_offense</th>\n",
       "      <th>grades_pass</th>\n",
       "      <th>grades_run</th>\n",
       "      <th>hit_as_threw</th>\n",
       "      <th>interceptions</th>\n",
       "      <th>passing_snaps</th>\n",
       "      <th>penalties</th>\n",
       "      <th>pressure_to_sack_rate</th>\n",
       "      <th>qb_rating</th>\n",
       "      <th>sack_percent</th>\n",
       "      <th>sacks</th>\n",
       "      <th>scrambles</th>\n",
       "      <th>spikes</th>\n",
       "      <th>thrown_aways</th>\n",
       "      <th>touchdowns</th>\n",
       "      <th>turnover_worthy_plays</th>\n",
       "      <th>twp_rate</th>\n",
       "      <th>yards</th>\n",
       "      <th>ypa</th>\n",
       "    </tr>\n",
       "  </thead>\n",
       "  <tbody>\n",
       "    <tr>\n",
       "      <th>0</th>\n",
       "      <td>Brett Favre</td>\n",
       "      <td>14</td>\n",
       "      <td>QB</td>\n",
       "      <td>GB</td>\n",
       "      <td>16</td>\n",
       "      <td>66.2</td>\n",
       "      <td>583</td>\n",
       "      <td>613</td>\n",
       "      <td>9.0</td>\n",
       "      <td>2.52</td>\n",
       "      <td>12</td>\n",
       "      <td>22</td>\n",
       "      <td>3.4</td>\n",
       "      <td>56.0</td>\n",
       "      <td>343</td>\n",
       "      <td>1</td>\n",
       "      <td>162</td>\n",
       "      <td>11.1</td>\n",
       "      <td>638</td>\n",
       "      <td>43</td>\n",
       "      <td>188</td>\n",
       "      <td>12</td>\n",
       "      <td>74.6</td>\n",
       "      <td>55.7</td>\n",
       "      <td>57.4</td>\n",
       "      <td>31.3</td>\n",
       "      <td>4</td>\n",
       "      <td>18</td>\n",
       "      <td>665</td>\n",
       "      <td>2</td>\n",
       "      <td>13.0</td>\n",
       "      <td>72.8</td>\n",
       "      <td>3.3</td>\n",
       "      <td>21</td>\n",
       "      <td>4</td>\n",
       "      <td>2</td>\n",
       "      <td>12</td>\n",
       "      <td>18</td>\n",
       "      <td>27</td>\n",
       "      <td>4.1</td>\n",
       "      <td>3904</td>\n",
       "      <td>6.4</td>\n",
       "    </tr>\n",
       "    <tr>\n",
       "      <th>1</th>\n",
       "      <td>Jon Kitna</td>\n",
       "      <td>217</td>\n",
       "      <td>QB</td>\n",
       "      <td>DET</td>\n",
       "      <td>16</td>\n",
       "      <td>71.1</td>\n",
       "      <td>560</td>\n",
       "      <td>596</td>\n",
       "      <td>9.3</td>\n",
       "      <td>2.79</td>\n",
       "      <td>9</td>\n",
       "      <td>24</td>\n",
       "      <td>3.8</td>\n",
       "      <td>62.4</td>\n",
       "      <td>372</td>\n",
       "      <td>0</td>\n",
       "      <td>245</td>\n",
       "      <td>6.5</td>\n",
       "      <td>677</td>\n",
       "      <td>26</td>\n",
       "      <td>221</td>\n",
       "      <td>11</td>\n",
       "      <td>62.0</td>\n",
       "      <td>64.3</td>\n",
       "      <td>65.5</td>\n",
       "      <td>43.9</td>\n",
       "      <td>6</td>\n",
       "      <td>22</td>\n",
       "      <td>714</td>\n",
       "      <td>3</td>\n",
       "      <td>25.7</td>\n",
       "      <td>79.9</td>\n",
       "      <td>9.3</td>\n",
       "      <td>63</td>\n",
       "      <td>18</td>\n",
       "      <td>2</td>\n",
       "      <td>19</td>\n",
       "      <td>21</td>\n",
       "      <td>33</td>\n",
       "      <td>4.6</td>\n",
       "      <td>4209</td>\n",
       "      <td>7.1</td>\n",
       "    </tr>\n",
       "  </tbody>\n",
       "</table>\n",
       "</div>"
      ],
      "text/plain": [
       "        player  player_id position team_name  player_game_count  \\\n",
       "0  Brett Favre         14       QB        GB                 16   \n",
       "1    Jon Kitna        217       QB       DET                 16   \n",
       "\n",
       "   accuracy_percent  aimed_passes  attempts  avg_depth_of_target  \\\n",
       "0              66.2           583       613                  9.0   \n",
       "1              71.1           560       596                  9.3   \n",
       "\n",
       "   avg_time_to_throw  bats  big_time_throws  btt_rate  completion_percent  \\\n",
       "0               2.52    12               22       3.4                56.0   \n",
       "1               2.79     9               24       3.8                62.4   \n",
       "\n",
       "   completions  declined_penalties  def_gen_pressures  drop_rate  dropbacks  \\\n",
       "0          343                   1                162       11.1        638   \n",
       "1          372                   0                245        6.5        677   \n",
       "\n",
       "   drops  first_downs  franchise_id  grades_hands_fumble  grades_offense  \\\n",
       "0     43          188            12                 74.6            55.7   \n",
       "1     26          221            11                 62.0            64.3   \n",
       "\n",
       "   grades_pass  grades_run  hit_as_threw  interceptions  passing_snaps  \\\n",
       "0         57.4        31.3             4             18            665   \n",
       "1         65.5        43.9             6             22            714   \n",
       "\n",
       "   penalties  pressure_to_sack_rate  qb_rating  sack_percent  sacks  \\\n",
       "0          2                   13.0       72.8           3.3     21   \n",
       "1          3                   25.7       79.9           9.3     63   \n",
       "\n",
       "   scrambles  spikes  thrown_aways  touchdowns  turnover_worthy_plays  \\\n",
       "0          4       2            12          18                     27   \n",
       "1         18       2            19          21                     33   \n",
       "\n",
       "   twp_rate  yards  ypa  \n",
       "0       4.1   3904  6.4  \n",
       "1       4.6   4209  7.1  "
      ]
     },
     "execution_count": 3,
     "metadata": {},
     "output_type": "execute_result"
    }
   ],
   "source": [
    "# preview 2 QBs from 2006 season (passing stats)\n",
    "sample_df = pd.read_csv('../pass_data/2006.csv')\n",
    "sample_df.head(2)"
   ]
  },
  {
   "cell_type": "code",
   "execution_count": 4,
   "metadata": {
    "ExecuteTime": {
     "end_time": "2023-11-17T03:06:40.871141Z",
     "start_time": "2023-11-17T03:06:40.821096Z"
    }
   },
   "outputs": [
    {
     "data": {
      "text/html": [
       "<div>\n",
       "<style scoped>\n",
       "    .dataframe tbody tr th:only-of-type {\n",
       "        vertical-align: middle;\n",
       "    }\n",
       "\n",
       "    .dataframe tbody tr th {\n",
       "        vertical-align: top;\n",
       "    }\n",
       "\n",
       "    .dataframe thead th {\n",
       "        text-align: right;\n",
       "    }\n",
       "</style>\n",
       "<table border=\"1\" class=\"dataframe\">\n",
       "  <thead>\n",
       "    <tr style=\"text-align: right;\">\n",
       "      <th></th>\n",
       "      <th>player</th>\n",
       "      <th>player_id</th>\n",
       "      <th>position</th>\n",
       "      <th>team_name</th>\n",
       "      <th>player_game_count</th>\n",
       "      <th>attempts</th>\n",
       "      <th>avoided_tackles</th>\n",
       "      <th>breakaway_attempts</th>\n",
       "      <th>breakaway_percent</th>\n",
       "      <th>breakaway_yards</th>\n",
       "      <th>declined_penalties</th>\n",
       "      <th>designed_yards</th>\n",
       "      <th>drops</th>\n",
       "      <th>elu_recv_mtf</th>\n",
       "      <th>elu_rush_mtf</th>\n",
       "      <th>elu_yco</th>\n",
       "      <th>elusive_rating</th>\n",
       "      <th>explosive</th>\n",
       "      <th>first_downs</th>\n",
       "      <th>franchise_id</th>\n",
       "      <th>fumbles</th>\n",
       "      <th>gap_attempts</th>\n",
       "      <th>grades_hands_fumble</th>\n",
       "      <th>grades_offense</th>\n",
       "      <th>grades_offense_penalty</th>\n",
       "      <th>grades_pass</th>\n",
       "      <th>grades_pass_block</th>\n",
       "      <th>grades_pass_route</th>\n",
       "      <th>grades_run</th>\n",
       "      <th>grades_run_block</th>\n",
       "      <th>longest</th>\n",
       "      <th>penalties</th>\n",
       "      <th>rec_yards</th>\n",
       "      <th>receptions</th>\n",
       "      <th>routes</th>\n",
       "      <th>run_plays</th>\n",
       "      <th>scramble_yards</th>\n",
       "      <th>scrambles</th>\n",
       "      <th>targets</th>\n",
       "      <th>total_touches</th>\n",
       "      <th>touchdowns</th>\n",
       "      <th>yards</th>\n",
       "      <th>yards_after_contact</th>\n",
       "      <th>yco_attempt</th>\n",
       "      <th>ypa</th>\n",
       "      <th>yprr</th>\n",
       "      <th>zone_attempts</th>\n",
       "    </tr>\n",
       "  </thead>\n",
       "  <tbody>\n",
       "    <tr>\n",
       "      <th>43</th>\n",
       "      <td>Michael Vick</td>\n",
       "      <td>773</td>\n",
       "      <td>QB</td>\n",
       "      <td>ATL</td>\n",
       "      <td>16</td>\n",
       "      <td>50</td>\n",
       "      <td>17</td>\n",
       "      <td>6</td>\n",
       "      <td>10.8</td>\n",
       "      <td>112</td>\n",
       "      <td>1</td>\n",
       "      <td>280</td>\n",
       "      <td>0</td>\n",
       "      <td>0</td>\n",
       "      <td>5</td>\n",
       "      <td>85.0</td>\n",
       "      <td>16.7</td>\n",
       "      <td>44</td>\n",
       "      <td>55</td>\n",
       "      <td>2</td>\n",
       "      <td>9</td>\n",
       "      <td>11</td>\n",
       "      <td>43.8</td>\n",
       "      <td>66.5</td>\n",
       "      <td>64.9</td>\n",
       "      <td>57.8</td>\n",
       "      <td>61.3</td>\n",
       "      <td>60.0</td>\n",
       "      <td>84.8</td>\n",
       "      <td>60.1</td>\n",
       "      <td>51</td>\n",
       "      <td>3</td>\n",
       "      <td>1</td>\n",
       "      <td>1</td>\n",
       "      <td>1</td>\n",
       "      <td>448</td>\n",
       "      <td>759</td>\n",
       "      <td>73</td>\n",
       "      <td>1</td>\n",
       "      <td>51</td>\n",
       "      <td>2</td>\n",
       "      <td>1039</td>\n",
       "      <td>308</td>\n",
       "      <td>2.50</td>\n",
       "      <td>8.4</td>\n",
       "      <td>1.0</td>\n",
       "      <td>17</td>\n",
       "    </tr>\n",
       "    <tr>\n",
       "      <th>53</th>\n",
       "      <td>Vince Young</td>\n",
       "      <td>2948</td>\n",
       "      <td>QB</td>\n",
       "      <td>TEN</td>\n",
       "      <td>15</td>\n",
       "      <td>37</td>\n",
       "      <td>13</td>\n",
       "      <td>1</td>\n",
       "      <td>3.4</td>\n",
       "      <td>19</td>\n",
       "      <td>0</td>\n",
       "      <td>78</td>\n",
       "      <td>0</td>\n",
       "      <td>0</td>\n",
       "      <td>5</td>\n",
       "      <td>56.0</td>\n",
       "      <td>20.5</td>\n",
       "      <td>21</td>\n",
       "      <td>30</td>\n",
       "      <td>31</td>\n",
       "      <td>10</td>\n",
       "      <td>6</td>\n",
       "      <td>28.9</td>\n",
       "      <td>51.3</td>\n",
       "      <td>62.2</td>\n",
       "      <td>48.5</td>\n",
       "      <td>NaN</td>\n",
       "      <td>NaN</td>\n",
       "      <td>63.7</td>\n",
       "      <td>60.0</td>\n",
       "      <td>39</td>\n",
       "      <td>2</td>\n",
       "      <td>0</td>\n",
       "      <td>0</td>\n",
       "      <td>0</td>\n",
       "      <td>378</td>\n",
       "      <td>474</td>\n",
       "      <td>46</td>\n",
       "      <td>0</td>\n",
       "      <td>37</td>\n",
       "      <td>7</td>\n",
       "      <td>552</td>\n",
       "      <td>240</td>\n",
       "      <td>2.89</td>\n",
       "      <td>6.7</td>\n",
       "      <td>NaN</td>\n",
       "      <td>10</td>\n",
       "    </tr>\n",
       "  </tbody>\n",
       "</table>\n",
       "</div>"
      ],
      "text/plain": [
       "          player  player_id position team_name  player_game_count  attempts  \\\n",
       "43  Michael Vick        773       QB       ATL                 16        50   \n",
       "53   Vince Young       2948       QB       TEN                 15        37   \n",
       "\n",
       "    avoided_tackles  breakaway_attempts  breakaway_percent  breakaway_yards  \\\n",
       "43               17                   6               10.8              112   \n",
       "53               13                   1                3.4               19   \n",
       "\n",
       "    declined_penalties  designed_yards  drops  elu_recv_mtf  elu_rush_mtf  \\\n",
       "43                   1             280      0             0             5   \n",
       "53                   0              78      0             0             5   \n",
       "\n",
       "    elu_yco  elusive_rating  explosive  first_downs  franchise_id  fumbles  \\\n",
       "43     85.0            16.7         44           55             2        9   \n",
       "53     56.0            20.5         21           30            31       10   \n",
       "\n",
       "    gap_attempts  grades_hands_fumble  grades_offense  grades_offense_penalty  \\\n",
       "43            11                 43.8            66.5                    64.9   \n",
       "53             6                 28.9            51.3                    62.2   \n",
       "\n",
       "    grades_pass  grades_pass_block  grades_pass_route  grades_run  \\\n",
       "43         57.8               61.3               60.0        84.8   \n",
       "53         48.5                NaN                NaN        63.7   \n",
       "\n",
       "    grades_run_block  longest  penalties  rec_yards  receptions  routes  \\\n",
       "43              60.1       51          3          1           1       1   \n",
       "53              60.0       39          2          0           0       0   \n",
       "\n",
       "    run_plays  scramble_yards  scrambles  targets  total_touches  touchdowns  \\\n",
       "43        448             759         73        1             51           2   \n",
       "53        378             474         46        0             37           7   \n",
       "\n",
       "    yards  yards_after_contact  yco_attempt  ypa  yprr  zone_attempts  \n",
       "43   1039                  308         2.50  8.4   1.0             17  \n",
       "53    552                  240         2.89  6.7   NaN             10  "
      ]
     },
     "execution_count": 4,
     "metadata": {},
     "output_type": "execute_result"
    }
   ],
   "source": [
    "# preview 2 QBs from 2006 season (rushing stats)\n",
    "sample_df = pd.read_csv('../rush_data/2006.csv').query(\"position == 'QB'\")\n",
    "sample_df.head(2)"
   ]
  },
  {
   "cell_type": "markdown",
   "metadata": {},
   "source": [
    "### Columns to drop"
   ]
  },
  {
   "cell_type": "code",
   "execution_count": 5,
   "metadata": {
    "ExecuteTime": {
     "end_time": "2023-11-17T03:06:41.533546Z",
     "start_time": "2023-11-17T03:06:41.521536Z"
    }
   },
   "outputs": [],
   "source": [
    "# drop unnecessary/redundant stats from passing data\n",
    "pass_drops = ['player_id', 'position', 'declined_penalties', 'franchise_id', 'grades_run']"
   ]
  },
  {
   "cell_type": "code",
   "execution_count": 6,
   "metadata": {
    "ExecuteTime": {
     "end_time": "2023-11-17T03:06:41.956034Z",
     "start_time": "2023-11-17T03:06:41.941021Z"
    }
   },
   "outputs": [],
   "source": [
    "# drop unnecessary/redundant stats from rushing data. Also drop duplicate columns already contained in the passing data\n",
    "rush_drops = ['player_id', 'position', 'team_name', 'player_game_count', 'declined_penalties', 'drops', 'franchise_id', \n",
    "              'grades_hands_fumble', 'grades_offense', 'grades_pass','grades_pass_block', 'grades_pass_route', \n",
    "              'grades_run_block', 'penalties', 'rec_yards', 'receptions', 'routes', 'scrambles', 'targets', 'yprr']"
   ]
  },
  {
   "cell_type": "markdown",
   "metadata": {},
   "source": [
    "- Dropping features that won't impact on our predictions. This includes player_id, position (everyone is a QB) and franchise_id.\n",
    "- Also dropping duplicate columns that appear in both the passing and rushing data."
   ]
  },
  {
   "cell_type": "markdown",
   "metadata": {},
   "source": [
    "### Passing data"
   ]
  },
  {
   "cell_type": "code",
   "execution_count": 7,
   "metadata": {
    "ExecuteTime": {
     "end_time": "2023-11-17T03:06:43.211898Z",
     "start_time": "2023-11-17T03:06:42.922060Z"
    }
   },
   "outputs": [],
   "source": [
    "# get all csv files in the 'pass_data' directory\n",
    "file_paths = [os.path.join('../pass_data', file) for file in os.listdir('../pass_data') if file.endswith('.csv')]\n",
    "\n",
    "# list to hold all 18 pass_dfs\n",
    "pass_dfs = []\n",
    "\n",
    "# read each file into a dataframe\n",
    "for file_path in file_paths:\n",
    "    \n",
    "    # get year as string from filename\n",
    "    year = file_path[-8:-4]\n",
    "    \n",
    "    # load each season into a df, get QBs, drop specified columns, set player name as index\n",
    "    pass_data = pd.read_csv(file_path).query(\"position == 'QB'\").drop(pass_drops, axis=1)\n",
    "    \n",
    "    # add 'pass' to cols to indicate passing stat\n",
    "    pass_data.columns = ['player', 'team_name', 'player_game_count'] + ['pass_' + col for col in pass_data.columns[3:]]\n",
    "    \n",
    "    # add year column\n",
    "    pass_data['year'] = year\n",
    "    \n",
    "    # add df to list\n",
    "    pass_dfs.append(pass_data)"
   ]
  },
  {
   "cell_type": "code",
   "execution_count": 8,
   "metadata": {
    "ExecuteTime": {
     "end_time": "2023-11-17T03:06:43.923551Z",
     "start_time": "2023-11-17T03:06:43.905536Z"
    }
   },
   "outputs": [
    {
     "data": {
      "text/plain": [
       "((70, 38), (81, 38))"
      ]
     },
     "execution_count": 8,
     "metadata": {},
     "output_type": "execute_result"
    }
   ],
   "source": [
    "# look at 2006 and 2007 seasons\n",
    "pass_dfs[0].shape, pass_dfs[1].shape"
   ]
  },
  {
   "cell_type": "markdown",
   "metadata": {},
   "source": [
    "- A single season of passing data contains 38 columns.\n",
    "- The 2006 season has passing statistics for 70 unique QBs, the 2007 season has 81."
   ]
  },
  {
   "cell_type": "markdown",
   "metadata": {},
   "source": [
    "### Rushing data"
   ]
  },
  {
   "cell_type": "code",
   "execution_count": 10,
   "metadata": {
    "ExecuteTime": {
     "end_time": "2023-11-17T03:07:45.156871Z",
     "start_time": "2023-11-17T03:07:44.846459Z"
    }
   },
   "outputs": [],
   "source": [
    "# get all csv files in the 'rush_data' directory\n",
    "file_paths = [os.path.join('../rush_data', file) for file in os.listdir('../rush_data') if file.endswith('.csv')]\n",
    "\n",
    "# list to hold all 18 rush_dfs\n",
    "rush_dfs = []\n",
    "\n",
    "# read each file into a dataframe\n",
    "for file_path in file_paths:\n",
    "    \n",
    "    # get year as string from filename\n",
    "    year = file_path[-8:-4]\n",
    "    \n",
    "    # load each season into a df, get QBs, drop specified columns, set player name as index\n",
    "    rush_data = pd.read_csv(file_path).query(\"position == 'QB'\").drop(rush_drops, axis=1)\n",
    "    \n",
    "    # add 'rush' to cols to indicate rushing stat\n",
    "    rush_data.columns = ['player'] + ['rush_' + col for col in rush_data.columns[1:]]\n",
    "    \n",
    "    # add year column\n",
    "    rush_data['year'] = year\n",
    "    \n",
    "    # add df to list\n",
    "    rush_dfs.append(rush_data)"
   ]
  },
  {
   "cell_type": "code",
   "execution_count": 11,
   "metadata": {
    "ExecuteTime": {
     "end_time": "2023-11-17T03:07:48.321477Z",
     "start_time": "2023-11-17T03:07:48.307464Z"
    }
   },
   "outputs": [
    {
     "data": {
      "text/plain": [
       "((68, 28), (79, 28))"
      ]
     },
     "execution_count": 11,
     "metadata": {},
     "output_type": "execute_result"
    }
   ],
   "source": [
    "# look at 2006 and 2007 seasons\n",
    "rush_dfs[0].shape, rush_dfs[1].shape"
   ]
  },
  {
   "cell_type": "markdown",
   "metadata": {},
   "source": [
    "- A single season of rushing data contains 28 columns.\n",
    "- The 2006 season has rushing statistics for 68 unique QBs, the 2007 season has 79."
   ]
  },
  {
   "cell_type": "markdown",
   "metadata": {},
   "source": [
    "### Merge pass and rush dfs"
   ]
  },
  {
   "cell_type": "code",
   "execution_count": 12,
   "metadata": {
    "ExecuteTime": {
     "end_time": "2023-11-17T03:08:04.960760Z",
     "start_time": "2023-11-17T03:08:04.929733Z"
    }
   },
   "outputs": [
    {
     "data": {
      "text/plain": [
       "(0, 288)"
      ]
     },
     "execution_count": 12,
     "metadata": {},
     "output_type": "execute_result"
    }
   ],
   "source": [
    "# stack 18 passing dataframes together\n",
    "pass_df = pd.concat(pass_dfs, axis=0)\n",
    "\n",
    "# duplicate players, unique QBs\n",
    "pass_df.duplicated().sum(), pass_df['player'].nunique()"
   ]
  },
  {
   "cell_type": "markdown",
   "metadata": {},
   "source": [
    "- No duplicate players.\n",
    "- 288 unique NFL quarterbacks."
   ]
  },
  {
   "cell_type": "code",
   "execution_count": 13,
   "metadata": {
    "ExecuteTime": {
     "end_time": "2023-11-17T03:08:07.604443Z",
     "start_time": "2023-11-17T03:08:07.573435Z"
    }
   },
   "outputs": [
    {
     "data": {
      "text/plain": [
       "(0, 277)"
      ]
     },
     "execution_count": 13,
     "metadata": {},
     "output_type": "execute_result"
    }
   ],
   "source": [
    "# stack 18 rushing dataframes together\n",
    "rush_df = pd.concat(rush_dfs, axis=0)\n",
    "\n",
    "# duplicate players, unique QBs\n",
    "rush_df = rush_df.drop_duplicates()\n",
    "rush_df.duplicated().sum(), rush_df['player'].nunique()"
   ]
  },
  {
   "cell_type": "markdown",
   "metadata": {},
   "source": [
    "- No duplicate players.\n",
    "- 275 unique NFL quarterbacks."
   ]
  },
  {
   "cell_type": "markdown",
   "metadata": {},
   "source": [
    "### Create master df"
   ]
  },
  {
   "cell_type": "code",
   "execution_count": 14,
   "metadata": {
    "ExecuteTime": {
     "end_time": "2023-11-17T03:08:24.901093Z",
     "start_time": "2023-11-17T03:08:24.884078Z"
    }
   },
   "outputs": [
    {
     "data": {
      "text/plain": [
       "((1306, 38), (1254, 28))"
      ]
     },
     "execution_count": 14,
     "metadata": {},
     "output_type": "execute_result"
    }
   ],
   "source": [
    "pass_df.shape, rush_df.shape"
   ]
  },
  {
   "cell_type": "code",
   "execution_count": 15,
   "metadata": {
    "ExecuteTime": {
     "end_time": "2023-11-17T03:08:42.219411Z",
     "start_time": "2023-11-17T03:08:42.203398Z"
    }
   },
   "outputs": [
    {
     "data": {
      "text/plain": [
       "((1306, 64), 288)"
      ]
     },
     "execution_count": 15,
     "metadata": {},
     "output_type": "execute_result"
    }
   ],
   "source": [
    "# left join to ensure we have players with passing data, as this is more important than rushing data\n",
    "df = pass_df.merge(rush_df, on=['player', 'year'], how='left')\n",
    "\n",
    "df.shape, len(set(df.player))"
   ]
  },
  {
   "cell_type": "markdown",
   "metadata": {},
   "source": [
    "- 1306 QB seasons, 64 columns, 288 unique QBs."
   ]
  },
  {
   "cell_type": "markdown",
   "metadata": {},
   "source": [
    "# Passing TDs and Yds per game\n",
    "- Adding this feature. Total touchdowns/yards are great indicators of performance, but normalizing them (dividing by games played) can avoid punishing players who get injured or miss games for other reasons."
   ]
  },
  {
   "cell_type": "code",
   "execution_count": 17,
   "metadata": {
    "ExecuteTime": {
     "end_time": "2023-11-17T03:10:04.065312Z",
     "start_time": "2023-11-17T03:10:04.058306Z"
    }
   },
   "outputs": [],
   "source": [
    "# add column\n",
    "df['pass_tds_gm'] = df['pass_touchdowns'] / df['player_game_count']"
   ]
  },
  {
   "cell_type": "code",
   "execution_count": 18,
   "metadata": {
    "ExecuteTime": {
     "end_time": "2023-11-17T03:10:05.773790Z",
     "start_time": "2023-11-17T03:10:05.760778Z"
    }
   },
   "outputs": [],
   "source": [
    "# add column\n",
    "df['pass_yds_gm'] = df['pass_yards'] / df['player_game_count']"
   ]
  },
  {
   "cell_type": "markdown",
   "metadata": {},
   "source": [
    "# Experience\n",
    "- Adding a feature \"exp\" to represent the player's __years of experience__. For example, a rookie quarterback would have exp=0. "
   ]
  },
  {
   "cell_type": "markdown",
   "metadata": {},
   "source": [
    "### QBs who have 2006 data\n",
    "- Most of these QBs are not rookies.\n",
    "- Through external research, I manually found the experience of players in the 2006 season. "
   ]
  },
  {
   "cell_type": "code",
   "execution_count": 19,
   "metadata": {
    "ExecuteTime": {
     "end_time": "2023-11-17T03:12:06.103186Z",
     "start_time": "2023-11-17T03:12:06.084170Z"
    }
   },
   "outputs": [],
   "source": [
    "# manual input found from research\n",
    "qbs_2006_exp = [15, 10, 6, 8, 5, 2, 3, 6, 6, 3, 2, 11, 2, 4, 1, 14, 9, 2, 1, 4, 5, 0, 8, 0, 3, 0, 9, 7, 1, 13, 10, 4, 1, 13, 7, \n",
    "               7, 3, 12, 13, 3, 0, 7, 1, 3, 6, 5, 11, 0, 4, 3, 8, 5, 5, 8, 2, 13, 4, 3, 1, 5, 0, 1, 0, 19, 12, 7, 6, 3, 4, 0]\n",
    "\n",
    "# append NaNs to fill out list for all non-2006 players\n",
    "for _ in range(len(df) - len(qbs_2006_exp)):\n",
    "    qbs_2006_exp.append(np.nan)"
   ]
  },
  {
   "cell_type": "markdown",
   "metadata": {},
   "source": [
    "### Add experience col"
   ]
  },
  {
   "cell_type": "code",
   "execution_count": 20,
   "metadata": {
    "ExecuteTime": {
     "end_time": "2023-11-17T03:12:10.018185Z",
     "start_time": "2023-11-17T03:12:10.003174Z"
    }
   },
   "outputs": [
    {
     "data": {
      "text/html": [
       "<div>\n",
       "<style scoped>\n",
       "    .dataframe tbody tr th:only-of-type {\n",
       "        vertical-align: middle;\n",
       "    }\n",
       "\n",
       "    .dataframe tbody tr th {\n",
       "        vertical-align: top;\n",
       "    }\n",
       "\n",
       "    .dataframe thead th {\n",
       "        text-align: right;\n",
       "    }\n",
       "</style>\n",
       "<table border=\"1\" class=\"dataframe\">\n",
       "  <thead>\n",
       "    <tr style=\"text-align: right;\">\n",
       "      <th></th>\n",
       "      <th>player</th>\n",
       "      <th>exp</th>\n",
       "      <th>year</th>\n",
       "    </tr>\n",
       "  </thead>\n",
       "  <tbody>\n",
       "    <tr>\n",
       "      <th>0</th>\n",
       "      <td>Brett Favre</td>\n",
       "      <td>15.0</td>\n",
       "      <td>2006</td>\n",
       "    </tr>\n",
       "    <tr>\n",
       "      <th>1</th>\n",
       "      <td>Jon Kitna</td>\n",
       "      <td>10.0</td>\n",
       "      <td>2006</td>\n",
       "    </tr>\n",
       "    <tr>\n",
       "      <th>2</th>\n",
       "      <td>Marc Bulger</td>\n",
       "      <td>6.0</td>\n",
       "      <td>2006</td>\n",
       "    </tr>\n",
       "    <tr>\n",
       "      <th>3</th>\n",
       "      <td>Peyton Manning</td>\n",
       "      <td>8.0</td>\n",
       "      <td>2006</td>\n",
       "    </tr>\n",
       "    <tr>\n",
       "      <th>4</th>\n",
       "      <td>Drew Brees</td>\n",
       "      <td>5.0</td>\n",
       "      <td>2006</td>\n",
       "    </tr>\n",
       "    <tr>\n",
       "      <th>...</th>\n",
       "      <td>...</td>\n",
       "      <td>...</td>\n",
       "      <td>...</td>\n",
       "    </tr>\n",
       "    <tr>\n",
       "      <th>1301</th>\n",
       "      <td>C.J. Beathard</td>\n",
       "      <td>NaN</td>\n",
       "      <td>2023</td>\n",
       "    </tr>\n",
       "    <tr>\n",
       "      <th>1302</th>\n",
       "      <td>Sam Darnold</td>\n",
       "      <td>NaN</td>\n",
       "      <td>2023</td>\n",
       "    </tr>\n",
       "    <tr>\n",
       "      <th>1303</th>\n",
       "      <td>Mike White</td>\n",
       "      <td>NaN</td>\n",
       "      <td>2023</td>\n",
       "    </tr>\n",
       "    <tr>\n",
       "      <th>1304</th>\n",
       "      <td>Aaron Rodgers</td>\n",
       "      <td>NaN</td>\n",
       "      <td>2023</td>\n",
       "    </tr>\n",
       "    <tr>\n",
       "      <th>1305</th>\n",
       "      <td>Jake Browning</td>\n",
       "      <td>NaN</td>\n",
       "      <td>2023</td>\n",
       "    </tr>\n",
       "  </tbody>\n",
       "</table>\n",
       "<p>1306 rows × 3 columns</p>\n",
       "</div>"
      ],
      "text/plain": [
       "              player   exp  year\n",
       "0        Brett Favre  15.0  2006\n",
       "1          Jon Kitna  10.0  2006\n",
       "2        Marc Bulger   6.0  2006\n",
       "3     Peyton Manning   8.0  2006\n",
       "4         Drew Brees   5.0  2006\n",
       "...              ...   ...   ...\n",
       "1301   C.J. Beathard   NaN  2023\n",
       "1302     Sam Darnold   NaN  2023\n",
       "1303      Mike White   NaN  2023\n",
       "1304   Aaron Rodgers   NaN  2023\n",
       "1305   Jake Browning   NaN  2023\n",
       "\n",
       "[1306 rows x 3 columns]"
      ]
     },
     "execution_count": 20,
     "metadata": {},
     "output_type": "execute_result"
    }
   ],
   "source": [
    "# add experience col to df\n",
    "df['exp'] = qbs_2006_exp\n",
    "\n",
    "# check\n",
    "df[['player', 'exp', 'year']]"
   ]
  },
  {
   "cell_type": "markdown",
   "metadata": {},
   "source": [
    "- QBs who played in 2006 season have an \"exp\" value, non-2006 QBs have NaN value."
   ]
  },
  {
   "cell_type": "code",
   "execution_count": 21,
   "metadata": {
    "ExecuteTime": {
     "end_time": "2023-11-17T03:12:59.569382Z",
     "start_time": "2023-11-17T03:12:59.289113Z"
    }
   },
   "outputs": [],
   "source": [
    "# function to fill in experience column\n",
    "def fill_experience(group):\n",
    "    # get first experience value for a player\n",
    "    first_exp = group['exp'].iloc[0]\n",
    "    \n",
    "    # if value is null, set to 0 (rookie season)\n",
    "    if pd.isna(first_exp):\n",
    "        first_exp = 0\n",
    "    \n",
    "    # define range of years to fill each player's experience column\n",
    "    experience = range(int(first_exp), int(first_exp) + len(group))\n",
    "    group['exp'] = list(experience)\n",
    "    return group\n",
    "\n",
    "# group by index and fill experience values, drop multi-index\n",
    "df = df.groupby('player').apply(fill_experience).droplevel(0)"
   ]
  },
  {
   "cell_type": "code",
   "execution_count": 22,
   "metadata": {
    "ExecuteTime": {
     "end_time": "2023-11-17T03:13:00.180979Z",
     "start_time": "2023-11-17T03:13:00.157959Z"
    }
   },
   "outputs": [
    {
     "data": {
      "text/html": [
       "<div>\n",
       "<style scoped>\n",
       "    .dataframe tbody tr th:only-of-type {\n",
       "        vertical-align: middle;\n",
       "    }\n",
       "\n",
       "    .dataframe tbody tr th {\n",
       "        vertical-align: top;\n",
       "    }\n",
       "\n",
       "    .dataframe thead th {\n",
       "        text-align: right;\n",
       "    }\n",
       "</style>\n",
       "<table border=\"1\" class=\"dataframe\">\n",
       "  <thead>\n",
       "    <tr style=\"text-align: right;\">\n",
       "      <th></th>\n",
       "      <th>player</th>\n",
       "      <th>year</th>\n",
       "      <th>exp</th>\n",
       "    </tr>\n",
       "  </thead>\n",
       "  <tbody>\n",
       "    <tr>\n",
       "      <th>853</th>\n",
       "      <td>Patrick Mahomes</td>\n",
       "      <td>2017</td>\n",
       "      <td>0</td>\n",
       "    </tr>\n",
       "    <tr>\n",
       "      <th>875</th>\n",
       "      <td>Patrick Mahomes</td>\n",
       "      <td>2018</td>\n",
       "      <td>1</td>\n",
       "    </tr>\n",
       "    <tr>\n",
       "      <th>956</th>\n",
       "      <td>Patrick Mahomes</td>\n",
       "      <td>2019</td>\n",
       "      <td>2</td>\n",
       "    </tr>\n",
       "    <tr>\n",
       "      <th>1012</th>\n",
       "      <td>Patrick Mahomes</td>\n",
       "      <td>2020</td>\n",
       "      <td>3</td>\n",
       "    </tr>\n",
       "    <tr>\n",
       "      <th>1090</th>\n",
       "      <td>Patrick Mahomes</td>\n",
       "      <td>2021</td>\n",
       "      <td>4</td>\n",
       "    </tr>\n",
       "    <tr>\n",
       "      <th>1166</th>\n",
       "      <td>Patrick Mahomes</td>\n",
       "      <td>2022</td>\n",
       "      <td>5</td>\n",
       "    </tr>\n",
       "    <tr>\n",
       "      <th>1250</th>\n",
       "      <td>Patrick Mahomes</td>\n",
       "      <td>2023</td>\n",
       "      <td>6</td>\n",
       "    </tr>\n",
       "  </tbody>\n",
       "</table>\n",
       "</div>"
      ],
      "text/plain": [
       "               player  year  exp\n",
       "853   Patrick Mahomes  2017    0\n",
       "875   Patrick Mahomes  2018    1\n",
       "956   Patrick Mahomes  2019    2\n",
       "1012  Patrick Mahomes  2020    3\n",
       "1090  Patrick Mahomes  2021    4\n",
       "1166  Patrick Mahomes  2022    5\n",
       "1250  Patrick Mahomes  2023    6"
      ]
     },
     "execution_count": 22,
     "metadata": {},
     "output_type": "execute_result"
    }
   ],
   "source": [
    "# check\n",
    "df[df['player'] == 'Patrick Mahomes'][['player', 'year', 'exp']]"
   ]
  },
  {
   "cell_type": "markdown",
   "metadata": {},
   "source": [
    "- All players now have a corresponding experience for each of their seasons."
   ]
  },
  {
   "cell_type": "markdown",
   "metadata": {},
   "source": [
    "# Past performance\n",
    "- Engineer two features that capture a QB's historical performance over their career (all past seasons and their current season).\n",
    "- I will look at each player's offensive grade over their 3 most recent seasons, and use the mean (capturing peformance) along with the standard deviation (capturing consistency)."
   ]
  },
  {
   "cell_type": "code",
   "execution_count": 24,
   "metadata": {
    "ExecuteTime": {
     "end_time": "2023-11-17T03:14:06.079046Z",
     "start_time": "2023-11-17T03:14:06.064032Z"
    }
   },
   "outputs": [
    {
     "data": {
      "text/html": [
       "<div>\n",
       "<style scoped>\n",
       "    .dataframe tbody tr th:only-of-type {\n",
       "        vertical-align: middle;\n",
       "    }\n",
       "\n",
       "    .dataframe tbody tr th {\n",
       "        vertical-align: top;\n",
       "    }\n",
       "\n",
       "    .dataframe thead th {\n",
       "        text-align: right;\n",
       "    }\n",
       "</style>\n",
       "<table border=\"1\" class=\"dataframe\">\n",
       "  <thead>\n",
       "    <tr style=\"text-align: right;\">\n",
       "      <th></th>\n",
       "      <th>player</th>\n",
       "      <th>year</th>\n",
       "      <th>exp</th>\n",
       "    </tr>\n",
       "  </thead>\n",
       "  <tbody>\n",
       "    <tr>\n",
       "      <th>0</th>\n",
       "      <td>A.J. Feeley</td>\n",
       "      <td>2006</td>\n",
       "      <td>5</td>\n",
       "    </tr>\n",
       "    <tr>\n",
       "      <th>1</th>\n",
       "      <td>A.J. Feeley</td>\n",
       "      <td>2007</td>\n",
       "      <td>6</td>\n",
       "    </tr>\n",
       "    <tr>\n",
       "      <th>2</th>\n",
       "      <td>A.J. Feeley</td>\n",
       "      <td>2011</td>\n",
       "      <td>7</td>\n",
       "    </tr>\n",
       "    <tr>\n",
       "      <th>3</th>\n",
       "      <td>A.J. McCarron</td>\n",
       "      <td>2015</td>\n",
       "      <td>0</td>\n",
       "    </tr>\n",
       "    <tr>\n",
       "      <th>4</th>\n",
       "      <td>A.J. McCarron</td>\n",
       "      <td>2017</td>\n",
       "      <td>1</td>\n",
       "    </tr>\n",
       "  </tbody>\n",
       "</table>\n",
       "</div>"
      ],
      "text/plain": [
       "          player  year  exp\n",
       "0    A.J. Feeley  2006    5\n",
       "1    A.J. Feeley  2007    6\n",
       "2    A.J. Feeley  2011    7\n",
       "3  A.J. McCarron  2015    0\n",
       "4  A.J. McCarron  2017    1"
      ]
     },
     "execution_count": 24,
     "metadata": {},
     "output_type": "execute_result"
    }
   ],
   "source": [
    "# ensure values are sorted properly\n",
    "df = df.sort_values(by=['player', 'exp']).reset_index(drop=True)\n",
    "df[['player', 'year', 'exp']].head()"
   ]
  },
  {
   "cell_type": "code",
   "execution_count": 25,
   "metadata": {
    "ExecuteTime": {
     "end_time": "2023-11-17T03:14:55.867071Z",
     "start_time": "2023-11-17T03:14:55.759979Z"
    }
   },
   "outputs": [],
   "source": [
    "# use current season's offensive grade + 2 previous seasons\n",
    "window_size = 3\n",
    "\n",
    "# calculate rolling mean and std\n",
    "# 'min_periods=1' ensures we calculate statistics even if there's only one past season. drop multi-index with droplevel()\n",
    "df['rolling_mean'] = df.groupby('player')['pass_grades_offense'].apply(\n",
    "    lambda x: x.rolling(window=window_size, min_periods=1).mean()).droplevel(0)\n",
    "df['rolling_std'] = df.groupby('player')['pass_grades_offense'].apply(\n",
    "    lambda x: x.rolling(window=window_size, min_periods=1).std()).droplevel(0)\n",
    "\n",
    "# handle NaN values\n",
    "df['rolling_mean'].fillna(0, inplace=True)\n",
    "df['rolling_std'].fillna(0, inplace=True)"
   ]
  },
  {
   "cell_type": "code",
   "execution_count": 27,
   "metadata": {
    "ExecuteTime": {
     "end_time": "2023-11-17T03:15:13.876980Z",
     "start_time": "2023-11-17T03:15:13.857963Z"
    }
   },
   "outputs": [
    {
     "data": {
      "text/html": [
       "<div>\n",
       "<style scoped>\n",
       "    .dataframe tbody tr th:only-of-type {\n",
       "        vertical-align: middle;\n",
       "    }\n",
       "\n",
       "    .dataframe tbody tr th {\n",
       "        vertical-align: top;\n",
       "    }\n",
       "\n",
       "    .dataframe thead th {\n",
       "        text-align: right;\n",
       "    }\n",
       "</style>\n",
       "<table border=\"1\" class=\"dataframe\">\n",
       "  <thead>\n",
       "    <tr style=\"text-align: right;\">\n",
       "      <th></th>\n",
       "      <th>player</th>\n",
       "      <th>year</th>\n",
       "      <th>pass_grades_offense</th>\n",
       "      <th>rolling_mean</th>\n",
       "      <th>rolling_std</th>\n",
       "    </tr>\n",
       "  </thead>\n",
       "  <tbody>\n",
       "    <tr>\n",
       "      <th>993</th>\n",
       "      <td>Patrick Mahomes</td>\n",
       "      <td>2017</td>\n",
       "      <td>72.6</td>\n",
       "      <td>72.600000</td>\n",
       "      <td>0.000000</td>\n",
       "    </tr>\n",
       "    <tr>\n",
       "      <th>994</th>\n",
       "      <td>Patrick Mahomes</td>\n",
       "      <td>2018</td>\n",
       "      <td>93.2</td>\n",
       "      <td>82.900000</td>\n",
       "      <td>14.566400</td>\n",
       "    </tr>\n",
       "    <tr>\n",
       "      <th>995</th>\n",
       "      <td>Patrick Mahomes</td>\n",
       "      <td>2019</td>\n",
       "      <td>83.6</td>\n",
       "      <td>83.133333</td>\n",
       "      <td>10.307926</td>\n",
       "    </tr>\n",
       "    <tr>\n",
       "      <th>996</th>\n",
       "      <td>Patrick Mahomes</td>\n",
       "      <td>2020</td>\n",
       "      <td>91.4</td>\n",
       "      <td>89.400000</td>\n",
       "      <td>5.102940</td>\n",
       "    </tr>\n",
       "    <tr>\n",
       "      <th>997</th>\n",
       "      <td>Patrick Mahomes</td>\n",
       "      <td>2021</td>\n",
       "      <td>77.1</td>\n",
       "      <td>84.033333</td>\n",
       "      <td>7.159842</td>\n",
       "    </tr>\n",
       "    <tr>\n",
       "      <th>998</th>\n",
       "      <td>Patrick Mahomes</td>\n",
       "      <td>2022</td>\n",
       "      <td>91.3</td>\n",
       "      <td>86.600000</td>\n",
       "      <td>8.227393</td>\n",
       "    </tr>\n",
       "    <tr>\n",
       "      <th>999</th>\n",
       "      <td>Patrick Mahomes</td>\n",
       "      <td>2023</td>\n",
       "      <td>87.1</td>\n",
       "      <td>85.166667</td>\n",
       "      <td>7.294747</td>\n",
       "    </tr>\n",
       "  </tbody>\n",
       "</table>\n",
       "</div>"
      ],
      "text/plain": [
       "              player  year  pass_grades_offense  rolling_mean  rolling_std\n",
       "993  Patrick Mahomes  2017                 72.6     72.600000     0.000000\n",
       "994  Patrick Mahomes  2018                 93.2     82.900000    14.566400\n",
       "995  Patrick Mahomes  2019                 83.6     83.133333    10.307926\n",
       "996  Patrick Mahomes  2020                 91.4     89.400000     5.102940\n",
       "997  Patrick Mahomes  2021                 77.1     84.033333     7.159842\n",
       "998  Patrick Mahomes  2022                 91.3     86.600000     8.227393\n",
       "999  Patrick Mahomes  2023                 87.1     85.166667     7.294747"
      ]
     },
     "execution_count": 27,
     "metadata": {},
     "output_type": "execute_result"
    }
   ],
   "source": [
    "# check\n",
    "df[df['player'] == 'Patrick Mahomes'][['player', 'year', 'pass_grades_offense', 'rolling_mean', 'rolling_std']]"
   ]
  },
  {
   "cell_type": "markdown",
   "metadata": {},
   "source": [
    "- Now we have two more engineered features that look at a QBs recent performance.\n",
    "- Hopefully, this will give our models insight during the training process."
   ]
  },
  {
   "cell_type": "markdown",
   "metadata": {},
   "source": [
    "# Nulls"
   ]
  },
  {
   "cell_type": "code",
   "execution_count": 28,
   "metadata": {
    "ExecuteTime": {
     "end_time": "2023-11-17T03:16:34.100537Z",
     "start_time": "2023-11-17T03:16:34.063503Z"
    }
   },
   "outputs": [
    {
     "data": {
      "text/html": [
       "<div>\n",
       "<style scoped>\n",
       "    .dataframe tbody tr th:only-of-type {\n",
       "        vertical-align: middle;\n",
       "    }\n",
       "\n",
       "    .dataframe tbody tr th {\n",
       "        vertical-align: top;\n",
       "    }\n",
       "\n",
       "    .dataframe thead th {\n",
       "        text-align: right;\n",
       "    }\n",
       "</style>\n",
       "<table border=\"1\" class=\"dataframe\">\n",
       "  <thead>\n",
       "    <tr style=\"text-align: right;\">\n",
       "      <th></th>\n",
       "      <th>player</th>\n",
       "      <th>team_name</th>\n",
       "      <th>player_game_count</th>\n",
       "      <th>pass_accuracy_percent</th>\n",
       "      <th>pass_aimed_passes</th>\n",
       "      <th>pass_attempts</th>\n",
       "      <th>pass_avg_depth_of_target</th>\n",
       "      <th>pass_avg_time_to_throw</th>\n",
       "      <th>pass_bats</th>\n",
       "      <th>pass_big_time_throws</th>\n",
       "      <th>pass_btt_rate</th>\n",
       "      <th>pass_completion_percent</th>\n",
       "      <th>pass_completions</th>\n",
       "      <th>pass_def_gen_pressures</th>\n",
       "      <th>pass_drop_rate</th>\n",
       "      <th>pass_dropbacks</th>\n",
       "      <th>pass_drops</th>\n",
       "      <th>pass_first_downs</th>\n",
       "      <th>pass_grades_hands_fumble</th>\n",
       "      <th>pass_grades_offense</th>\n",
       "      <th>pass_grades_pass</th>\n",
       "      <th>pass_hit_as_threw</th>\n",
       "      <th>pass_interceptions</th>\n",
       "      <th>pass_passing_snaps</th>\n",
       "      <th>pass_penalties</th>\n",
       "      <th>pass_pressure_to_sack_rate</th>\n",
       "      <th>pass_qb_rating</th>\n",
       "      <th>pass_sack_percent</th>\n",
       "      <th>pass_sacks</th>\n",
       "      <th>pass_scrambles</th>\n",
       "      <th>pass_spikes</th>\n",
       "      <th>pass_thrown_aways</th>\n",
       "      <th>pass_touchdowns</th>\n",
       "      <th>pass_turnover_worthy_plays</th>\n",
       "      <th>pass_twp_rate</th>\n",
       "      <th>pass_yards</th>\n",
       "      <th>pass_ypa</th>\n",
       "      <th>year</th>\n",
       "      <th>rush_attempts</th>\n",
       "      <th>rush_avoided_tackles</th>\n",
       "      <th>rush_breakaway_attempts</th>\n",
       "      <th>rush_breakaway_percent</th>\n",
       "      <th>rush_breakaway_yards</th>\n",
       "      <th>rush_designed_yards</th>\n",
       "      <th>rush_elu_recv_mtf</th>\n",
       "      <th>rush_elu_rush_mtf</th>\n",
       "      <th>rush_elu_yco</th>\n",
       "      <th>rush_elusive_rating</th>\n",
       "      <th>rush_explosive</th>\n",
       "      <th>rush_first_downs</th>\n",
       "      <th>rush_fumbles</th>\n",
       "      <th>rush_gap_attempts</th>\n",
       "      <th>rush_grades_offense_penalty</th>\n",
       "      <th>rush_grades_run</th>\n",
       "      <th>rush_longest</th>\n",
       "      <th>rush_run_plays</th>\n",
       "      <th>rush_scramble_yards</th>\n",
       "      <th>rush_total_touches</th>\n",
       "      <th>rush_touchdowns</th>\n",
       "      <th>rush_yards</th>\n",
       "      <th>rush_yards_after_contact</th>\n",
       "      <th>rush_yco_attempt</th>\n",
       "      <th>rush_ypa</th>\n",
       "      <th>rush_zone_attempts</th>\n",
       "      <th>pass_tds_gm</th>\n",
       "      <th>pass_yds_gm</th>\n",
       "      <th>exp</th>\n",
       "      <th>rolling_mean</th>\n",
       "      <th>rolling_std</th>\n",
       "    </tr>\n",
       "  </thead>\n",
       "  <tbody>\n",
       "    <tr>\n",
       "      <th>0</th>\n",
       "      <td>0</td>\n",
       "      <td>0</td>\n",
       "      <td>0</td>\n",
       "      <td>2</td>\n",
       "      <td>0</td>\n",
       "      <td>0</td>\n",
       "      <td>2</td>\n",
       "      <td>0</td>\n",
       "      <td>0</td>\n",
       "      <td>0</td>\n",
       "      <td>0</td>\n",
       "      <td>0</td>\n",
       "      <td>0</td>\n",
       "      <td>0</td>\n",
       "      <td>17</td>\n",
       "      <td>0</td>\n",
       "      <td>0</td>\n",
       "      <td>0</td>\n",
       "      <td>0</td>\n",
       "      <td>0</td>\n",
       "      <td>0</td>\n",
       "      <td>0</td>\n",
       "      <td>0</td>\n",
       "      <td>0</td>\n",
       "      <td>0</td>\n",
       "      <td>40</td>\n",
       "      <td>0</td>\n",
       "      <td>0</td>\n",
       "      <td>0</td>\n",
       "      <td>0</td>\n",
       "      <td>0</td>\n",
       "      <td>0</td>\n",
       "      <td>0</td>\n",
       "      <td>0</td>\n",
       "      <td>0</td>\n",
       "      <td>0</td>\n",
       "      <td>0</td>\n",
       "      <td>0</td>\n",
       "      <td>97</td>\n",
       "      <td>97</td>\n",
       "      <td>97</td>\n",
       "      <td>109</td>\n",
       "      <td>97</td>\n",
       "      <td>97</td>\n",
       "      <td>97</td>\n",
       "      <td>97</td>\n",
       "      <td>149</td>\n",
       "      <td>97</td>\n",
       "      <td>97</td>\n",
       "      <td>97</td>\n",
       "      <td>97</td>\n",
       "      <td>97</td>\n",
       "      <td>97</td>\n",
       "      <td>97</td>\n",
       "      <td>97</td>\n",
       "      <td>97</td>\n",
       "      <td>97</td>\n",
       "      <td>97</td>\n",
       "      <td>97</td>\n",
       "      <td>97</td>\n",
       "      <td>97</td>\n",
       "      <td>97</td>\n",
       "      <td>97</td>\n",
       "      <td>97</td>\n",
       "      <td>0</td>\n",
       "      <td>0</td>\n",
       "      <td>0</td>\n",
       "      <td>0</td>\n",
       "      <td>0</td>\n",
       "    </tr>\n",
       "  </tbody>\n",
       "</table>\n",
       "</div>"
      ],
      "text/plain": [
       "   player  team_name  player_game_count  pass_accuracy_percent  \\\n",
       "0       0          0                  0                      2   \n",
       "\n",
       "   pass_aimed_passes  pass_attempts  pass_avg_depth_of_target  \\\n",
       "0                  0              0                         2   \n",
       "\n",
       "   pass_avg_time_to_throw  pass_bats  pass_big_time_throws  pass_btt_rate  \\\n",
       "0                       0          0                     0              0   \n",
       "\n",
       "   pass_completion_percent  pass_completions  pass_def_gen_pressures  \\\n",
       "0                        0                 0                       0   \n",
       "\n",
       "   pass_drop_rate  pass_dropbacks  pass_drops  pass_first_downs  \\\n",
       "0              17               0           0                 0   \n",
       "\n",
       "   pass_grades_hands_fumble  pass_grades_offense  pass_grades_pass  \\\n",
       "0                         0                    0                 0   \n",
       "\n",
       "   pass_hit_as_threw  pass_interceptions  pass_passing_snaps  pass_penalties  \\\n",
       "0                  0                   0                   0               0   \n",
       "\n",
       "   pass_pressure_to_sack_rate  pass_qb_rating  pass_sack_percent  pass_sacks  \\\n",
       "0                          40               0                  0           0   \n",
       "\n",
       "   pass_scrambles  pass_spikes  pass_thrown_aways  pass_touchdowns  \\\n",
       "0               0            0                  0                0   \n",
       "\n",
       "   pass_turnover_worthy_plays  pass_twp_rate  pass_yards  pass_ypa  year  \\\n",
       "0                           0              0           0         0     0   \n",
       "\n",
       "   rush_attempts  rush_avoided_tackles  rush_breakaway_attempts  \\\n",
       "0             97                    97                       97   \n",
       "\n",
       "   rush_breakaway_percent  rush_breakaway_yards  rush_designed_yards  \\\n",
       "0                     109                    97                   97   \n",
       "\n",
       "   rush_elu_recv_mtf  rush_elu_rush_mtf  rush_elu_yco  rush_elusive_rating  \\\n",
       "0                 97                 97           149                   97   \n",
       "\n",
       "   rush_explosive  rush_first_downs  rush_fumbles  rush_gap_attempts  \\\n",
       "0              97                97            97                 97   \n",
       "\n",
       "   rush_grades_offense_penalty  rush_grades_run  rush_longest  rush_run_plays  \\\n",
       "0                           97               97            97              97   \n",
       "\n",
       "   rush_scramble_yards  rush_total_touches  rush_touchdowns  rush_yards  \\\n",
       "0                   97                  97               97          97   \n",
       "\n",
       "   rush_yards_after_contact  rush_yco_attempt  rush_ypa  rush_zone_attempts  \\\n",
       "0                        97                97        97                  97   \n",
       "\n",
       "   pass_tds_gm  pass_yds_gm  exp  rolling_mean  rolling_std  \n",
       "0            0            0    0             0            0  "
      ]
     },
     "execution_count": 28,
     "metadata": {},
     "output_type": "execute_result"
    }
   ],
   "source": [
    "# look at null counts in each col\n",
    "df.isna().sum().to_frame().T"
   ]
  },
  {
   "cell_type": "markdown",
   "metadata": {},
   "source": [
    "- Few nulls in the dataset.\n",
    "- When looking at a players statistics, null values in these columns indicate 0 attempts for that specific statistic.\n",
    "- These values can be filled with 0."
   ]
  },
  {
   "cell_type": "code",
   "execution_count": 29,
   "metadata": {
    "ExecuteTime": {
     "end_time": "2023-11-17T03:18:31.306746Z",
     "start_time": "2023-11-17T03:18:31.296738Z"
    }
   },
   "outputs": [],
   "source": [
    "# fill nulls with value of 0\n",
    "df = df.fillna(0)"
   ]
  },
  {
   "cell_type": "markdown",
   "metadata": {},
   "source": [
    "# Target variable\n",
    "- For each season __x__, the target is the grades_offense stat of season __x + 1__."
   ]
  },
  {
   "cell_type": "code",
   "execution_count": 30,
   "metadata": {
    "ExecuteTime": {
     "end_time": "2023-11-17T03:18:33.790192Z",
     "start_time": "2023-11-17T03:18:33.780183Z"
    }
   },
   "outputs": [
    {
     "data": {
      "text/html": [
       "<div>\n",
       "<style scoped>\n",
       "    .dataframe tbody tr th:only-of-type {\n",
       "        vertical-align: middle;\n",
       "    }\n",
       "\n",
       "    .dataframe tbody tr th {\n",
       "        vertical-align: top;\n",
       "    }\n",
       "\n",
       "    .dataframe thead th {\n",
       "        text-align: right;\n",
       "    }\n",
       "</style>\n",
       "<table border=\"1\" class=\"dataframe\">\n",
       "  <thead>\n",
       "    <tr style=\"text-align: right;\">\n",
       "      <th></th>\n",
       "      <th>player</th>\n",
       "      <th>pass_grades_offense</th>\n",
       "      <th>target</th>\n",
       "    </tr>\n",
       "  </thead>\n",
       "  <tbody>\n",
       "    <tr>\n",
       "      <th>0</th>\n",
       "      <td>A.J. Feeley</td>\n",
       "      <td>64.3</td>\n",
       "      <td>41.2</td>\n",
       "    </tr>\n",
       "    <tr>\n",
       "      <th>1</th>\n",
       "      <td>A.J. Feeley</td>\n",
       "      <td>41.2</td>\n",
       "      <td>50.0</td>\n",
       "    </tr>\n",
       "    <tr>\n",
       "      <th>2</th>\n",
       "      <td>A.J. Feeley</td>\n",
       "      <td>50.0</td>\n",
       "      <td>NaN</td>\n",
       "    </tr>\n",
       "  </tbody>\n",
       "</table>\n",
       "</div>"
      ],
      "text/plain": [
       "        player  pass_grades_offense  target\n",
       "0  A.J. Feeley                 64.3    41.2\n",
       "1  A.J. Feeley                 41.2    50.0\n",
       "2  A.J. Feeley                 50.0     NaN"
      ]
     },
     "execution_count": 30,
     "metadata": {},
     "output_type": "execute_result"
    }
   ],
   "source": [
    "# add target col\n",
    "df['target'] = df.groupby('player')['pass_grades_offense'].shift(-1)\n",
    "\n",
    "# check\n",
    "df.head(3)[['player', 'pass_grades_offense', 'target']]"
   ]
  },
  {
   "cell_type": "markdown",
   "metadata": {},
   "source": [
    "- Players in their final season will have a NaN value for the target variable (as seen above).\n",
    "- These rows cannot be used to train model, as we don't have the grades_offense stat of the next year (it doesn't exist).\n",
    "- This is handled in [this notebook](./models_1.ipynb)."
   ]
  },
  {
   "cell_type": "code",
   "execution_count": 31,
   "metadata": {
    "ExecuteTime": {
     "end_time": "2023-11-17T03:18:58.780940Z",
     "start_time": "2023-11-17T03:18:58.724715Z"
    }
   },
   "outputs": [],
   "source": [
    "# export data\n",
    "df.to_csv('../train_data/data.csv')"
   ]
  },
  {
   "cell_type": "code",
   "execution_count": null,
   "metadata": {},
   "outputs": [],
   "source": []
  }
 ],
 "metadata": {
  "kernelspec": {
   "display_name": "torch_kernel",
   "language": "python",
   "name": "torch_env"
  },
  "language_info": {
   "codemirror_mode": {
    "name": "ipython",
    "version": 3
   },
   "file_extension": ".py",
   "mimetype": "text/x-python",
   "name": "python",
   "nbconvert_exporter": "python",
   "pygments_lexer": "ipython3",
   "version": "3.8.17"
  },
  "latex_envs": {
   "LaTeX_envs_menu_present": true,
   "autoclose": false,
   "autocomplete": true,
   "bibliofile": "biblio.bib",
   "cite_by": "apalike",
   "current_citInitial": 1,
   "eqLabelWithNumbers": true,
   "eqNumInitial": 1,
   "hotkeys": {
    "equation": "Ctrl-E",
    "itemize": "Ctrl-I"
   },
   "labels_anchors": false,
   "latex_user_defs": false,
   "report_style_numbering": false,
   "user_envs_cfg": false
  },
  "toc": {
   "base_numbering": 1,
   "nav_menu": {},
   "number_sections": true,
   "sideBar": true,
   "skip_h1_title": false,
   "title_cell": "Table of Contents",
   "title_sidebar": "Contents",
   "toc_cell": false,
   "toc_position": {},
   "toc_section_display": true,
   "toc_window_display": false
  }
 },
 "nbformat": 4,
 "nbformat_minor": 4
}
