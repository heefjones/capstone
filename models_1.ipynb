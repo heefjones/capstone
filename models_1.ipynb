{
 "cells": [
  {
   "cell_type": "markdown",
   "metadata": {},
   "source": [
    "# Modeling\n",
    "- In this notebook, we will iterate through many __model types__, __feature subsets__, and __hyperparameter values__. Model __combinations__ will also be explored.\n",
    "- The goal is to find the model that performs the best on unseen data. We will use target variables from 2007-2022 as training and validation data, then finally test our best models on the current 2023 season.\n",
    "- We will measure model performance using __Root-mean-squared-error__ and __R-squared__."
   ]
  },
  {
   "cell_type": "markdown",
   "metadata": {},
   "source": [
    "## Imports"
   ]
  },
  {
   "cell_type": "code",
   "execution_count": 292,
   "metadata": {
    "ExecuteTime": {
     "end_time": "2023-11-18T18:08:12.791141Z",
     "start_time": "2023-11-18T18:08:12.767119Z"
    }
   },
   "outputs": [],
   "source": [
    "import pandas as pd\n",
    "import numpy as np\n",
    "\n",
    "import matplotlib.pyplot as plt\n",
    "import seaborn as sns\n",
    "%matplotlib inline\n",
    "\n",
    "# models\n",
    "from sklearn.linear_model import LinearRegression\n",
    "from sklearn.neighbors import KNeighborsRegressor\n",
    "from sklearn.cluster import KMeans\n",
    "from sklearn.tree import DecisionTreeRegressor\n",
    "from sklearn.ensemble import RandomForestRegressor, VotingRegressor, StackingRegressor\n",
    "from xgboost import XGBRegressor\n",
    "from sklearn.pipeline import Pipeline\n",
    "\n",
    "from sklearn.preprocessing import StandardScaler, PolynomialFeatures\n",
    "from sklearn.decomposition import PCA\n",
    "from sklearn.model_selection import train_test_split, cross_validate\n",
    "from sklearn.metrics import r2_score, mean_squared_error\n",
    "\n",
    "pd.options.display.max_columns = 100\n",
    "pd.options.display.max_rows = 100\n",
    "pd.options.display.float_format = '{:.2f}'.format\n",
    "\n",
    "sns.set_theme(context='talk', style='whitegrid')\n",
    "\n",
    "# global random_state\n",
    "random_state = 9"
   ]
  },
  {
   "cell_type": "markdown",
   "metadata": {},
   "source": [
    "## Load data"
   ]
  },
  {
   "cell_type": "code",
   "execution_count": 293,
   "metadata": {
    "ExecuteTime": {
     "end_time": "2023-11-18T18:08:12.823171Z",
     "start_time": "2023-11-18T18:08:12.793143Z"
    }
   },
   "outputs": [],
   "source": [
    "df = pd.read_csv('./train_data/data.csv').drop(['Unnamed: 0'], axis=1)"
   ]
  },
  {
   "cell_type": "code",
   "execution_count": 294,
   "metadata": {
    "ExecuteTime": {
     "end_time": "2023-11-18T18:08:12.839185Z",
     "start_time": "2023-11-18T18:08:12.825173Z"
    }
   },
   "outputs": [],
   "source": [
    "# drop rows with null target (players in their final season or 2023 players)\n",
    "df = df.dropna(subset=['target'])"
   ]
  },
  {
   "cell_type": "markdown",
   "metadata": {},
   "source": [
    "## 2022 season\n",
    "- The 2022 season rows already have the 2023 target appended to them.\n",
    "- These rows will strictly be kept as a holdout test set."
   ]
  },
  {
   "cell_type": "code",
   "execution_count": 295,
   "metadata": {
    "ExecuteTime": {
     "end_time": "2023-11-18T18:08:12.855199Z",
     "start_time": "2023-11-18T18:08:12.841187Z"
    }
   },
   "outputs": [],
   "source": [
    "# 2022 players with 2023 target (test set)\n",
    "players_2022 = df[df['year'] == 2022]\n",
    "\n",
    "# drop these rows from training data\n",
    "df = df.drop(players_2022.index)"
   ]
  },
  {
   "cell_type": "code",
   "execution_count": 296,
   "metadata": {
    "ExecuteTime": {
     "end_time": "2023-11-18T18:08:12.870213Z",
     "start_time": "2023-11-18T18:08:12.856200Z"
    }
   },
   "outputs": [
    {
     "data": {
      "text/plain": [
       "((970, 70), 218)"
      ]
     },
     "execution_count": 296,
     "metadata": {},
     "output_type": "execute_result"
    }
   ],
   "source": [
    "# train set\n",
    "df.shape, len(set(df.player))"
   ]
  },
  {
   "cell_type": "markdown",
   "metadata": {},
   "source": [
    "- 970 QB seasons for training and validation.\n",
    "- 66 total features + player name, team, year, and target.\n",
    "- 218 unique QBs."
   ]
  },
  {
   "cell_type": "code",
   "execution_count": 297,
   "metadata": {
    "ExecuteTime": {
     "end_time": "2023-11-18T18:08:12.885227Z",
     "start_time": "2023-11-18T18:08:12.871214Z"
    }
   },
   "outputs": [
    {
     "data": {
      "text/plain": [
       "((48, 70), 48)"
      ]
     },
     "execution_count": 297,
     "metadata": {},
     "output_type": "execute_result"
    }
   ],
   "source": [
    "# test set\n",
    "players_2022.shape, len(set(players_2022.player))"
   ]
  },
  {
   "cell_type": "markdown",
   "metadata": {},
   "source": [
    "- With 2023 target: 48 seasons of 48 unique QBs."
   ]
  },
  {
   "cell_type": "markdown",
   "metadata": {},
   "source": [
    "# Results_df, Function to test model performance"
   ]
  },
  {
   "cell_type": "code",
   "execution_count": 298,
   "metadata": {
    "ExecuteTime": {
     "end_time": "2023-11-18T18:08:12.901241Z",
     "start_time": "2023-11-18T18:08:12.887228Z"
    }
   },
   "outputs": [],
   "source": [
    "# df to store model results\n",
    "results_df = pd.read_csv('./models/models.csv').drop('Unnamed: 0', axis=1)"
   ]
  },
  {
   "cell_type": "code",
   "execution_count": 299,
   "metadata": {
    "ExecuteTime": {
     "end_time": "2023-11-18T18:08:12.917255Z",
     "start_time": "2023-11-18T18:08:12.902242Z"
    }
   },
   "outputs": [],
   "source": [
    "def cross_val(estimator, df, feature_subset, feature_subset_str, pca=False, poly=False, results_df=results_df, \n",
    "              random_state=random_state):\n",
    "    '''\n",
    "    \n",
    "    \n",
    "    Scale data using a specific feature subset from the dataframe, incorporating PCA or Polynomial Features if specified.\n",
    "    Perform 10-fold cross validation,  append RMSE, R^2, and hyperparameters to results_df.\n",
    "    \n",
    "    Parameters:\n",
    "    estimator (sklearn.estimator) - estimator to cross validate\n",
    "    df (pandas.Dataframe) - dataframe to create X and y from\n",
    "    feature_subset (list) - features to be used from input dataframe\n",
    "    feature_subset_str (str) - name of the feature subset to be stored in results_df\n",
    "    pca (boolean) - if True, transform data using principal component analysis\n",
    "    poly (boolean) - if True, transform features into polynomial\n",
    "    \n",
    "    Returns:\n",
    "    rmse (float) - average Root-Mean_Squared-Error from cross validation\n",
    "    r2 (float) - average R^2 from cross validation\n",
    "    \n",
    "    \n",
    "    \n",
    "    '''\n",
    "\n",
    "    \n",
    "    \n",
    "    # features and target\n",
    "    X = df[feature_subset]\n",
    "    y = df.target\n",
    "\n",
    "    # create pieline\n",
    "    pipeline = Pipeline([\n",
    "            ('scaler', StandardScaler()),\n",
    "            ('estimator', estimator)\n",
    "        ])\n",
    "    \n",
    "    # pca retaining 99% variance\n",
    "    if pca:\n",
    "        \n",
    "        pipeline = Pipeline([\n",
    "            ('scaler', StandardScaler()),\n",
    "            ('pca', PCA(n_components=0.99)),\n",
    "            ('estimator', estimator)\n",
    "        ])\n",
    "        \n",
    "    # polynomial features with degree = 2    \n",
    "    if poly:\n",
    "        \n",
    "        pipeline = Pipeline([\n",
    "            ('scaler', StandardScaler()),\n",
    "            ('poly', PolynomialFeatures(degree=2)),\n",
    "            ('estimator', estimator)\n",
    "        ])\n",
    "    \n",
    "    # 5-fold cross validation\n",
    "    results = cross_validate(pipeline, X, y, cv=5, scoring=['neg_root_mean_squared_error', 'r2'])\n",
    "    \n",
    "    # get rmse and r-squared\n",
    "    rmse = results['test_neg_root_mean_squared_error'].mean() * -1\n",
    "    r2 = results['test_r2'].mean()\n",
    "    \n",
    "    # append results to results_df. last 2 columns indicate if 9-game split is used\n",
    "    results_df.loc[len(results_df.index)] = [rmse, r2, str(estimator), feature_subset_str, pca, poly]\n",
    "    \n",
    "    return rmse, r2"
   ]
  },
  {
   "cell_type": "markdown",
   "metadata": {},
   "source": [
    "# Models\n",
    "- Below, we create unique feature subsets and test them on 5 different machine learning algorithms."
   ]
  },
  {
   "cell_type": "markdown",
   "metadata": {},
   "source": [
    "## Feature subsets\n",
    "- Different model types perform differently depending on the input features.\n",
    "- 7 diverse feature sets to address this problem."
   ]
  },
  {
   "cell_type": "code",
   "execution_count": 300,
   "metadata": {
    "ExecuteTime": {
     "end_time": "2023-11-18T18:08:12.933271Z",
     "start_time": "2023-11-18T18:08:12.918256Z"
    }
   },
   "outputs": [],
   "source": [
    "# all features\n",
    "all_feats = df.drop(['player', 'team_name', 'year', 'target'], axis=1).columns.tolist()\n",
    "\n",
    "# normalized stats in the form of percentages or averages\n",
    "percent_features = ['pass_accuracy_percent', 'pass_avg_depth_of_target', 'pass_avg_time_to_throw', 'pass_btt_rate', \n",
    "                    'pass_drop_rate', 'pass_grades_offense', 'pass_grades_pass', 'pass_pressure_to_sack_rate', \n",
    "                    'pass_sack_percent', 'pass_twp_rate', 'pass_ypa', 'rush_grades_run', 'rush_ypa', 'rush_yco_attempt', \n",
    "                    'pass_tds_gm', 'pass_yds_gm', 'exp', 'rolling_mean', 'rolling_std']\n",
    "\n",
    "# features that have > 0.3 correlation with target, also including engineered features\n",
    "high_corrs = ['player_game_count', 'pass_aimed_passes', 'pass_attempts', 'pass_bats', 'pass_big_time_throws', \n",
    "              'pass_completions', 'pass_def_gen_pressures', 'pass_dropbacks', 'pass_drops', 'pass_first_downs', \n",
    "              'pass_grades_offense', 'pass_grades_pass', 'pass_hit_as_threw', 'pass_interceptions', 'pass_passing_snaps', \n",
    "              'pass_penalties', 'pass_qb_rating', 'pass_sacks', 'pass_thrown_aways', 'pass_touchdowns', \n",
    "              'pass_turnover_worthy_plays', 'pass_yards', 'rush_attempts', 'rush_fumbles', 'rush_run_plays', \n",
    "              'rush_total_touches', 'rolling_mean', 'pass_tds_gm', 'pass_yds_gm', 'exp', 'rolling_std']\n",
    "\n",
    "# 3 grades statistics + 4 engineered features\n",
    "grades_only = ['pass_grades_offense', 'pass_grades_pass', 'rush_grades_run', 'pass_tds_gm', 'pass_yds_gm', 'exp', \n",
    "               'rolling_mean', 'rolling_std']\n",
    "\n",
    "# offensive grade + 4 engineered features\n",
    "grades_offense = ['pass_grades_offense', 'pass_tds_gm', 'pass_yds_gm', 'exp', 'rolling_mean', 'rolling_std']\n",
    "\n",
    "# grades_only + total touchdown statistics\n",
    "tds = grades_only + ['pass_tds_gm', 'pass_yds_gm']\n",
    "\n",
    "# using domain knowledge to pick features i think will be most meaningful\n",
    "intuition = ['pass_btt_rate', 'pass_twp_rate', 'pass_accuracy_percent', 'pass_pressure_to_sack_rate', 'rush_grades_run', \n",
    "                    'pass_tds_gm', 'pass_yds_gm', 'exp', 'rolling_mean', 'rolling_std']"
   ]
  },
  {
   "cell_type": "code",
   "execution_count": 301,
   "metadata": {
    "ExecuteTime": {
     "end_time": "2023-11-18T18:08:12.949285Z",
     "start_time": "2023-11-18T18:08:12.935272Z"
    }
   },
   "outputs": [],
   "source": [
    "# dict of name: feature subset\n",
    "feature_subset_dict = {'all_feats': all_feats, 'percent_features': percent_features, 'high_corrs': high_corrs, \n",
    "                       'grades_only': grades_only, 'grades_offense': grades_offense, 'tds': tds, 'intuition': intuition}"
   ]
  },
  {
   "cell_type": "markdown",
   "metadata": {},
   "source": [
    "### Linear Regression\n",
    "- Good 'ol linear regression."
   ]
  },
  {
   "cell_type": "code",
   "execution_count": 302,
   "metadata": {
    "ExecuteTime": {
     "end_time": "2023-11-18T18:08:12.965300Z",
     "start_time": "2023-11-18T18:08:12.951287Z"
    }
   },
   "outputs": [],
   "source": [
    "lr = LinearRegression()"
   ]
  },
  {
   "cell_type": "code",
   "execution_count": 303,
   "metadata": {
    "ExecuteTime": {
     "end_time": "2023-11-18T18:08:16.216251Z",
     "start_time": "2023-11-18T18:08:12.967301Z"
    },
    "scrolled": false
   },
   "outputs": [],
   "source": [
    "# normal data\n",
    "for i, (name, feats) in enumerate(feature_subset_dict.items()):\n",
    "    cross_val(lr, df=df, feature_subset=feats, feature_subset_str=name)\n",
    "    \n",
    "# with pca\n",
    "for i, (name, feats) in enumerate(feature_subset_dict.items()):\n",
    "    cross_val(lr, df=df, feature_subset=feats, feature_subset_str=name, pca=True)\n",
    "    \n",
    "# with poly\n",
    "for i, (name, feats) in enumerate(feature_subset_dict.items()):\n",
    "    cross_val(lr, df=df, feature_subset=feats, feature_subset_str=name, poly=True)\n",
    "    \n",
    "# both pca and poly\n",
    "for i, (name, feats) in enumerate(feature_subset_dict.items()):\n",
    "    cross_val(lr, df=df, feature_subset=feats, feature_subset_str=name, pca=True, poly=True)"
   ]
  },
  {
   "cell_type": "code",
   "execution_count": 304,
   "metadata": {
    "ExecuteTime": {
     "end_time": "2023-11-18T18:08:16.232266Z",
     "start_time": "2023-11-18T18:08:16.217252Z"
    }
   },
   "outputs": [
    {
     "data": {
      "text/html": [
       "<div>\n",
       "<style scoped>\n",
       "    .dataframe tbody tr th:only-of-type {\n",
       "        vertical-align: middle;\n",
       "    }\n",
       "\n",
       "    .dataframe tbody tr th {\n",
       "        vertical-align: top;\n",
       "    }\n",
       "\n",
       "    .dataframe thead th {\n",
       "        text-align: right;\n",
       "    }\n",
       "</style>\n",
       "<table border=\"1\" class=\"dataframe\">\n",
       "  <thead>\n",
       "    <tr style=\"text-align: right;\">\n",
       "      <th></th>\n",
       "      <th>rmse</th>\n",
       "      <th>r2</th>\n",
       "      <th>model</th>\n",
       "      <th>feats</th>\n",
       "      <th>pca</th>\n",
       "      <th>poly</th>\n",
       "    </tr>\n",
       "  </thead>\n",
       "  <tbody>\n",
       "    <tr>\n",
       "      <th>9</th>\n",
       "      <td>12.37</td>\n",
       "      <td>0.30</td>\n",
       "      <td>LinearRegression()</td>\n",
       "      <td>high_corrs</td>\n",
       "      <td>True</td>\n",
       "      <td>False</td>\n",
       "    </tr>\n",
       "    <tr>\n",
       "      <th>2</th>\n",
       "      <td>12.37</td>\n",
       "      <td>0.30</td>\n",
       "      <td>LinearRegression()</td>\n",
       "      <td>high_corrs</td>\n",
       "      <td>False</td>\n",
       "      <td>False</td>\n",
       "    </tr>\n",
       "    <tr>\n",
       "      <th>19</th>\n",
       "      <td>12.40</td>\n",
       "      <td>0.30</td>\n",
       "      <td>LinearRegression()</td>\n",
       "      <td>tds</td>\n",
       "      <td>False</td>\n",
       "      <td>True</td>\n",
       "    </tr>\n",
       "  </tbody>\n",
       "</table>\n",
       "</div>"
      ],
      "text/plain": [
       "    rmse   r2               model       feats    pca   poly\n",
       "9  12.37 0.30  LinearRegression()  high_corrs   True  False\n",
       "2  12.37 0.30  LinearRegression()  high_corrs  False  False\n",
       "19 12.40 0.30  LinearRegression()         tds  False   True"
      ]
     },
     "execution_count": 304,
     "metadata": {},
     "output_type": "execute_result"
    }
   ],
   "source": [
    "# 3 best LinReg\n",
    "results_df[results_df['model'].str.contains('Linear')].sort_values('rmse', ascending=True).head(3)"
   ]
  },
  {
   "cell_type": "markdown",
   "metadata": {},
   "source": [
    "### KNN\n",
    "- KNN is known to perform well with small data sets. \n",
    "- It is also known to thrive with smaller feature sets."
   ]
  },
  {
   "cell_type": "code",
   "execution_count": 305,
   "metadata": {
    "ExecuteTime": {
     "end_time": "2023-11-18T18:08:16.248280Z",
     "start_time": "2023-11-18T18:08:16.234267Z"
    }
   },
   "outputs": [],
   "source": [
    "knn = KNeighborsRegressor()"
   ]
  },
  {
   "cell_type": "code",
   "execution_count": 306,
   "metadata": {
    "ExecuteTime": {
     "end_time": "2023-11-18T18:08:19.761471Z",
     "start_time": "2023-11-18T18:08:16.250282Z"
    },
    "scrolled": false
   },
   "outputs": [],
   "source": [
    "# normal data\n",
    "for i, (name, feats) in enumerate(feature_subset_dict.items()):\n",
    "    cross_val(knn, df=df, feature_subset=feats, feature_subset_str=name)\n",
    "    \n",
    "# with pca\n",
    "for i, (name, feats) in enumerate(feature_subset_dict.items()):\n",
    "    cross_val(knn, df=df, feature_subset=feats, feature_subset_str=name, pca=True)\n",
    "    \n",
    "# with poly\n",
    "for i, (name, feats) in enumerate(feature_subset_dict.items()):\n",
    "    cross_val(knn, df=df, feature_subset=feats, feature_subset_str=name, poly=True)\n",
    "    \n",
    "# both pca and poly\n",
    "for i, (name, feats) in enumerate(feature_subset_dict.items()):\n",
    "    cross_val(knn, df=df, feature_subset=feats, feature_subset_str=name, pca=True, poly=True)"
   ]
  },
  {
   "cell_type": "code",
   "execution_count": 307,
   "metadata": {
    "ExecuteTime": {
     "end_time": "2023-11-18T18:08:19.777485Z",
     "start_time": "2023-11-18T18:08:19.762471Z"
    }
   },
   "outputs": [
    {
     "data": {
      "text/html": [
       "<div>\n",
       "<style scoped>\n",
       "    .dataframe tbody tr th:only-of-type {\n",
       "        vertical-align: middle;\n",
       "    }\n",
       "\n",
       "    .dataframe tbody tr th {\n",
       "        vertical-align: top;\n",
       "    }\n",
       "\n",
       "    .dataframe thead th {\n",
       "        text-align: right;\n",
       "    }\n",
       "</style>\n",
       "<table border=\"1\" class=\"dataframe\">\n",
       "  <thead>\n",
       "    <tr style=\"text-align: right;\">\n",
       "      <th></th>\n",
       "      <th>rmse</th>\n",
       "      <th>r2</th>\n",
       "      <th>model</th>\n",
       "      <th>feats</th>\n",
       "      <th>pca</th>\n",
       "      <th>poly</th>\n",
       "    </tr>\n",
       "  </thead>\n",
       "  <tbody>\n",
       "    <tr>\n",
       "      <th>37</th>\n",
       "      <td>13.02</td>\n",
       "      <td>0.23</td>\n",
       "      <td>KNeighborsRegressor()</td>\n",
       "      <td>high_corrs</td>\n",
       "      <td>True</td>\n",
       "      <td>False</td>\n",
       "    </tr>\n",
       "    <tr>\n",
       "      <th>30</th>\n",
       "      <td>13.10</td>\n",
       "      <td>0.22</td>\n",
       "      <td>KNeighborsRegressor()</td>\n",
       "      <td>high_corrs</td>\n",
       "      <td>False</td>\n",
       "      <td>False</td>\n",
       "    </tr>\n",
       "    <tr>\n",
       "      <th>51</th>\n",
       "      <td>13.18</td>\n",
       "      <td>0.21</td>\n",
       "      <td>KNeighborsRegressor()</td>\n",
       "      <td>high_corrs</td>\n",
       "      <td>True</td>\n",
       "      <td>True</td>\n",
       "    </tr>\n",
       "  </tbody>\n",
       "</table>\n",
       "</div>"
      ],
      "text/plain": [
       "    rmse   r2                  model       feats    pca   poly\n",
       "37 13.02 0.23  KNeighborsRegressor()  high_corrs   True  False\n",
       "30 13.10 0.22  KNeighborsRegressor()  high_corrs  False  False\n",
       "51 13.18 0.21  KNeighborsRegressor()  high_corrs   True   True"
      ]
     },
     "execution_count": 307,
     "metadata": {},
     "output_type": "execute_result"
    }
   ],
   "source": [
    "results_df[results_df['model'].str.contains('KN')].sort_values('rmse', ascending=True).head(3)"
   ]
  },
  {
   "cell_type": "code",
   "execution_count": 308,
   "metadata": {
    "ExecuteTime": {
     "end_time": "2023-11-18T18:08:26.383585Z",
     "start_time": "2023-11-18T18:08:19.779487Z"
    },
    "scrolled": false
   },
   "outputs": [
    {
     "data": {
      "image/png": "[encoded data removed]",
      "text/plain": [
       "<Figure size 864x432 with 1 Axes>"
      ]
     },
     "metadata": {},
     "output_type": "display_data"
    }
   ],
   "source": [
    "# 2-100 neighbors, increment by 2\n",
    "k_values = range(2, 101, 2)\n",
    "\n",
    "# to hold losses\n",
    "losses = []\n",
    "\n",
    "for k in k_values:\n",
    "    knn = KNeighborsRegressor(n_neighbors=k)\n",
    "    \n",
    "    # use best subset found from above\n",
    "    rmse, r2 = cross_val(knn, df=df, feature_subset=high_corrs, feature_subset_str='high_corrs')\n",
    "    \n",
    "    # append losses\n",
    "    losses.append(rmse) \n",
    "    \n",
    "# plot results\n",
    "plt.figure(figsize=(12, 6))\n",
    "sns.lineplot(x=k_values, y=losses, color='red')\n",
    "\n",
    "plt.title('KNN performance using high_corrs subset')\n",
    "plt.ylabel('RMSE')\n",
    "plt.xlabel('n_neighbors');"
   ]
  },
  {
   "cell_type": "code",
   "execution_count": 309,
   "metadata": {
    "ExecuteTime": {
     "end_time": "2023-11-18T18:08:26.399599Z",
     "start_time": "2023-11-18T18:08:26.386588Z"
    }
   },
   "outputs": [
    {
     "data": {
      "text/html": [
       "<div>\n",
       "<style scoped>\n",
       "    .dataframe tbody tr th:only-of-type {\n",
       "        vertical-align: middle;\n",
       "    }\n",
       "\n",
       "    .dataframe tbody tr th {\n",
       "        vertical-align: top;\n",
       "    }\n",
       "\n",
       "    .dataframe thead th {\n",
       "        text-align: right;\n",
       "    }\n",
       "</style>\n",
       "<table border=\"1\" class=\"dataframe\">\n",
       "  <thead>\n",
       "    <tr style=\"text-align: right;\">\n",
       "      <th></th>\n",
       "      <th>rmse</th>\n",
       "      <th>r2</th>\n",
       "      <th>model</th>\n",
       "      <th>feats</th>\n",
       "      <th>pca</th>\n",
       "      <th>poly</th>\n",
       "    </tr>\n",
       "  </thead>\n",
       "  <tbody>\n",
       "    <tr>\n",
       "      <th>78</th>\n",
       "      <td>12.28</td>\n",
       "      <td>0.31</td>\n",
       "      <td>KNeighborsRegressor(n_neighbors=46)</td>\n",
       "      <td>high_corrs</td>\n",
       "      <td>False</td>\n",
       "      <td>False</td>\n",
       "    </tr>\n",
       "    <tr>\n",
       "      <th>79</th>\n",
       "      <td>12.29</td>\n",
       "      <td>0.31</td>\n",
       "      <td>KNeighborsRegressor(n_neighbors=48)</td>\n",
       "      <td>high_corrs</td>\n",
       "      <td>False</td>\n",
       "      <td>False</td>\n",
       "    </tr>\n",
       "    <tr>\n",
       "      <th>80</th>\n",
       "      <td>12.29</td>\n",
       "      <td>0.31</td>\n",
       "      <td>KNeighborsRegressor(n_neighbors=50)</td>\n",
       "      <td>high_corrs</td>\n",
       "      <td>False</td>\n",
       "      <td>False</td>\n",
       "    </tr>\n",
       "  </tbody>\n",
       "</table>\n",
       "</div>"
      ],
      "text/plain": [
       "    rmse   r2                                model       feats    pca   poly\n",
       "78 12.28 0.31  KNeighborsRegressor(n_neighbors=46)  high_corrs  False  False\n",
       "79 12.29 0.31  KNeighborsRegressor(n_neighbors=48)  high_corrs  False  False\n",
       "80 12.29 0.31  KNeighborsRegressor(n_neighbors=50)  high_corrs  False  False"
      ]
     },
     "execution_count": 309,
     "metadata": {},
     "output_type": "execute_result"
    }
   ],
   "source": [
    "# 3 best KNN\n",
    "results_df[results_df['model'].str.contains('KN')].sort_values('rmse', ascending=True).head(3)"
   ]
  },
  {
   "cell_type": "markdown",
   "metadata": {},
   "source": [
    "### Decision Tree\n",
    "- Decision trees are good at handling many features. This means the \"all_feats\" set will likely perform well."
   ]
  },
  {
   "cell_type": "code",
   "execution_count": 310,
   "metadata": {
    "ExecuteTime": {
     "end_time": "2023-11-18T18:08:26.415614Z",
     "start_time": "2023-11-18T18:08:26.401602Z"
    }
   },
   "outputs": [],
   "source": [
    "dt = DecisionTreeRegressor(random_state=random_state)"
   ]
  },
  {
   "cell_type": "code",
   "execution_count": 311,
   "metadata": {
    "ExecuteTime": {
     "end_time": "2023-11-18T18:08:27.502601Z",
     "start_time": "2023-11-18T18:08:26.416615Z"
    },
    "scrolled": false
   },
   "outputs": [],
   "source": [
    "for i, (name, feats) in enumerate(feature_subset_dict.items()):\n",
    "    cross_val(dt, df=df, feature_subset=feats, feature_subset_str=name)"
   ]
  },
  {
   "cell_type": "code",
   "execution_count": 312,
   "metadata": {
    "ExecuteTime": {
     "end_time": "2023-11-18T18:08:27.518615Z",
     "start_time": "2023-11-18T18:08:27.504603Z"
    }
   },
   "outputs": [
    {
     "data": {
      "text/html": [
       "<div>\n",
       "<style scoped>\n",
       "    .dataframe tbody tr th:only-of-type {\n",
       "        vertical-align: middle;\n",
       "    }\n",
       "\n",
       "    .dataframe tbody tr th {\n",
       "        vertical-align: top;\n",
       "    }\n",
       "\n",
       "    .dataframe thead th {\n",
       "        text-align: right;\n",
       "    }\n",
       "</style>\n",
       "<table border=\"1\" class=\"dataframe\">\n",
       "  <thead>\n",
       "    <tr style=\"text-align: right;\">\n",
       "      <th></th>\n",
       "      <th>rmse</th>\n",
       "      <th>r2</th>\n",
       "      <th>model</th>\n",
       "      <th>feats</th>\n",
       "      <th>pca</th>\n",
       "      <th>poly</th>\n",
       "    </tr>\n",
       "  </thead>\n",
       "  <tbody>\n",
       "    <tr>\n",
       "      <th>108</th>\n",
       "      <td>17.22</td>\n",
       "      <td>-0.35</td>\n",
       "      <td>DecisionTreeRegressor(random_state=9)</td>\n",
       "      <td>high_corrs</td>\n",
       "      <td>False</td>\n",
       "      <td>False</td>\n",
       "    </tr>\n",
       "    <tr>\n",
       "      <th>112</th>\n",
       "      <td>17.29</td>\n",
       "      <td>-0.36</td>\n",
       "      <td>DecisionTreeRegressor(random_state=9)</td>\n",
       "      <td>intuition</td>\n",
       "      <td>False</td>\n",
       "      <td>False</td>\n",
       "    </tr>\n",
       "    <tr>\n",
       "      <th>106</th>\n",
       "      <td>17.32</td>\n",
       "      <td>-0.37</td>\n",
       "      <td>DecisionTreeRegressor(random_state=9)</td>\n",
       "      <td>all_feats</td>\n",
       "      <td>False</td>\n",
       "      <td>False</td>\n",
       "    </tr>\n",
       "  </tbody>\n",
       "</table>\n",
       "</div>"
      ],
      "text/plain": [
       "     rmse    r2                                  model       feats    pca  \\\n",
       "108 17.22 -0.35  DecisionTreeRegressor(random_state=9)  high_corrs  False   \n",
       "112 17.29 -0.36  DecisionTreeRegressor(random_state=9)   intuition  False   \n",
       "106 17.32 -0.37  DecisionTreeRegressor(random_state=9)   all_feats  False   \n",
       "\n",
       "      poly  \n",
       "108  False  \n",
       "112  False  \n",
       "106  False  "
      ]
     },
     "execution_count": 312,
     "metadata": {},
     "output_type": "execute_result"
    }
   ],
   "source": [
    "results_df[results_df['model'].str.contains('Decision')].sort_values('rmse', ascending=True).head(3)"
   ]
  },
  {
   "cell_type": "code",
   "execution_count": 313,
   "metadata": {
    "ExecuteTime": {
     "end_time": "2023-11-18T18:08:30.383217Z",
     "start_time": "2023-11-18T18:08:27.519617Z"
    },
    "scrolled": false
   },
   "outputs": [
    {
     "data": {
      "image/png": "[encoded data removed]",
      "text/plain": [
       "<Figure size 864x432 with 1 Axes>"
      ]
     },
     "metadata": {},
     "output_type": "display_data"
    }
   ],
   "source": [
    "# max_depths from 2-20\n",
    "d_values = range(2, 21)\n",
    "\n",
    "# to hold losses\n",
    "losses = []\n",
    "\n",
    "for d in d_values:\n",
    "    dt = DecisionTreeRegressor(random_state=random_state, max_depth=d)\n",
    "    \n",
    "    # use best subset found from above\n",
    "    rmse, r2 = cross_val(dt, df=df, feature_subset=high_corrs, feature_subset_str='high_corrs')\n",
    "    \n",
    "    # append losses\n",
    "    losses.append(rmse) \n",
    "    \n",
    "# plot results\n",
    "plt.figure(figsize=(12, 6))\n",
    "sns.lineplot(x=d_values, y=losses, color='red')\n",
    "\n",
    "plt.title('DT performance using high_corrs subset')\n",
    "plt.ylabel('RMSE')\n",
    "plt.xlabel('max_depth');"
   ]
  },
  {
   "cell_type": "code",
   "execution_count": 314,
   "metadata": {
    "ExecuteTime": {
     "end_time": "2023-11-18T18:08:32.619248Z",
     "start_time": "2023-11-18T18:08:30.384218Z"
    },
    "scrolled": false
   },
   "outputs": [
    {
     "data": {
      "image/png": "[encoded data removed]",
      "text/plain": [
       "<Figure size 864x432 with 1 Axes>"
      ]
     },
     "metadata": {},
     "output_type": "display_data"
    }
   ],
   "source": [
    "# min_samples_split from 2- 200, increment by 10\n",
    "s_values = range(2, 203, 10)\n",
    "\n",
    "# to hold losses\n",
    "losses = []\n",
    "\n",
    "for s in s_values:\n",
    "    dt = DecisionTreeRegressor(random_state=random_state, min_samples_split=s)\n",
    "    \n",
    "    # use best subset found from above\n",
    "    rmse, r2 = cross_val(dt, df=df, feature_subset=high_corrs, feature_subset_str='high_corrs')\n",
    "    \n",
    "    # append losses\n",
    "    losses.append(rmse) \n",
    "    \n",
    "# plot results\n",
    "plt.figure(figsize=(12, 6))\n",
    "sns.lineplot(x=s_values, y=losses, color='red')\n",
    "\n",
    "plt.title('DT performance using high_corrs subset')\n",
    "plt.ylabel('RMSE')\n",
    "plt.xlabel('min_samples_split');"
   ]
  },
  {
   "cell_type": "code",
   "execution_count": 315,
   "metadata": {
    "ExecuteTime": {
     "end_time": "2023-11-18T18:08:32.635263Z",
     "start_time": "2023-11-18T18:08:32.620249Z"
    }
   },
   "outputs": [
    {
     "data": {
      "text/html": [
       "<div>\n",
       "<style scoped>\n",
       "    .dataframe tbody tr th:only-of-type {\n",
       "        vertical-align: middle;\n",
       "    }\n",
       "\n",
       "    .dataframe tbody tr th {\n",
       "        vertical-align: top;\n",
       "    }\n",
       "\n",
       "    .dataframe thead th {\n",
       "        text-align: right;\n",
       "    }\n",
       "</style>\n",
       "<table border=\"1\" class=\"dataframe\">\n",
       "  <thead>\n",
       "    <tr style=\"text-align: right;\">\n",
       "      <th></th>\n",
       "      <th>rmse</th>\n",
       "      <th>r2</th>\n",
       "      <th>model</th>\n",
       "      <th>feats</th>\n",
       "      <th>pca</th>\n",
       "      <th>poly</th>\n",
       "    </tr>\n",
       "  </thead>\n",
       "  <tbody>\n",
       "    <tr>\n",
       "      <th>113</th>\n",
       "      <td>12.56</td>\n",
       "      <td>0.28</td>\n",
       "      <td>DecisionTreeRegressor(max_depth=2, random_stat...</td>\n",
       "      <td>high_corrs</td>\n",
       "      <td>False</td>\n",
       "      <td>False</td>\n",
       "    </tr>\n",
       "    <tr>\n",
       "      <th>114</th>\n",
       "      <td>12.71</td>\n",
       "      <td>0.27</td>\n",
       "      <td>DecisionTreeRegressor(max_depth=3, random_stat...</td>\n",
       "      <td>high_corrs</td>\n",
       "      <td>False</td>\n",
       "      <td>False</td>\n",
       "    </tr>\n",
       "    <tr>\n",
       "      <th>152</th>\n",
       "      <td>12.76</td>\n",
       "      <td>0.26</td>\n",
       "      <td>DecisionTreeRegressor(min_samples_split=202, r...</td>\n",
       "      <td>high_corrs</td>\n",
       "      <td>False</td>\n",
       "      <td>False</td>\n",
       "    </tr>\n",
       "  </tbody>\n",
       "</table>\n",
       "</div>"
      ],
      "text/plain": [
       "     rmse   r2                                              model       feats  \\\n",
       "113 12.56 0.28  DecisionTreeRegressor(max_depth=2, random_stat...  high_corrs   \n",
       "114 12.71 0.27  DecisionTreeRegressor(max_depth=3, random_stat...  high_corrs   \n",
       "152 12.76 0.26  DecisionTreeRegressor(min_samples_split=202, r...  high_corrs   \n",
       "\n",
       "       pca   poly  \n",
       "113  False  False  \n",
       "114  False  False  \n",
       "152  False  False  "
      ]
     },
     "execution_count": 315,
     "metadata": {},
     "output_type": "execute_result"
    }
   ],
   "source": [
    "# 3 best DTs\n",
    "results_df[results_df['model'].str.contains('Decision')].sort_values('rmse', ascending=True).head(3)"
   ]
  },
  {
   "cell_type": "markdown",
   "metadata": {},
   "source": [
    "### Random Forest"
   ]
  },
  {
   "cell_type": "code",
   "execution_count": 316,
   "metadata": {
    "ExecuteTime": {
     "end_time": "2023-11-18T18:08:32.651277Z",
     "start_time": "2023-11-18T18:08:32.636263Z"
    }
   },
   "outputs": [],
   "source": [
    "rf = RandomForestRegressor(random_state=random_state)"
   ]
  },
  {
   "cell_type": "code",
   "execution_count": 317,
   "metadata": {
    "ExecuteTime": {
     "end_time": "2023-11-18T18:09:36.449964Z",
     "start_time": "2023-11-18T18:08:32.653279Z"
    },
    "scrolled": false
   },
   "outputs": [],
   "source": [
    "# normal data\n",
    "for i, (name, feats) in enumerate(feature_subset_dict.items()):\n",
    "    cross_val(rf, df=df, feature_subset=feats, feature_subset_str=name)"
   ]
  },
  {
   "cell_type": "code",
   "execution_count": 318,
   "metadata": {
    "ExecuteTime": {
     "end_time": "2023-11-18T18:09:36.465979Z",
     "start_time": "2023-11-18T18:09:36.450966Z"
    }
   },
   "outputs": [
    {
     "data": {
      "text/html": [
       "<div>\n",
       "<style scoped>\n",
       "    .dataframe tbody tr th:only-of-type {\n",
       "        vertical-align: middle;\n",
       "    }\n",
       "\n",
       "    .dataframe tbody tr th {\n",
       "        vertical-align: top;\n",
       "    }\n",
       "\n",
       "    .dataframe thead th {\n",
       "        text-align: right;\n",
       "    }\n",
       "</style>\n",
       "<table border=\"1\" class=\"dataframe\">\n",
       "  <thead>\n",
       "    <tr style=\"text-align: right;\">\n",
       "      <th></th>\n",
       "      <th>rmse</th>\n",
       "      <th>r2</th>\n",
       "      <th>model</th>\n",
       "      <th>feats</th>\n",
       "      <th>pca</th>\n",
       "      <th>poly</th>\n",
       "    </tr>\n",
       "  </thead>\n",
       "  <tbody>\n",
       "    <tr>\n",
       "      <th>153</th>\n",
       "      <td>12.43</td>\n",
       "      <td>0.30</td>\n",
       "      <td>RandomForestRegressor(random_state=9)</td>\n",
       "      <td>all_feats</td>\n",
       "      <td>False</td>\n",
       "      <td>False</td>\n",
       "    </tr>\n",
       "    <tr>\n",
       "      <th>154</th>\n",
       "      <td>12.44</td>\n",
       "      <td>0.30</td>\n",
       "      <td>RandomForestRegressor(random_state=9)</td>\n",
       "      <td>percent_features</td>\n",
       "      <td>False</td>\n",
       "      <td>False</td>\n",
       "    </tr>\n",
       "    <tr>\n",
       "      <th>155</th>\n",
       "      <td>12.45</td>\n",
       "      <td>0.30</td>\n",
       "      <td>RandomForestRegressor(random_state=9)</td>\n",
       "      <td>high_corrs</td>\n",
       "      <td>False</td>\n",
       "      <td>False</td>\n",
       "    </tr>\n",
       "  </tbody>\n",
       "</table>\n",
       "</div>"
      ],
      "text/plain": [
       "     rmse   r2                                  model             feats  \\\n",
       "153 12.43 0.30  RandomForestRegressor(random_state=9)         all_feats   \n",
       "154 12.44 0.30  RandomForestRegressor(random_state=9)  percent_features   \n",
       "155 12.45 0.30  RandomForestRegressor(random_state=9)        high_corrs   \n",
       "\n",
       "       pca   poly  \n",
       "153  False  False  \n",
       "154  False  False  \n",
       "155  False  False  "
      ]
     },
     "execution_count": 318,
     "metadata": {},
     "output_type": "execute_result"
    }
   ],
   "source": [
    "results_df[results_df['model'].str.contains('Random')].sort_values('rmse', ascending=True).head(3)"
   ]
  },
  {
   "cell_type": "code",
   "execution_count": 319,
   "metadata": {
    "ExecuteTime": {
     "end_time": "2023-11-18T18:11:07.524995Z",
     "start_time": "2023-11-18T18:09:36.466979Z"
    },
    "scrolled": false
   },
   "outputs": [
    {
     "data": {
      "image/png": "[encoded data removed]",
      "text/plain": [
       "<Figure size 864x432 with 1 Axes>"
      ]
     },
     "metadata": {},
     "output_type": "display_data"
    }
   ],
   "source": [
    "# max_depths from 2-10\n",
    "d_values = range(2, 11)\n",
    "\n",
    "# to hold losses\n",
    "losses = []\n",
    "\n",
    "for d in d_values:\n",
    "    rf = RandomForestRegressor(random_state=random_state, max_depth=d)\n",
    "    \n",
    "    # use best subset found from above\n",
    "    rmse, r2 = cross_val(rf, df=df, feature_subset=all_feats, feature_subset_str='all_feats')\n",
    "    \n",
    "    # append losses\n",
    "    losses.append(rmse) \n",
    "    \n",
    "# plot results\n",
    "plt.figure(figsize=(12, 6))\n",
    "sns.lineplot(x=d_values, y=losses, color='red')\n",
    "\n",
    "plt.title('rf performance using all_feats subset')\n",
    "plt.ylabel('RMSE')\n",
    "plt.xlabel('max_depth');"
   ]
  },
  {
   "cell_type": "code",
   "execution_count": 320,
   "metadata": {
    "ExecuteTime": {
     "end_time": "2023-11-18T18:13:52.052843Z",
     "start_time": "2023-11-18T18:11:07.525997Z"
    },
    "scrolled": false
   },
   "outputs": [
    {
     "data": {
      "image/png": "[encoded data removed]",
      "text/plain": [
       "<Figure size 864x432 with 1 Axes>"
      ]
     },
     "metadata": {},
     "output_type": "display_data"
    }
   ],
   "source": [
    "# min_samples_split from 2- 200, increment by 10\n",
    "s_values = range(2, 203, 10)\n",
    "\n",
    "# to hold losses\n",
    "losses = []\n",
    "\n",
    "for s in s_values:\n",
    "    rf = RandomForestRegressor(random_state=random_state, min_samples_split=s)\n",
    "    \n",
    "    # use best subset found from above\n",
    "    rmse, r2 = cross_val(rf, df=df, feature_subset=all_feats, feature_subset_str='all_feats')\n",
    "    \n",
    "    # append losses\n",
    "    losses.append(rmse) \n",
    "    \n",
    "# plot results\n",
    "plt.figure(figsize=(12, 6))\n",
    "sns.lineplot(x=s_values, y=losses, color='red')\n",
    "\n",
    "plt.title('rf performance using all_feats subset')\n",
    "plt.ylabel('RMSE')\n",
    "plt.xlabel('min_samples_split');"
   ]
  },
  {
   "cell_type": "code",
   "execution_count": 321,
   "metadata": {
    "ExecuteTime": {
     "end_time": "2023-11-18T18:13:52.068857Z",
     "start_time": "2023-11-18T18:13:52.053843Z"
    }
   },
   "outputs": [
    {
     "data": {
      "text/html": [
       "<div>\n",
       "<style scoped>\n",
       "    .dataframe tbody tr th:only-of-type {\n",
       "        vertical-align: middle;\n",
       "    }\n",
       "\n",
       "    .dataframe tbody tr th {\n",
       "        vertical-align: top;\n",
       "    }\n",
       "\n",
       "    .dataframe thead th {\n",
       "        text-align: right;\n",
       "    }\n",
       "</style>\n",
       "<table border=\"1\" class=\"dataframe\">\n",
       "  <thead>\n",
       "    <tr style=\"text-align: right;\">\n",
       "      <th></th>\n",
       "      <th>rmse</th>\n",
       "      <th>r2</th>\n",
       "      <th>model</th>\n",
       "      <th>feats</th>\n",
       "      <th>pca</th>\n",
       "      <th>poly</th>\n",
       "    </tr>\n",
       "  </thead>\n",
       "  <tbody>\n",
       "    <tr>\n",
       "      <th>180</th>\n",
       "      <td>12.17</td>\n",
       "      <td>0.33</td>\n",
       "      <td>RandomForestRegressor(min_samples_split=112, r...</td>\n",
       "      <td>all_feats</td>\n",
       "      <td>False</td>\n",
       "      <td>False</td>\n",
       "    </tr>\n",
       "    <tr>\n",
       "      <th>181</th>\n",
       "      <td>12.17</td>\n",
       "      <td>0.33</td>\n",
       "      <td>RandomForestRegressor(min_samples_split=122, r...</td>\n",
       "      <td>all_feats</td>\n",
       "      <td>False</td>\n",
       "      <td>False</td>\n",
       "    </tr>\n",
       "    <tr>\n",
       "      <th>182</th>\n",
       "      <td>12.18</td>\n",
       "      <td>0.32</td>\n",
       "      <td>RandomForestRegressor(min_samples_split=132, r...</td>\n",
       "      <td>all_feats</td>\n",
       "      <td>False</td>\n",
       "      <td>False</td>\n",
       "    </tr>\n",
       "  </tbody>\n",
       "</table>\n",
       "</div>"
      ],
      "text/plain": [
       "     rmse   r2                                              model      feats  \\\n",
       "180 12.17 0.33  RandomForestRegressor(min_samples_split=112, r...  all_feats   \n",
       "181 12.17 0.33  RandomForestRegressor(min_samples_split=122, r...  all_feats   \n",
       "182 12.18 0.32  RandomForestRegressor(min_samples_split=132, r...  all_feats   \n",
       "\n",
       "       pca   poly  \n",
       "180  False  False  \n",
       "181  False  False  \n",
       "182  False  False  "
      ]
     },
     "execution_count": 321,
     "metadata": {},
     "output_type": "execute_result"
    }
   ],
   "source": [
    "# 3 best RF\n",
    "results_df[results_df['model'].str.contains('Random')].sort_values('rmse', ascending=True).head(3)"
   ]
  },
  {
   "cell_type": "markdown",
   "metadata": {},
   "source": [
    "### XGBoost\n",
    "- XGBosst is notorious for performing well on a wide array of problems."
   ]
  },
  {
   "cell_type": "code",
   "execution_count": 322,
   "metadata": {
    "ExecuteTime": {
     "end_time": "2023-11-18T18:13:52.083871Z",
     "start_time": "2023-11-18T18:13:52.069857Z"
    },
    "scrolled": true
   },
   "outputs": [],
   "source": [
    "xgb = XGBRegressor(n_jobs=-1, random_state=random_state, n_estimators=1000, learning_rate=0.01)"
   ]
  },
  {
   "cell_type": "code",
   "execution_count": 323,
   "metadata": {
    "ExecuteTime": {
     "end_time": "2023-11-18T18:14:11.056098Z",
     "start_time": "2023-11-18T18:13:52.084872Z"
    },
    "scrolled": false
   },
   "outputs": [],
   "source": [
    "for i, (name, feats) in enumerate(feature_subset_dict.items()):\n",
    "    cross_val(xgb, df=df, feature_subset=feats, feature_subset_str=name)"
   ]
  },
  {
   "cell_type": "code",
   "execution_count": 324,
   "metadata": {
    "ExecuteTime": {
     "end_time": "2023-11-18T18:14:11.072112Z",
     "start_time": "2023-11-18T18:14:11.057099Z"
    }
   },
   "outputs": [
    {
     "data": {
      "text/html": [
       "<div>\n",
       "<style scoped>\n",
       "    .dataframe tbody tr th:only-of-type {\n",
       "        vertical-align: middle;\n",
       "    }\n",
       "\n",
       "    .dataframe tbody tr th {\n",
       "        vertical-align: top;\n",
       "    }\n",
       "\n",
       "    .dataframe thead th {\n",
       "        text-align: right;\n",
       "    }\n",
       "</style>\n",
       "<table border=\"1\" class=\"dataframe\">\n",
       "  <thead>\n",
       "    <tr style=\"text-align: right;\">\n",
       "      <th></th>\n",
       "      <th>rmse</th>\n",
       "      <th>r2</th>\n",
       "      <th>model</th>\n",
       "      <th>feats</th>\n",
       "      <th>pca</th>\n",
       "      <th>poly</th>\n",
       "    </tr>\n",
       "  </thead>\n",
       "  <tbody>\n",
       "    <tr>\n",
       "      <th>190</th>\n",
       "      <td>12.79</td>\n",
       "      <td>0.26</td>\n",
       "      <td>XGBRegressor(base_score=None, booster=None, co...</td>\n",
       "      <td>all_feats</td>\n",
       "      <td>False</td>\n",
       "      <td>False</td>\n",
       "    </tr>\n",
       "    <tr>\n",
       "      <th>191</th>\n",
       "      <td>13.02</td>\n",
       "      <td>0.23</td>\n",
       "      <td>XGBRegressor(base_score=None, booster=None, co...</td>\n",
       "      <td>percent_features</td>\n",
       "      <td>False</td>\n",
       "      <td>False</td>\n",
       "    </tr>\n",
       "    <tr>\n",
       "      <th>192</th>\n",
       "      <td>13.11</td>\n",
       "      <td>0.22</td>\n",
       "      <td>XGBRegressor(base_score=None, booster=None, co...</td>\n",
       "      <td>high_corrs</td>\n",
       "      <td>False</td>\n",
       "      <td>False</td>\n",
       "    </tr>\n",
       "  </tbody>\n",
       "</table>\n",
       "</div>"
      ],
      "text/plain": [
       "     rmse   r2                                              model  \\\n",
       "190 12.79 0.26  XGBRegressor(base_score=None, booster=None, co...   \n",
       "191 13.02 0.23  XGBRegressor(base_score=None, booster=None, co...   \n",
       "192 13.11 0.22  XGBRegressor(base_score=None, booster=None, co...   \n",
       "\n",
       "                feats    pca   poly  \n",
       "190         all_feats  False  False  \n",
       "191  percent_features  False  False  \n",
       "192        high_corrs  False  False  "
      ]
     },
     "execution_count": 324,
     "metadata": {},
     "output_type": "execute_result"
    }
   ],
   "source": [
    "# 3 best XGB\n",
    "results_df[results_df['model'].str.contains('XGB')].sort_values('rmse', ascending=True).head(3)"
   ]
  },
  {
   "cell_type": "markdown",
   "metadata": {},
   "source": [
    "## Combining models\n",
    "- After trying 5 different models and searching through many hyperparameters, our best validation results came from the RandomForestRegressor with a val RMSE of __12.17__ and a val R^2 of __0.33__. \n",
    "- This is quite poor performance, as the target variable has a mean of 64 and a std of 15. This means that on average, our best preds our almost a full standard deviation off of the true value.\n",
    "- Hoping to milk slightly more performance out of these models by combining these models in different ways."
   ]
  },
  {
   "cell_type": "markdown",
   "metadata": {},
   "source": [
    "### VotingRegressor\n",
    "- Using best model found from each algorithm."
   ]
  },
  {
   "cell_type": "code",
   "execution_count": 325,
   "metadata": {
    "ExecuteTime": {
     "end_time": "2023-11-18T18:14:11.088127Z",
     "start_time": "2023-11-18T18:14:11.073113Z"
    }
   },
   "outputs": [],
   "source": [
    "# models that did best with high_corrs subset\n",
    "lr_best = LinearRegression()\n",
    "knn_best = KNeighborsRegressor(n_neighbors=46)\n",
    "dt_best = DecisionTreeRegressor(random_state=random_state, max_depth=2)\n",
    "\n",
    "# models that did best with all_feats subset\n",
    "rf_best = RandomForestRegressor(random_state=random_state, min_samples_split=112)\n",
    "xgb_best = XGBRegressor(random_state=random_state, n_estimators=1000, learning_rate=0.01)"
   ]
  },
  {
   "cell_type": "code",
   "execution_count": 326,
   "metadata": {
    "ExecuteTime": {
     "end_time": "2023-11-18T18:14:20.788494Z",
     "start_time": "2023-11-18T18:14:11.089128Z"
    }
   },
   "outputs": [
    {
     "data": {
      "text/html": [
       "<div>\n",
       "<style scoped>\n",
       "    .dataframe tbody tr th:only-of-type {\n",
       "        vertical-align: middle;\n",
       "    }\n",
       "\n",
       "    .dataframe tbody tr th {\n",
       "        vertical-align: top;\n",
       "    }\n",
       "\n",
       "    .dataframe thead th {\n",
       "        text-align: right;\n",
       "    }\n",
       "</style>\n",
       "<table border=\"1\" class=\"dataframe\">\n",
       "  <thead>\n",
       "    <tr style=\"text-align: right;\">\n",
       "      <th></th>\n",
       "      <th>rmse</th>\n",
       "      <th>r2</th>\n",
       "      <th>model</th>\n",
       "      <th>feats</th>\n",
       "      <th>pca</th>\n",
       "      <th>poly</th>\n",
       "    </tr>\n",
       "  </thead>\n",
       "  <tbody>\n",
       "    <tr>\n",
       "      <th>197</th>\n",
       "      <td>12.18</td>\n",
       "      <td>0.32</td>\n",
       "      <td>VotingRegressor(estimators=[('lr', LinearRegre...</td>\n",
       "      <td>high_corrs</td>\n",
       "      <td>False</td>\n",
       "      <td>False</td>\n",
       "    </tr>\n",
       "    <tr>\n",
       "      <th>198</th>\n",
       "      <td>12.30</td>\n",
       "      <td>0.31</td>\n",
       "      <td>VotingRegressor(estimators=[('rf',\\n          ...</td>\n",
       "      <td>all_feats</td>\n",
       "      <td>False</td>\n",
       "      <td>False</td>\n",
       "    </tr>\n",
       "  </tbody>\n",
       "</table>\n",
       "</div>"
      ],
      "text/plain": [
       "     rmse   r2                                              model       feats  \\\n",
       "197 12.18 0.32  VotingRegressor(estimators=[('lr', LinearRegre...  high_corrs   \n",
       "198 12.30 0.31  VotingRegressor(estimators=[('rf',\\n          ...   all_feats   \n",
       "\n",
       "       pca   poly  \n",
       "197  False  False  \n",
       "198  False  False  "
      ]
     },
     "execution_count": 326,
     "metadata": {},
     "output_type": "execute_result"
    }
   ],
   "source": [
    "# voting regressor on high_corrs data\n",
    "vote_1 = VotingRegressor(estimators=[\n",
    "    ('lr', lr_best), \n",
    "    ('knn', knn_best), \n",
    "    ('dt', dt_best)])\n",
    "cross_val(vote_1, df=df, feature_subset=high_corrs, feature_subset_str='high_corrs')\n",
    "\n",
    "# voting regressor on all_feats data\n",
    "vote_2 = VotingRegressor(estimators=[\n",
    "    ('rf', rf_best), \n",
    "    ('xgb', xgb_best)])\n",
    "cross_val(vote_2, df=df, feature_subset=all_feats, feature_subset_str='all_feats')\n",
    "\n",
    "results_df[results_df['model'].str.contains('Vot')].sort_values('rmse', ascending=True).head()"
   ]
  },
  {
   "cell_type": "markdown",
   "metadata": {},
   "source": [
    "- Results are still not as good as the Random Forest."
   ]
  },
  {
   "cell_type": "markdown",
   "metadata": {},
   "source": [
    "### StackingRegressor\n",
    "- Using best model found from each algorithm."
   ]
  },
  {
   "cell_type": "code",
   "execution_count": 327,
   "metadata": {
    "ExecuteTime": {
     "end_time": "2023-11-18T18:15:08.748043Z",
     "start_time": "2023-11-18T18:14:20.789495Z"
    }
   },
   "outputs": [
    {
     "data": {
      "text/html": [
       "<div>\n",
       "<style scoped>\n",
       "    .dataframe tbody tr th:only-of-type {\n",
       "        vertical-align: middle;\n",
       "    }\n",
       "\n",
       "    .dataframe tbody tr th {\n",
       "        vertical-align: top;\n",
       "    }\n",
       "\n",
       "    .dataframe thead th {\n",
       "        text-align: right;\n",
       "    }\n",
       "</style>\n",
       "<table border=\"1\" class=\"dataframe\">\n",
       "  <thead>\n",
       "    <tr style=\"text-align: right;\">\n",
       "      <th></th>\n",
       "      <th>rmse</th>\n",
       "      <th>r2</th>\n",
       "      <th>model</th>\n",
       "      <th>feats</th>\n",
       "      <th>pca</th>\n",
       "      <th>poly</th>\n",
       "    </tr>\n",
       "  </thead>\n",
       "  <tbody>\n",
       "    <tr>\n",
       "      <th>200</th>\n",
       "      <td>12.17</td>\n",
       "      <td>0.32</td>\n",
       "      <td>StackingRegressor(estimators=[('rf',\\n        ...</td>\n",
       "      <td>all_feats</td>\n",
       "      <td>False</td>\n",
       "      <td>False</td>\n",
       "    </tr>\n",
       "    <tr>\n",
       "      <th>199</th>\n",
       "      <td>12.21</td>\n",
       "      <td>0.32</td>\n",
       "      <td>StackingRegressor(estimators=[('lr', LinearReg...</td>\n",
       "      <td>high_corrs</td>\n",
       "      <td>False</td>\n",
       "      <td>False</td>\n",
       "    </tr>\n",
       "  </tbody>\n",
       "</table>\n",
       "</div>"
      ],
      "text/plain": [
       "     rmse   r2                                              model       feats  \\\n",
       "200 12.17 0.32  StackingRegressor(estimators=[('rf',\\n        ...   all_feats   \n",
       "199 12.21 0.32  StackingRegressor(estimators=[('lr', LinearReg...  high_corrs   \n",
       "\n",
       "       pca   poly  \n",
       "200  False  False  \n",
       "199  False  False  "
      ]
     },
     "execution_count": 327,
     "metadata": {},
     "output_type": "execute_result"
    }
   ],
   "source": [
    "# stacking regressor on high_corrs data\n",
    "stack_1 = StackingRegressor(estimators=[\n",
    "    ('lr', lr_best), \n",
    "    ('knn', knn_best), \n",
    "    ('dt', dt_best)])\n",
    "cross_val(stack_1, df=df, feature_subset=high_corrs, feature_subset_str='high_corrs')\n",
    "\n",
    "# stacking regressor on all_feats data\n",
    "stack_2 = StackingRegressor(estimators=[\n",
    "    ('rf', rf_best), \n",
    "    ('xgb', xgb_best)])\n",
    "cross_val(stack_2, df=df, feature_subset=all_feats, feature_subset_str='all_feats')\n",
    "\n",
    "results_df[results_df['model'].str.contains('Stack')].sort_values('rmse', ascending=True).head()"
   ]
  },
  {
   "cell_type": "markdown",
   "metadata": {},
   "source": [
    "- Once again, results are slightly worse than the Random Forest."
   ]
  },
  {
   "cell_type": "code",
   "execution_count": 328,
   "metadata": {
    "ExecuteTime": {
     "end_time": "2023-11-18T18:15:08.764058Z",
     "start_time": "2023-11-18T18:15:08.749044Z"
    }
   },
   "outputs": [],
   "source": [
    "# save model results\n",
    "results_df.to_csv('./models/models.csv')"
   ]
  },
  {
   "cell_type": "markdown",
   "metadata": {},
   "source": [
    "# 2023 predictions\n",
    "- After iterating through many different model/feature/hyperparameter combinations, our best model was a __Random Forest with  min_samples_split of 112__.\n",
    "- This model will be trained on the entire train/val data, and then will predict 2023 offensive grade from the 2022 holdout set."
   ]
  },
  {
   "cell_type": "code",
   "execution_count": 329,
   "metadata": {
    "ExecuteTime": {
     "end_time": "2023-11-18T18:15:10.391536Z",
     "start_time": "2023-11-18T18:15:08.765059Z"
    }
   },
   "outputs": [
    {
     "name": "stdout",
     "output_type": "stream",
     "text": [
      "RMSE: 12.157436114762524\n",
      "R^2 : 0.397691290884134\n"
     ]
    }
   ],
   "source": [
    "# best random forest\n",
    "rf_best = RandomForestRegressor(random_state=random_state, min_samples_split=112)\n",
    "\n",
    "# features and target\n",
    "X_train = df[all_feats]\n",
    "y_train = df.target\n",
    "X_test = players_2022[all_feats]\n",
    "y_test = players_2022.target\n",
    "\n",
    "# create pieline\n",
    "pipeline = Pipeline([\n",
    "        ('scaler', StandardScaler()),\n",
    "        ('rf', rf_best)\n",
    "    ])\n",
    "\n",
    "# train on entire dataset\n",
    "pipeline.fit(X_train, y_train)\n",
    "\n",
    "# predict\n",
    "preds = pipeline.predict(X_test)\n",
    "\n",
    "print(f'RMSE: {mean_squared_error(y_test, preds, squared=False)}')\n",
    "print(f'R^2 : {r2_score(y_test, preds)}')"
   ]
  },
  {
   "cell_type": "markdown",
   "metadata": {},
   "source": [
    "- Using the best random forest we achieved an __RMSE of 12.16__. This means that on average, our 2023 predictions are 12.16 points off the true grade of a player. Our __R^2 is 0.4__, meaning that this model explains 40% of the variation in the target variable."
   ]
  },
  {
   "cell_type": "code",
   "execution_count": 330,
   "metadata": {
    "ExecuteTime": {
     "end_time": "2023-11-18T18:15:10.407551Z",
     "start_time": "2023-11-18T18:15:10.392538Z"
    }
   },
   "outputs": [],
   "source": [
    "# create a df for our predictions\n",
    "preds_df = pd.DataFrame(data={'player': players_2022['player'].values, 'team': players_2022['team_name'].values, \n",
    "                              'y_true': y_test, 'y_pred': preds, 'error': (preds - y_test)})"
   ]
  },
  {
   "cell_type": "code",
   "execution_count": 331,
   "metadata": {
    "ExecuteTime": {
     "end_time": "2023-11-18T18:15:10.423566Z",
     "start_time": "2023-11-18T18:15:10.408552Z"
    }
   },
   "outputs": [],
   "source": [
    "# team colors for plotting predictions\n",
    "nfl_team_colors = {\n",
    "    'GB': '#203731',   # Green Bay Packers\n",
    "    'NO': '#D3BC8D',   # New Orleans Saints\n",
    "    'LA': '#003594',   # Los Angeles Rams\n",
    "    'DAL': '#041E42',  # Dallas Cowboys\n",
    "    'NYG': '#0B2265',  # New York Giants\n",
    "    'LV': '#000000',   # Las Vegas Raiders\n",
    "    'SEA': '#002244',  # Seattle Seahawks\n",
    "    'PHI': '#004C54',  # Philadelphia Eagles\n",
    "    'DET': '#0076B6',  # Detroit Lions\n",
    "    'SF': '#AA0000',   # San Francisco 49ers\n",
    "    'CIN': '#FB4F14',  # Cincinnati Bengals\n",
    "    'BUF': '#00338D',  # Buffalo Bills\n",
    "    'CHI': '#0B162A',  # Chicago Bears\n",
    "    'LAC': '#0080C6',  # Los Angeles Chargers\n",
    "    'PIT': '#FFB612',  # Pittsburgh Steelers\n",
    "    'MIN': '#4F2683',  # Minnesota Vikings\n",
    "    'ARZ': '#97233F',  # Arizona Cardinals\n",
    "    'BLT': '#241773',  # Baltimore Ravens\n",
    "    'NE': '#002244',   # New England Patriots\n",
    "    'KC': '#E31837',   # Kansas City Chiefs\n",
    "    'DEN': '#FB4F14',  # Denver Broncos\n",
    "    'TEN': '#0C2340',  # Tennessee Titans\n",
    "    'WAS': '#773141',  # Washington Commanders\n",
    "    'JAX': '#006778',  # Jacksonville Jaguars\n",
    "    'MIA': '#008E97',  # Miami Dolphins\n",
    "    'NYJ': '#125740',  # New York Jets\n",
    "    'TB': '#D50A0A',   # Tampa Bay Buccaneers\n",
    "    'CLV': '#311D00',  # Cleveland Browns\n",
    "    'ATL': '#A71930',  # Atlanta Falcons\n",
    "    'CAR': '#0085CA',  # Carolina Panthers\n",
    "}\n",
    "\n",
    "# map colors to our preds_df\n",
    "preds_df['color'] = preds_df['team'].map(nfl_team_colors)"
   ]
  },
  {
   "cell_type": "code",
   "execution_count": 332,
   "metadata": {
    "ExecuteTime": {
     "end_time": "2023-11-18T18:15:10.455595Z",
     "start_time": "2023-11-18T18:15:10.424567Z"
    }
   },
   "outputs": [
    {
     "data": {
      "text/html": [
       "<div>\n",
       "<style scoped>\n",
       "    .dataframe tbody tr th:only-of-type {\n",
       "        vertical-align: middle;\n",
       "    }\n",
       "\n",
       "    .dataframe tbody tr th {\n",
       "        vertical-align: top;\n",
       "    }\n",
       "\n",
       "    .dataframe thead th {\n",
       "        text-align: right;\n",
       "    }\n",
       "</style>\n",
       "<table border=\"1\" class=\"dataframe\">\n",
       "  <thead>\n",
       "    <tr style=\"text-align: right;\">\n",
       "      <th></th>\n",
       "      <th>936</th>\n",
       "      <th>566</th>\n",
       "      <th>354</th>\n",
       "      <th>77</th>\n",
       "      <th>177</th>\n",
       "      <th>1262</th>\n",
       "      <th>784</th>\n",
       "      <th>657</th>\n",
       "      <th>1288</th>\n",
       "      <th>1247</th>\n",
       "      <th>666</th>\n",
       "      <th>1117</th>\n",
       "      <th>557</th>\n",
       "      <th>208</th>\n",
       "      <th>63</th>\n",
       "      <th>698</th>\n",
       "      <th>749</th>\n",
       "      <th>695</th>\n",
       "      <th>1097</th>\n",
       "      <th>1057</th>\n",
       "      <th>998</th>\n",
       "      <th>421</th>\n",
       "      <th>548</th>\n",
       "      <th>1170</th>\n",
       "      <th>1304</th>\n",
       "      <th>164</th>\n",
       "      <th>723</th>\n",
       "      <th>1114</th>\n",
       "      <th>502</th>\n",
       "      <th>488</th>\n",
       "      <th>702</th>\n",
       "      <th>415</th>\n",
       "      <th>778</th>\n",
       "      <th>619</th>\n",
       "      <th>615</th>\n",
       "      <th>342</th>\n",
       "      <th>423</th>\n",
       "      <th>144</th>\n",
       "      <th>800</th>\n",
       "      <th>366</th>\n",
       "      <th>802</th>\n",
       "      <th>957</th>\n",
       "      <th>1268</th>\n",
       "      <th>110</th>\n",
       "      <th>71</th>\n",
       "      <th>990</th>\n",
       "      <th>964</th>\n",
       "      <th>25</th>\n",
       "    </tr>\n",
       "  </thead>\n",
       "  <tbody>\n",
       "    <tr>\n",
       "      <th>player</th>\n",
       "      <td>Matthew Stafford</td>\n",
       "      <td>Jared Goff</td>\n",
       "      <td>Dak Prescott</td>\n",
       "      <td>Baker Mayfield</td>\n",
       "      <td>Brock Purdy</td>\n",
       "      <td>Tua Tagovailoa</td>\n",
       "      <td>Lamar Jackson</td>\n",
       "      <td>Jordan Love</td>\n",
       "      <td>Tyrod Taylor</td>\n",
       "      <td>Trevor Lawrence</td>\n",
       "      <td>Josh Allen</td>\n",
       "      <td>Sam Howell</td>\n",
       "      <td>Jameis Winston</td>\n",
       "      <td>C.J. Beathard</td>\n",
       "      <td>Andy Dalton</td>\n",
       "      <td>Justin Fields</td>\n",
       "      <td>Kirk Cousins</td>\n",
       "      <td>Joshua Dobbs</td>\n",
       "      <td>Ryan Tannehill</td>\n",
       "      <td>Russell Wilson</td>\n",
       "      <td>Patrick Mahomes</td>\n",
       "      <td>Deshaun Watson</td>\n",
       "      <td>Jalen Hurts</td>\n",
       "      <td>Taylor Heinicke</td>\n",
       "      <td>Zach Wilson</td>\n",
       "      <td>Brian Hoyer</td>\n",
       "      <td>Kenny Pickett</td>\n",
       "      <td>Sam Darnold</td>\n",
       "      <td>Geno Smith</td>\n",
       "      <td>Gardner Minshew</td>\n",
       "      <td>Justin Herbert</td>\n",
       "      <td>Derek Carr</td>\n",
       "      <td>Kyler Murray</td>\n",
       "      <td>Joe Burrow</td>\n",
       "      <td>Jimmy Garoppolo</td>\n",
       "      <td>Cooper Rush</td>\n",
       "      <td>Desmond Ridder</td>\n",
       "      <td>Brett Rypien</td>\n",
       "      <td>Mac Jones</td>\n",
       "      <td>Daniel Jones</td>\n",
       "      <td>Malik Willis</td>\n",
       "      <td>Mike White</td>\n",
       "      <td>Tyler Huntley</td>\n",
       "      <td>Blaine Gabbert</td>\n",
       "      <td>Bailey Zappe</td>\n",
       "      <td>P.J. Walker</td>\n",
       "      <td>Mitch Trubisky</td>\n",
       "      <td>Aaron Rodgers</td>\n",
       "    </tr>\n",
       "    <tr>\n",
       "      <th>y_true</th>\n",
       "      <td>83.70</td>\n",
       "      <td>90.60</td>\n",
       "      <td>87.60</td>\n",
       "      <td>73.30</td>\n",
       "      <td>78.10</td>\n",
       "      <td>87.50</td>\n",
       "      <td>87.50</td>\n",
       "      <td>71.30</td>\n",
       "      <td>66.80</td>\n",
       "      <td>82.70</td>\n",
       "      <td>89.80</td>\n",
       "      <td>67.50</td>\n",
       "      <td>67.70</td>\n",
       "      <td>66.20</td>\n",
       "      <td>81.10</td>\n",
       "      <td>73.60</td>\n",
       "      <td>86.10</td>\n",
       "      <td>66.30</td>\n",
       "      <td>72.00</td>\n",
       "      <td>77.10</td>\n",
       "      <td>87.10</td>\n",
       "      <td>66.90</td>\n",
       "      <td>81.30</td>\n",
       "      <td>65.30</td>\n",
       "      <td>59.90</td>\n",
       "      <td>57.90</td>\n",
       "      <td>66.80</td>\n",
       "      <td>59.80</td>\n",
       "      <td>75.30</td>\n",
       "      <td>56.60</td>\n",
       "      <td>77.80</td>\n",
       "      <td>68.10</td>\n",
       "      <td>65.60</td>\n",
       "      <td>78.00</td>\n",
       "      <td>65.60</td>\n",
       "      <td>53.10</td>\n",
       "      <td>48.90</td>\n",
       "      <td>48.10</td>\n",
       "      <td>59.00</td>\n",
       "      <td>63.00</td>\n",
       "      <td>45.90</td>\n",
       "      <td>46.20</td>\n",
       "      <td>45.20</td>\n",
       "      <td>40.20</td>\n",
       "      <td>41.30</td>\n",
       "      <td>30.80</td>\n",
       "      <td>34.80</td>\n",
       "      <td>39.40</td>\n",
       "    </tr>\n",
       "    <tr>\n",
       "      <th>y_pred</th>\n",
       "      <td>61.97</td>\n",
       "      <td>72.23</td>\n",
       "      <td>72.68</td>\n",
       "      <td>59.95</td>\n",
       "      <td>65.90</td>\n",
       "      <td>75.70</td>\n",
       "      <td>75.84</td>\n",
       "      <td>60.18</td>\n",
       "      <td>57.16</td>\n",
       "      <td>73.49</td>\n",
       "      <td>80.73</td>\n",
       "      <td>59.27</td>\n",
       "      <td>59.76</td>\n",
       "      <td>58.36</td>\n",
       "      <td>74.31</td>\n",
       "      <td>66.85</td>\n",
       "      <td>79.54</td>\n",
       "      <td>59.97</td>\n",
       "      <td>65.76</td>\n",
       "      <td>71.09</td>\n",
       "      <td>81.66</td>\n",
       "      <td>61.52</td>\n",
       "      <td>77.64</td>\n",
       "      <td>62.26</td>\n",
       "      <td>56.90</td>\n",
       "      <td>54.99</td>\n",
       "      <td>63.92</td>\n",
       "      <td>58.49</td>\n",
       "      <td>74.60</td>\n",
       "      <td>57.99</td>\n",
       "      <td>79.60</td>\n",
       "      <td>71.37</td>\n",
       "      <td>69.12</td>\n",
       "      <td>81.61</td>\n",
       "      <td>70.24</td>\n",
       "      <td>58.31</td>\n",
       "      <td>55.38</td>\n",
       "      <td>56.39</td>\n",
       "      <td>68.35</td>\n",
       "      <td>73.04</td>\n",
       "      <td>58.70</td>\n",
       "      <td>59.49</td>\n",
       "      <td>60.60</td>\n",
       "      <td>56.92</td>\n",
       "      <td>60.91</td>\n",
       "      <td>55.95</td>\n",
       "      <td>62.58</td>\n",
       "      <td>78.00</td>\n",
       "    </tr>\n",
       "    <tr>\n",
       "      <th>error</th>\n",
       "      <td>-21.73</td>\n",
       "      <td>-18.37</td>\n",
       "      <td>-14.92</td>\n",
       "      <td>-13.35</td>\n",
       "      <td>-12.20</td>\n",
       "      <td>-11.80</td>\n",
       "      <td>-11.66</td>\n",
       "      <td>-11.12</td>\n",
       "      <td>-9.64</td>\n",
       "      <td>-9.21</td>\n",
       "      <td>-9.07</td>\n",
       "      <td>-8.23</td>\n",
       "      <td>-7.94</td>\n",
       "      <td>-7.84</td>\n",
       "      <td>-6.79</td>\n",
       "      <td>-6.75</td>\n",
       "      <td>-6.56</td>\n",
       "      <td>-6.33</td>\n",
       "      <td>-6.24</td>\n",
       "      <td>-6.01</td>\n",
       "      <td>-5.44</td>\n",
       "      <td>-5.38</td>\n",
       "      <td>-3.66</td>\n",
       "      <td>-3.04</td>\n",
       "      <td>-3.00</td>\n",
       "      <td>-2.91</td>\n",
       "      <td>-2.88</td>\n",
       "      <td>-1.31</td>\n",
       "      <td>-0.70</td>\n",
       "      <td>1.39</td>\n",
       "      <td>1.80</td>\n",
       "      <td>3.27</td>\n",
       "      <td>3.52</td>\n",
       "      <td>3.61</td>\n",
       "      <td>4.64</td>\n",
       "      <td>5.21</td>\n",
       "      <td>6.48</td>\n",
       "      <td>8.29</td>\n",
       "      <td>9.35</td>\n",
       "      <td>10.04</td>\n",
       "      <td>12.80</td>\n",
       "      <td>13.29</td>\n",
       "      <td>15.40</td>\n",
       "      <td>16.72</td>\n",
       "      <td>19.61</td>\n",
       "      <td>25.15</td>\n",
       "      <td>27.78</td>\n",
       "      <td>38.60</td>\n",
       "    </tr>\n",
       "  </tbody>\n",
       "</table>\n",
       "</div>"
      ],
      "text/plain": [
       "                    936         566           354             77    \\\n",
       "player  Matthew Stafford  Jared Goff  Dak Prescott  Baker Mayfield   \n",
       "y_true             83.70       90.60         87.60           73.30   \n",
       "y_pred             61.97       72.23         72.68           59.95   \n",
       "error             -21.73      -18.37        -14.92          -13.35   \n",
       "\n",
       "               177             1262           784          657           1288  \\\n",
       "player  Brock Purdy  Tua Tagovailoa  Lamar Jackson  Jordan Love  Tyrod Taylor   \n",
       "y_true        78.10           87.50          87.50        71.30         66.80   \n",
       "y_pred        65.90           75.70          75.84        60.18         57.16   \n",
       "error        -12.20          -11.80         -11.66       -11.12         -9.64   \n",
       "\n",
       "                   1247        666         1117            557   \\\n",
       "player  Trevor Lawrence  Josh Allen  Sam Howell  Jameis Winston   \n",
       "y_true            82.70       89.80       67.50           67.70   \n",
       "y_pred            73.49       80.73       59.27           59.76   \n",
       "error             -9.21       -9.07       -8.23           -7.94   \n",
       "\n",
       "                 208          63             698           749           695   \\\n",
       "player  C.J. Beathard  Andy Dalton  Justin Fields  Kirk Cousins  Joshua Dobbs   \n",
       "y_true          66.20        81.10          73.60         86.10         66.30   \n",
       "y_pred          58.36        74.31          66.85         79.54         59.97   \n",
       "error           -7.84        -6.79          -6.75         -6.56         -6.33   \n",
       "\n",
       "                  1097            1057             998             421   \\\n",
       "player  Ryan Tannehill  Russell Wilson  Patrick Mahomes  Deshaun Watson   \n",
       "y_true           72.00           77.10            87.10           66.90   \n",
       "y_pred           65.76           71.09            81.66           61.52   \n",
       "error            -6.24           -6.01            -5.44           -5.38   \n",
       "\n",
       "               548              1170         1304         164            723   \\\n",
       "player  Jalen Hurts  Taylor Heinicke  Zach Wilson  Brian Hoyer  Kenny Pickett   \n",
       "y_true        81.30            65.30        59.90        57.90          66.80   \n",
       "y_pred        77.64            62.26        56.90        54.99          63.92   \n",
       "error         -3.66            -3.04        -3.00        -2.91          -2.88   \n",
       "\n",
       "               1114        502              488             702         415   \\\n",
       "player  Sam Darnold  Geno Smith  Gardner Minshew  Justin Herbert  Derek Carr   \n",
       "y_true        59.80       75.30            56.60           77.80       68.10   \n",
       "y_pred        58.49       74.60            57.99           79.60       71.37   \n",
       "error         -1.31       -0.70             1.39            1.80        3.27   \n",
       "\n",
       "                778         619              615          342   \\\n",
       "player  Kyler Murray  Joe Burrow  Jimmy Garoppolo  Cooper Rush   \n",
       "y_true         65.60       78.00            65.60        53.10   \n",
       "y_pred         69.12       81.61            70.24        58.31   \n",
       "error           3.52        3.61             4.64         5.21   \n",
       "\n",
       "                  423           144        800           366           802   \\\n",
       "player  Desmond Ridder  Brett Rypien  Mac Jones  Daniel Jones  Malik Willis   \n",
       "y_true           48.90         48.10      59.00         63.00         45.90   \n",
       "y_pred           55.38         56.39      68.35         73.04         58.70   \n",
       "error             6.48          8.29       9.35         10.04         12.80   \n",
       "\n",
       "              957            1268            110           71           990   \\\n",
       "player  Mike White  Tyler Huntley  Blaine Gabbert  Bailey Zappe  P.J. Walker   \n",
       "y_true       46.20          45.20           40.20         41.30        30.80   \n",
       "y_pred       59.49          60.60           56.92         60.91        55.95   \n",
       "error        13.29          15.40           16.72         19.61        25.15   \n",
       "\n",
       "                  964            25    \n",
       "player  Mitch Trubisky  Aaron Rodgers  \n",
       "y_true           34.80          39.40  \n",
       "y_pred           62.58          78.00  \n",
       "error            27.78          38.60  "
      ]
     },
     "execution_count": 332,
     "metadata": {},
     "output_type": "execute_result"
    }
   ],
   "source": [
    "# show 2023 predictions for all 48 QBs\n",
    "preds_df.sort_values('error')[['player', 'y_true', 'y_pred', 'error']].T"
   ]
  },
  {
   "cell_type": "code",
   "execution_count": 333,
   "metadata": {
    "ExecuteTime": {
     "end_time": "2023-11-18T18:15:10.471609Z",
     "start_time": "2023-11-18T18:15:10.458598Z"
    }
   },
   "outputs": [
    {
     "name": "stdout",
     "output_type": "stream",
     "text": [
      "64.6% of our model's predictions are within 10pts of the true value.\n"
     ]
    }
   ],
   "source": [
    "# percent of preds within 10 pts\n",
    "percent = (preds_df.error.abs() < 10).sum() / len(preds_df)\n",
    "\n",
    "print(f'{percent*100:.1f}% of our model\\'s predictions are within 10pts of the true value.')"
   ]
  },
  {
   "cell_type": "code",
   "execution_count": 334,
   "metadata": {
    "ExecuteTime": {
     "end_time": "2023-11-18T18:15:10.839944Z",
     "start_time": "2023-11-18T18:15:10.472611Z"
    },
    "scrolled": false
   },
   "outputs": [
    {
     "data": {
      "image/png": "[encoded data removed]",
      "text/plain": [
       "<Figure size 1008x576 with 1 Axes>"
      ]
     },
     "metadata": {},
     "output_type": "display_data"
    }
   ],
   "source": [
    "# visualize 2023 predictions\n",
    "plt.figure(figsize=(14, 8))\n",
    "\n",
    "# lists for annotating player names\n",
    "over_preds = ['Aaron Rodgers', 'Jimmy Garoppolo', 'Joe Burrow', 'P.J. Walker', 'Mitch Trubisky', 'Daniel Jones', 'Mac Jones', \n",
    "              'Desmond Ridder', 'Blaine Gabbert']\n",
    "under_preds = ['Zach Wilson', 'Patrick Mahomes', 'Matthew Stafford', 'Jared Goff', 'Jalen Hurts', 'Tua Tagovailoa', \n",
    "               'Russell Wilson', 'Brock Purdy', 'Deshaun Watson']\n",
    "\n",
    "# title, labels\n",
    "plt.title('2023 Predictions', fontsize=22)\n",
    "plt.xlabel('2023 Actual Offensive Grade', fontsize=22)\n",
    "plt.ylabel('2023 Predicted Offensive Grade', fontsize=22)\n",
    "\n",
    "# team colors\n",
    "color_palette = {color: color for color in preds_df['color'].unique()}\n",
    "\n",
    "# plot players as points\n",
    "sns.scatterplot(data=preds_df, x='y_true', y='y_pred', hue='color', palette=color_palette, legend=False)\n",
    "\n",
    "# plot line to show perfect predictions\n",
    "sns.lineplot(x=range(30,96), y=range(30,96), color='black')\n",
    "\n",
    "# annotating each point with the player's name\n",
    "for index, row in preds_df.iterrows():\n",
    "    if row['player'] in over_preds:\n",
    "        plt.text(row['y_true']-0.5, row['y_pred']-0.5, row['player'], horizontalalignment='right', size='small', color='black', \n",
    "             weight='semibold', fontsize=10)\n",
    "    elif row['player'] in under_preds:\n",
    "        plt.text(row['y_true']+0.5, row['y_pred']+0.5, row['player'], horizontalalignment='left', size='small', color='black', \n",
    "             weight='semibold', fontsize=10)\n",
    "             \n",
    "plt.savefig('./images/preds');"
   ]
  },
  {
   "cell_type": "markdown",
   "metadata": {},
   "source": [
    "- Each point represents a single player in 2023. The distance from the black line is how far off our prediction was. Ideally, a perfect model would only have dots on the line. Dots above the line are cases in which our model overpredicted the player's performance, and dots below the line are under-predictions. Some of the worst predictions are labeled above.\n",
    "- You can see that the worst prediction, by far, is Aaron Rodgers, with an error of 38.6. It should be noted that he was injured on the 4th play of the 2023 season with a torn achilles, so this point is definitely an outlier. If we drop this point, our RMSE goes from a __12.16 to a 10.92__, and R^2 leaps from a __0.4 to a 0.49__. This is shown below."
   ]
  },
  {
   "cell_type": "code",
   "execution_count": 335,
   "metadata": {
    "ExecuteTime": {
     "end_time": "2023-11-18T18:15:10.855958Z",
     "start_time": "2023-11-18T18:15:10.840944Z"
    }
   },
   "outputs": [
    {
     "name": "stdout",
     "output_type": "stream",
     "text": [
      "Normal RMSE: 12.157436114762524\n",
      "Normal R^2 : 0.397691290884134\n",
      "\n",
      "Dropping Aaron Rodgers - RMSE: 10.920073785075424\n",
      "Dropping Aaron Rodgers - R^2 : 0.492223269173908\n"
     ]
    }
   ],
   "source": [
    "# all 48 QBs\n",
    "print(f'Normal RMSE: {mean_squared_error(y_test, preds, squared=False)}')\n",
    "print(f'Normal R^2 : {r2_score(y_test, preds)}\\n')\n",
    "\n",
    "# without aaron rodgers\n",
    "print(f'Dropping Aaron Rodgers - RMSE: {mean_squared_error(y_test[1:], preds[1:], squared=False)}')\n",
    "print(f'Dropping Aaron Rodgers - R^2 : {r2_score(y_test[1:], preds[1:])}')"
   ]
  },
  {
   "cell_type": "code",
   "execution_count": 336,
   "metadata": {
    "ExecuteTime": {
     "end_time": "2023-11-18T18:15:10.871973Z",
     "start_time": "2023-11-18T18:15:10.856960Z"
    }
   },
   "outputs": [
    {
     "name": "stdout",
     "output_type": "stream",
     "text": [
      "Excluding Aaron Rodgers, 66.0% of our model's predictions are within 10pts of the true value.\n"
     ]
    }
   ],
   "source": [
    "# percent of preds within 10 pts\n",
    "percent = (preds_df[1:].error.abs() < 10).sum() / (len(preds_df) - 1)\n",
    "\n",
    "print(f'Excluding Aaron Rodgers, {percent*100:.1f}% of our model\\'s predictions are within 10pts of the true value.')"
   ]
  },
  {
   "cell_type": "markdown",
   "metadata": {},
   "source": [
    "# Conclusion\n",
    "- using an optimized random forest regressor, we were able to predict 2023 QB offensive grade with an RMSE of 12.16 and an R^2 of 0.40.\n",
    "- It should also be noted that these accuracy metrics are only taken from the first 10 weeks of the 2023 season. This repository will be updated once the 2023 season is complete; I will show the error and R^2 of the best model on the full 2023 season. Then, I can make predictions on the 2024 NFL season!"
   ]
  },
  {
   "cell_type": "code",
   "execution_count": null,
   "metadata": {},
   "outputs": [],
   "source": []
  }
 ],
 "metadata": {
  "kernelspec": {
   "display_name": "Python (learn-env)",
   "language": "python",
   "name": "learn-env"
  },
  "language_info": {
   "codemirror_mode": {
    "name": "ipython",
    "version": 3
   },
   "file_extension": ".py",
   "mimetype": "text/x-python",
   "name": "python",
   "nbconvert_exporter": "python",
   "pygments_lexer": "ipython3",
   "version": "3.8.5"
  },
  "latex_envs": {
   "LaTeX_envs_menu_present": true,
   "autoclose": false,
   "autocomplete": true,
   "bibliofile": "biblio.bib",
   "cite_by": "apalike",
   "current_citInitial": 1,
   "eqLabelWithNumbers": true,
   "eqNumInitial": 1,
   "hotkeys": {
    "equation": "Ctrl-E",
    "itemize": "Ctrl-I"
   },
   "labels_anchors": false,
   "latex_user_defs": false,
   "report_style_numbering": false,
   "user_envs_cfg": false
  },
  "toc": {
   "base_numbering": 1,
   "nav_menu": {},
   "number_sections": true,
   "sideBar": true,
   "skip_h1_title": false,
   "title_cell": "Table of Contents",
   "title_sidebar": "Contents",
   "toc_cell": false,
   "toc_position": {},
   "toc_section_display": true,
   "toc_window_display": false
  }
 },
 "nbformat": 4,
 "nbformat_minor": 4
}
