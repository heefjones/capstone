{
 "cells": [
  {
   "cell_type": "markdown",
   "metadata": {},
   "source": [
    "# Project Goal\n",
    "- Create a predictive model that takes in a quarterback's past statistics to predict their __PFF offensive grade__ in the next season. PFF offensive grade is an aggregate measure of a quarterback's overall performance."
   ]
  },
  {
   "cell_type": "markdown",
   "metadata": {},
   "source": [
    "### Data Overview\n",
    "- We have 18 seasons (2006-2023) of NFL Quarterback data acquired from [Pro Football Focus](https://www.pff.com/).\n",
    "- This data is regular season only (excludes postseason games).\n",
    "- Each season is contained in a csv file in the [pass_data](./pass_data) directory."
   ]
  },
  {
   "cell_type": "markdown",
   "metadata": {},
   "source": [
    "# Load data\n",
    "- Get all data into a single dataframe.\n",
    "- Each row will represent a __single season's statistics__ from a single player.\n",
    "- Most players will have multiple rows, as majority played multiple seasons."
   ]
  },
  {
   "cell_type": "markdown",
   "metadata": {},
   "source": [
    "### Imports, sample_df"
   ]
  },
  {
   "cell_type": "code",
   "execution_count": 1,
   "metadata": {
    "ExecuteTime": {
     "end_time": "2023-11-08T21:27:10.974255Z",
     "start_time": "2023-11-08T21:27:10.487812Z"
    }
   },
   "outputs": [],
   "source": [
    "import pandas as pd\n",
    "import numpy as np\n",
    "import os\n",
    "\n",
    "pd.options.display.max_columns = 100\n",
    "pd.options.display.max_rows = 100"
   ]
  },
  {
   "cell_type": "code",
   "execution_count": 2,
   "metadata": {
    "ExecuteTime": {
     "end_time": "2023-11-08T21:27:11.021297Z",
     "start_time": "2023-11-08T21:27:10.976256Z"
    },
    "scrolled": false
   },
   "outputs": [
    {
     "data": {
      "text/html": [
       "<div>\n",
       "<style scoped>\n",
       "    .dataframe tbody tr th:only-of-type {\n",
       "        vertical-align: middle;\n",
       "    }\n",
       "\n",
       "    .dataframe tbody tr th {\n",
       "        vertical-align: top;\n",
       "    }\n",
       "\n",
       "    .dataframe thead th {\n",
       "        text-align: right;\n",
       "    }\n",
       "</style>\n",
       "<table border=\"1\" class=\"dataframe\">\n",
       "  <thead>\n",
       "    <tr style=\"text-align: right;\">\n",
       "      <th></th>\n",
       "      <th>player</th>\n",
       "      <th>player_id</th>\n",
       "      <th>position</th>\n",
       "      <th>team_name</th>\n",
       "      <th>player_game_count</th>\n",
       "      <th>accuracy_percent</th>\n",
       "      <th>aimed_passes</th>\n",
       "      <th>attempts</th>\n",
       "      <th>avg_depth_of_target</th>\n",
       "      <th>avg_time_to_throw</th>\n",
       "      <th>bats</th>\n",
       "      <th>big_time_throws</th>\n",
       "      <th>btt_rate</th>\n",
       "      <th>completion_percent</th>\n",
       "      <th>completions</th>\n",
       "      <th>declined_penalties</th>\n",
       "      <th>def_gen_pressures</th>\n",
       "      <th>drop_rate</th>\n",
       "      <th>dropbacks</th>\n",
       "      <th>drops</th>\n",
       "      <th>first_downs</th>\n",
       "      <th>franchise_id</th>\n",
       "      <th>grades_hands_fumble</th>\n",
       "      <th>grades_offense</th>\n",
       "      <th>grades_pass</th>\n",
       "      <th>grades_run</th>\n",
       "      <th>hit_as_threw</th>\n",
       "      <th>interceptions</th>\n",
       "      <th>passing_snaps</th>\n",
       "      <th>penalties</th>\n",
       "      <th>pressure_to_sack_rate</th>\n",
       "      <th>qb_rating</th>\n",
       "      <th>sack_percent</th>\n",
       "      <th>sacks</th>\n",
       "      <th>scrambles</th>\n",
       "      <th>spikes</th>\n",
       "      <th>thrown_aways</th>\n",
       "      <th>touchdowns</th>\n",
       "      <th>turnover_worthy_plays</th>\n",
       "      <th>twp_rate</th>\n",
       "      <th>yards</th>\n",
       "      <th>ypa</th>\n",
       "    </tr>\n",
       "  </thead>\n",
       "  <tbody>\n",
       "    <tr>\n",
       "      <th>0</th>\n",
       "      <td>Brett Favre</td>\n",
       "      <td>14</td>\n",
       "      <td>QB</td>\n",
       "      <td>GB</td>\n",
       "      <td>16</td>\n",
       "      <td>66.2</td>\n",
       "      <td>583</td>\n",
       "      <td>613</td>\n",
       "      <td>9.0</td>\n",
       "      <td>2.52</td>\n",
       "      <td>12</td>\n",
       "      <td>22</td>\n",
       "      <td>3.4</td>\n",
       "      <td>56.0</td>\n",
       "      <td>343</td>\n",
       "      <td>1</td>\n",
       "      <td>162</td>\n",
       "      <td>11.1</td>\n",
       "      <td>638</td>\n",
       "      <td>43</td>\n",
       "      <td>188</td>\n",
       "      <td>12</td>\n",
       "      <td>74.6</td>\n",
       "      <td>55.7</td>\n",
       "      <td>57.4</td>\n",
       "      <td>31.3</td>\n",
       "      <td>4</td>\n",
       "      <td>18</td>\n",
       "      <td>665</td>\n",
       "      <td>2</td>\n",
       "      <td>13.0</td>\n",
       "      <td>72.8</td>\n",
       "      <td>3.3</td>\n",
       "      <td>21</td>\n",
       "      <td>4</td>\n",
       "      <td>2</td>\n",
       "      <td>12</td>\n",
       "      <td>18</td>\n",
       "      <td>27</td>\n",
       "      <td>4.1</td>\n",
       "      <td>3904</td>\n",
       "      <td>6.4</td>\n",
       "    </tr>\n",
       "    <tr>\n",
       "      <th>1</th>\n",
       "      <td>Jon Kitna</td>\n",
       "      <td>217</td>\n",
       "      <td>QB</td>\n",
       "      <td>DET</td>\n",
       "      <td>16</td>\n",
       "      <td>71.1</td>\n",
       "      <td>560</td>\n",
       "      <td>596</td>\n",
       "      <td>9.3</td>\n",
       "      <td>2.79</td>\n",
       "      <td>9</td>\n",
       "      <td>24</td>\n",
       "      <td>3.8</td>\n",
       "      <td>62.4</td>\n",
       "      <td>372</td>\n",
       "      <td>0</td>\n",
       "      <td>245</td>\n",
       "      <td>6.5</td>\n",
       "      <td>677</td>\n",
       "      <td>26</td>\n",
       "      <td>221</td>\n",
       "      <td>11</td>\n",
       "      <td>62.0</td>\n",
       "      <td>64.3</td>\n",
       "      <td>65.5</td>\n",
       "      <td>43.9</td>\n",
       "      <td>6</td>\n",
       "      <td>22</td>\n",
       "      <td>714</td>\n",
       "      <td>3</td>\n",
       "      <td>25.7</td>\n",
       "      <td>79.9</td>\n",
       "      <td>9.3</td>\n",
       "      <td>63</td>\n",
       "      <td>18</td>\n",
       "      <td>2</td>\n",
       "      <td>19</td>\n",
       "      <td>21</td>\n",
       "      <td>33</td>\n",
       "      <td>4.6</td>\n",
       "      <td>4209</td>\n",
       "      <td>7.1</td>\n",
       "    </tr>\n",
       "  </tbody>\n",
       "</table>\n",
       "</div>"
      ],
      "text/plain": [
       "        player  player_id position team_name  player_game_count  \\\n",
       "0  Brett Favre         14       QB        GB                 16   \n",
       "1    Jon Kitna        217       QB       DET                 16   \n",
       "\n",
       "   accuracy_percent  aimed_passes  attempts  avg_depth_of_target  \\\n",
       "0              66.2           583       613                  9.0   \n",
       "1              71.1           560       596                  9.3   \n",
       "\n",
       "   avg_time_to_throw  bats  big_time_throws  btt_rate  completion_percent  \\\n",
       "0               2.52    12               22       3.4                56.0   \n",
       "1               2.79     9               24       3.8                62.4   \n",
       "\n",
       "   completions  declined_penalties  def_gen_pressures  drop_rate  dropbacks  \\\n",
       "0          343                   1                162       11.1        638   \n",
       "1          372                   0                245        6.5        677   \n",
       "\n",
       "   drops  first_downs  franchise_id  grades_hands_fumble  grades_offense  \\\n",
       "0     43          188            12                 74.6            55.7   \n",
       "1     26          221            11                 62.0            64.3   \n",
       "\n",
       "   grades_pass  grades_run  hit_as_threw  interceptions  passing_snaps  \\\n",
       "0         57.4        31.3             4             18            665   \n",
       "1         65.5        43.9             6             22            714   \n",
       "\n",
       "   penalties  pressure_to_sack_rate  qb_rating  sack_percent  sacks  \\\n",
       "0          2                   13.0       72.8           3.3     21   \n",
       "1          3                   25.7       79.9           9.3     63   \n",
       "\n",
       "   scrambles  spikes  thrown_aways  touchdowns  turnover_worthy_plays  \\\n",
       "0          4       2            12          18                     27   \n",
       "1         18       2            19          21                     33   \n",
       "\n",
       "   twp_rate  yards  ypa  \n",
       "0       4.1   3904  6.4  \n",
       "1       4.6   4209  7.1  "
      ]
     },
     "execution_count": 2,
     "metadata": {},
     "output_type": "execute_result"
    }
   ],
   "source": [
    "# preview 2 QBs from 2006 season (passing stats)\n",
    "sample_df = pd.read_csv('../pass_data/2006.csv')\n",
    "sample_df.head(2)"
   ]
  },
  {
   "cell_type": "code",
   "execution_count": 3,
   "metadata": {
    "ExecuteTime": {
     "end_time": "2023-11-08T21:27:11.068341Z",
     "start_time": "2023-11-08T21:27:11.023300Z"
    }
   },
   "outputs": [
    {
     "data": {
      "text/html": [
       "<div>\n",
       "<style scoped>\n",
       "    .dataframe tbody tr th:only-of-type {\n",
       "        vertical-align: middle;\n",
       "    }\n",
       "\n",
       "    .dataframe tbody tr th {\n",
       "        vertical-align: top;\n",
       "    }\n",
       "\n",
       "    .dataframe thead th {\n",
       "        text-align: right;\n",
       "    }\n",
       "</style>\n",
       "<table border=\"1\" class=\"dataframe\">\n",
       "  <thead>\n",
       "    <tr style=\"text-align: right;\">\n",
       "      <th></th>\n",
       "      <th>player</th>\n",
       "      <th>player_id</th>\n",
       "      <th>position</th>\n",
       "      <th>team_name</th>\n",
       "      <th>player_game_count</th>\n",
       "      <th>attempts</th>\n",
       "      <th>avoided_tackles</th>\n",
       "      <th>breakaway_attempts</th>\n",
       "      <th>breakaway_percent</th>\n",
       "      <th>breakaway_yards</th>\n",
       "      <th>declined_penalties</th>\n",
       "      <th>designed_yards</th>\n",
       "      <th>drops</th>\n",
       "      <th>elu_recv_mtf</th>\n",
       "      <th>elu_rush_mtf</th>\n",
       "      <th>elu_yco</th>\n",
       "      <th>elusive_rating</th>\n",
       "      <th>explosive</th>\n",
       "      <th>first_downs</th>\n",
       "      <th>franchise_id</th>\n",
       "      <th>fumbles</th>\n",
       "      <th>gap_attempts</th>\n",
       "      <th>grades_hands_fumble</th>\n",
       "      <th>grades_offense</th>\n",
       "      <th>grades_offense_penalty</th>\n",
       "      <th>grades_pass</th>\n",
       "      <th>grades_pass_block</th>\n",
       "      <th>grades_pass_route</th>\n",
       "      <th>grades_run</th>\n",
       "      <th>grades_run_block</th>\n",
       "      <th>longest</th>\n",
       "      <th>penalties</th>\n",
       "      <th>rec_yards</th>\n",
       "      <th>receptions</th>\n",
       "      <th>routes</th>\n",
       "      <th>run_plays</th>\n",
       "      <th>scramble_yards</th>\n",
       "      <th>scrambles</th>\n",
       "      <th>targets</th>\n",
       "      <th>total_touches</th>\n",
       "      <th>touchdowns</th>\n",
       "      <th>yards</th>\n",
       "      <th>yards_after_contact</th>\n",
       "      <th>yco_attempt</th>\n",
       "      <th>ypa</th>\n",
       "      <th>yprr</th>\n",
       "      <th>zone_attempts</th>\n",
       "    </tr>\n",
       "  </thead>\n",
       "  <tbody>\n",
       "    <tr>\n",
       "      <th>43</th>\n",
       "      <td>Michael Vick</td>\n",
       "      <td>773</td>\n",
       "      <td>QB</td>\n",
       "      <td>ATL</td>\n",
       "      <td>16</td>\n",
       "      <td>50</td>\n",
       "      <td>17</td>\n",
       "      <td>6</td>\n",
       "      <td>10.8</td>\n",
       "      <td>112</td>\n",
       "      <td>1</td>\n",
       "      <td>280</td>\n",
       "      <td>0</td>\n",
       "      <td>0</td>\n",
       "      <td>5</td>\n",
       "      <td>85.0</td>\n",
       "      <td>16.7</td>\n",
       "      <td>44</td>\n",
       "      <td>55</td>\n",
       "      <td>2</td>\n",
       "      <td>9</td>\n",
       "      <td>11</td>\n",
       "      <td>43.8</td>\n",
       "      <td>66.5</td>\n",
       "      <td>64.9</td>\n",
       "      <td>57.8</td>\n",
       "      <td>61.3</td>\n",
       "      <td>60.0</td>\n",
       "      <td>84.8</td>\n",
       "      <td>60.1</td>\n",
       "      <td>51</td>\n",
       "      <td>3</td>\n",
       "      <td>1</td>\n",
       "      <td>1</td>\n",
       "      <td>1</td>\n",
       "      <td>448</td>\n",
       "      <td>759</td>\n",
       "      <td>73</td>\n",
       "      <td>1</td>\n",
       "      <td>51</td>\n",
       "      <td>2</td>\n",
       "      <td>1039</td>\n",
       "      <td>308</td>\n",
       "      <td>2.50</td>\n",
       "      <td>8.4</td>\n",
       "      <td>1.0</td>\n",
       "      <td>17</td>\n",
       "    </tr>\n",
       "    <tr>\n",
       "      <th>53</th>\n",
       "      <td>Vince Young</td>\n",
       "      <td>2948</td>\n",
       "      <td>QB</td>\n",
       "      <td>TEN</td>\n",
       "      <td>15</td>\n",
       "      <td>37</td>\n",
       "      <td>13</td>\n",
       "      <td>1</td>\n",
       "      <td>3.4</td>\n",
       "      <td>19</td>\n",
       "      <td>0</td>\n",
       "      <td>78</td>\n",
       "      <td>0</td>\n",
       "      <td>0</td>\n",
       "      <td>5</td>\n",
       "      <td>56.0</td>\n",
       "      <td>20.5</td>\n",
       "      <td>21</td>\n",
       "      <td>30</td>\n",
       "      <td>31</td>\n",
       "      <td>10</td>\n",
       "      <td>6</td>\n",
       "      <td>28.9</td>\n",
       "      <td>51.3</td>\n",
       "      <td>62.2</td>\n",
       "      <td>48.5</td>\n",
       "      <td>NaN</td>\n",
       "      <td>NaN</td>\n",
       "      <td>63.7</td>\n",
       "      <td>60.0</td>\n",
       "      <td>39</td>\n",
       "      <td>2</td>\n",
       "      <td>0</td>\n",
       "      <td>0</td>\n",
       "      <td>0</td>\n",
       "      <td>378</td>\n",
       "      <td>474</td>\n",
       "      <td>46</td>\n",
       "      <td>0</td>\n",
       "      <td>37</td>\n",
       "      <td>7</td>\n",
       "      <td>552</td>\n",
       "      <td>240</td>\n",
       "      <td>2.89</td>\n",
       "      <td>6.7</td>\n",
       "      <td>NaN</td>\n",
       "      <td>10</td>\n",
       "    </tr>\n",
       "  </tbody>\n",
       "</table>\n",
       "</div>"
      ],
      "text/plain": [
       "          player  player_id position team_name  player_game_count  attempts  \\\n",
       "43  Michael Vick        773       QB       ATL                 16        50   \n",
       "53   Vince Young       2948       QB       TEN                 15        37   \n",
       "\n",
       "    avoided_tackles  breakaway_attempts  breakaway_percent  breakaway_yards  \\\n",
       "43               17                   6               10.8              112   \n",
       "53               13                   1                3.4               19   \n",
       "\n",
       "    declined_penalties  designed_yards  drops  elu_recv_mtf  elu_rush_mtf  \\\n",
       "43                   1             280      0             0             5   \n",
       "53                   0              78      0             0             5   \n",
       "\n",
       "    elu_yco  elusive_rating  explosive  first_downs  franchise_id  fumbles  \\\n",
       "43     85.0            16.7         44           55             2        9   \n",
       "53     56.0            20.5         21           30            31       10   \n",
       "\n",
       "    gap_attempts  grades_hands_fumble  grades_offense  grades_offense_penalty  \\\n",
       "43            11                 43.8            66.5                    64.9   \n",
       "53             6                 28.9            51.3                    62.2   \n",
       "\n",
       "    grades_pass  grades_pass_block  grades_pass_route  grades_run  \\\n",
       "43         57.8               61.3               60.0        84.8   \n",
       "53         48.5                NaN                NaN        63.7   \n",
       "\n",
       "    grades_run_block  longest  penalties  rec_yards  receptions  routes  \\\n",
       "43              60.1       51          3          1           1       1   \n",
       "53              60.0       39          2          0           0       0   \n",
       "\n",
       "    run_plays  scramble_yards  scrambles  targets  total_touches  touchdowns  \\\n",
       "43        448             759         73        1             51           2   \n",
       "53        378             474         46        0             37           7   \n",
       "\n",
       "    yards  yards_after_contact  yco_attempt  ypa  yprr  zone_attempts  \n",
       "43   1039                  308         2.50  8.4   1.0             17  \n",
       "53    552                  240         2.89  6.7   NaN             10  "
      ]
     },
     "execution_count": 3,
     "metadata": {},
     "output_type": "execute_result"
    }
   ],
   "source": [
    "# preview 2 QBs from 2006 season (rushing stats)\n",
    "sample_df = pd.read_csv('../rush_data/2006.csv').query(\"position == 'QB'\")\n",
    "sample_df.head(2)"
   ]
  },
  {
   "cell_type": "markdown",
   "metadata": {},
   "source": [
    "### Columns to drop"
   ]
  },
  {
   "cell_type": "code",
   "execution_count": 4,
   "metadata": {
    "ExecuteTime": {
     "end_time": "2023-11-08T21:27:11.084355Z",
     "start_time": "2023-11-08T21:27:11.071343Z"
    }
   },
   "outputs": [],
   "source": [
    "# drop unnecessary/redundant stats from passing data\n",
    "pass_drops = ['player_id', 'position', 'declined_penalties', 'franchise_id', 'grades_run']"
   ]
  },
  {
   "cell_type": "code",
   "execution_count": 5,
   "metadata": {
    "ExecuteTime": {
     "end_time": "2023-11-08T21:27:11.100370Z",
     "start_time": "2023-11-08T21:27:11.085355Z"
    }
   },
   "outputs": [],
   "source": [
    "# drop unnecessary/redundant stats from rushing data. Also drop duplicate columns already contained in the passing data\n",
    "rush_drops = ['player_id', 'position', 'team_name', 'player_game_count', 'declined_penalties', 'drops', 'franchise_id', \n",
    "              'grades_hands_fumble', 'grades_offense', 'grades_pass','grades_pass_block', 'grades_pass_route', \n",
    "              'grades_run_block', 'penalties', 'rec_yards', 'receptions', 'routes', 'scrambles', 'targets', 'yprr']"
   ]
  },
  {
   "cell_type": "markdown",
   "metadata": {},
   "source": [
    "- Dropping features that should not have an impact on our predictions. This includes player_id, position (everyone is a QB) and franchise_id.\n",
    "- Also dropping duplicate columns that appear in both the passing and rushing data."
   ]
  },
  {
   "cell_type": "markdown",
   "metadata": {},
   "source": [
    "### Passing data"
   ]
  },
  {
   "cell_type": "code",
   "execution_count": 6,
   "metadata": {
    "ExecuteTime": {
     "end_time": "2023-11-08T21:27:11.228485Z",
     "start_time": "2023-11-08T21:27:11.102371Z"
    }
   },
   "outputs": [],
   "source": [
    "# get all csv files in the 'pass_data' directory\n",
    "file_paths = [os.path.join('../pass_data', file) for file in os.listdir('../pass_data') if file.endswith('.csv')]\n",
    "\n",
    "# list to hold all 18 pass_dfs\n",
    "pass_dfs = []\n",
    "\n",
    "# read each file into a dataframe\n",
    "for file_path in file_paths:\n",
    "    \n",
    "    # get year as string from filename\n",
    "    year = file_path[-8:-4]\n",
    "    \n",
    "    # load each season into a df, get QBs, drop specified columns, set player name as index\n",
    "    pass_data = pd.read_csv(file_path).query(\"position == 'QB'\").drop(pass_drops, axis=1)\n",
    "    \n",
    "    # add 'pass' to cols to indicate passing stat\n",
    "    pass_data.columns = ['player', 'team_name', 'player_game_count'] + ['pass_' + col for col in pass_data.columns[3:]]\n",
    "    \n",
    "    # add year column\n",
    "    pass_data['year'] = year\n",
    "    \n",
    "    # add df to list\n",
    "    pass_dfs.append(pass_data)"
   ]
  },
  {
   "cell_type": "code",
   "execution_count": 7,
   "metadata": {
    "ExecuteTime": {
     "end_time": "2023-11-08T21:27:11.244501Z",
     "start_time": "2023-11-08T21:27:11.230488Z"
    }
   },
   "outputs": [
    {
     "data": {
      "text/plain": [
       "((70, 38), (81, 38))"
      ]
     },
     "execution_count": 7,
     "metadata": {},
     "output_type": "execute_result"
    }
   ],
   "source": [
    "# look at 2006 and 2007 seasons\n",
    "pass_dfs[0].shape, pass_dfs[1].shape"
   ]
  },
  {
   "cell_type": "markdown",
   "metadata": {},
   "source": [
    "- A single season of passing data contains player_name + 27 columns.\n",
    "- The 2006 season has passing statistics for 70 unique QBs, the 2007 season has 81."
   ]
  },
  {
   "cell_type": "markdown",
   "metadata": {},
   "source": [
    "### Rushing data"
   ]
  },
  {
   "cell_type": "code",
   "execution_count": 8,
   "metadata": {
    "ExecuteTime": {
     "end_time": "2023-11-08T21:27:11.388632Z",
     "start_time": "2023-11-08T21:27:11.246502Z"
    }
   },
   "outputs": [],
   "source": [
    "# get all csv files in the 'rush_data' directory\n",
    "file_paths = [os.path.join('../rush_data', file) for file in os.listdir('../rush_data') if file.endswith('.csv')]\n",
    "\n",
    "# list to hold all 18 rush_dfs\n",
    "rush_dfs = []\n",
    "\n",
    "# read each file into a dataframe\n",
    "for file_path in file_paths:\n",
    "    \n",
    "    # get year as string from filename\n",
    "    year = file_path[-8:-4]\n",
    "    \n",
    "    # load each season into a df, get QBs, drop specified columns, set player name as index\n",
    "    rush_data = pd.read_csv(file_path).query(\"position == 'QB'\").drop(rush_drops, axis=1)\n",
    "    \n",
    "    # add 'rush' to cols to indicate rushing stat\n",
    "    rush_data.columns = ['player'] + ['rush_' + col for col in rush_data.columns[1:]]\n",
    "    \n",
    "    # add year column\n",
    "    rush_data['year'] = year\n",
    "    \n",
    "    # add df to list\n",
    "    rush_dfs.append(rush_data)"
   ]
  },
  {
   "cell_type": "code",
   "execution_count": 9,
   "metadata": {
    "ExecuteTime": {
     "end_time": "2023-11-08T21:27:11.404647Z",
     "start_time": "2023-11-08T21:27:11.390634Z"
    }
   },
   "outputs": [
    {
     "data": {
      "text/plain": [
       "((68, 28), (79, 28))"
      ]
     },
     "execution_count": 9,
     "metadata": {},
     "output_type": "execute_result"
    }
   ],
   "source": [
    "# look at 2006 and 2007 seasons\n",
    "rush_dfs[0].shape, rush_dfs[1].shape"
   ]
  },
  {
   "cell_type": "markdown",
   "metadata": {},
   "source": [
    "- A single season of rushing data contains player_name + 23 columns.\n",
    "- The 2006 season has rushing statistics for 68 unique QBs, the 2007 season has 79."
   ]
  },
  {
   "cell_type": "markdown",
   "metadata": {},
   "source": [
    "### Merge pass and rush dfs"
   ]
  },
  {
   "cell_type": "code",
   "execution_count": 10,
   "metadata": {
    "ExecuteTime": {
     "end_time": "2023-11-08T21:27:11.436676Z",
     "start_time": "2023-11-08T21:27:11.408650Z"
    }
   },
   "outputs": [
    {
     "data": {
      "text/plain": [
       "(0, 288)"
      ]
     },
     "execution_count": 10,
     "metadata": {},
     "output_type": "execute_result"
    }
   ],
   "source": [
    "# stack 18 passing dataframes together\n",
    "pass_df = pd.concat(pass_dfs, axis=0)\n",
    "\n",
    "# duplicate players, unique QBs\n",
    "pass_df.duplicated().sum(), pass_df['player'].nunique()"
   ]
  },
  {
   "cell_type": "markdown",
   "metadata": {},
   "source": [
    "- No duplicate players\n",
    "- 288 unique NFL quarterbacks"
   ]
  },
  {
   "cell_type": "code",
   "execution_count": 11,
   "metadata": {
    "ExecuteTime": {
     "end_time": "2023-11-08T21:27:11.468704Z",
     "start_time": "2023-11-08T21:27:11.437676Z"
    }
   },
   "outputs": [
    {
     "data": {
      "text/plain": [
       "(0, 275)"
      ]
     },
     "execution_count": 11,
     "metadata": {},
     "output_type": "execute_result"
    }
   ],
   "source": [
    "# stack 18 rushing dataframes together\n",
    "rush_df = pd.concat(rush_dfs, axis=0)\n",
    "\n",
    "# duplicate players, unique QBs\n",
    "rush_df = rush_df.drop_duplicates()\n",
    "rush_df.duplicated().sum(), rush_df['player'].nunique()"
   ]
  },
  {
   "cell_type": "markdown",
   "metadata": {},
   "source": [
    "- No duplicate players\n",
    "- 275 unique NFL quarterbacks"
   ]
  },
  {
   "cell_type": "markdown",
   "metadata": {},
   "source": [
    "### Create master df"
   ]
  },
  {
   "cell_type": "code",
   "execution_count": 12,
   "metadata": {
    "ExecuteTime": {
     "end_time": "2023-11-08T21:27:11.484719Z",
     "start_time": "2023-11-08T21:27:11.470707Z"
    }
   },
   "outputs": [
    {
     "data": {
      "text/plain": [
       "((1305, 38), (1250, 28))"
      ]
     },
     "execution_count": 12,
     "metadata": {},
     "output_type": "execute_result"
    }
   ],
   "source": [
    "pass_df.shape, rush_df.shape"
   ]
  },
  {
   "cell_type": "code",
   "execution_count": 13,
   "metadata": {
    "ExecuteTime": {
     "end_time": "2023-11-08T21:27:11.500735Z",
     "start_time": "2023-11-08T21:27:11.486721Z"
    }
   },
   "outputs": [
    {
     "data": {
      "text/plain": [
       "(1305, 64)"
      ]
     },
     "execution_count": 13,
     "metadata": {},
     "output_type": "execute_result"
    }
   ],
   "source": [
    "# left join to ensure we have players with passing data, as this is more important\n",
    "df = pass_df.merge(rush_df, on=['player', 'year'], how='left')\n",
    "\n",
    "# set player name to the index\n",
    "# df = df.set_index('player')\n",
    "\n",
    "df.shape"
   ]
  },
  {
   "cell_type": "markdown",
   "metadata": {},
   "source": [
    "- 1305 QB seasons."
   ]
  },
  {
   "cell_type": "code",
   "execution_count": 14,
   "metadata": {
    "ExecuteTime": {
     "end_time": "2023-11-08T21:27:11.516748Z",
     "start_time": "2023-11-08T21:27:11.502736Z"
    }
   },
   "outputs": [
    {
     "data": {
      "text/plain": [
       "(63, 18)"
      ]
     },
     "execution_count": 14,
     "metadata": {},
     "output_type": "execute_result"
    }
   ],
   "source": [
    "# some global variables that will be used throughout this notebook\n",
    "\n",
    "num_features = df.shape[1] - 1 # subtract 1 (player name is not a feature)\n",
    "num_seasons = len(file_paths)\n",
    "\n",
    "num_features, num_seasons"
   ]
  },
  {
   "cell_type": "markdown",
   "metadata": {},
   "source": [
    "- 63 numerical statistics from 18 different NFL seasons."
   ]
  },
  {
   "cell_type": "markdown",
   "metadata": {
    "heading_collapsed": true
   },
   "source": [
    "# Wins\n",
    "- Analyze wins for each QB in each season"
   ]
  },
  {
   "cell_type": "code",
   "execution_count": 15,
   "metadata": {
    "ExecuteTime": {
     "end_time": "2023-11-08T21:27:12.537678Z",
     "start_time": "2023-11-08T21:27:11.518751Z"
    },
    "hidden": true
   },
   "outputs": [],
   "source": [
    "import matplotlib.pyplot as plt\n",
    "import seaborn as sns\n",
    "%matplotlib inline"
   ]
  },
  {
   "cell_type": "code",
   "execution_count": 16,
   "metadata": {
    "ExecuteTime": {
     "end_time": "2023-11-08T21:27:12.553693Z",
     "start_time": "2023-11-08T21:27:12.538679Z"
    },
    "hidden": true
   },
   "outputs": [
    {
     "data": {
      "text/plain": [
       "0.46513409961685825"
      ]
     },
     "execution_count": 16,
     "metadata": {},
     "output_type": "execute_result"
    }
   ],
   "source": [
    "# only use QBs who played in at least 8 games (half the season)\n",
    "df[df['player_game_count'] >= 8].shape[0] / df.shape[0]"
   ]
  },
  {
   "cell_type": "markdown",
   "metadata": {
    "hidden": true
   },
   "source": [
    "- 46.5% of our QBs played at least 8 games."
   ]
  },
  {
   "cell_type": "code",
   "execution_count": 17,
   "metadata": {
    "ExecuteTime": {
     "end_time": "2023-11-08T21:27:12.745867Z",
     "start_time": "2023-11-08T21:27:12.555695Z"
    },
    "hidden": true
   },
   "outputs": [
    {
     "data": {
      "image/png": "[encoded data removed]",
      "text/plain": [
       "<Figure size 640x480 with 1 Axes>"
      ]
     },
     "metadata": {},
     "output_type": "display_data"
    }
   ],
   "source": [
    "sns.histplot(df, x='player_game_count');"
   ]
  },
  {
   "cell_type": "code",
   "execution_count": 18,
   "metadata": {
    "ExecuteTime": {
     "end_time": "2023-11-08T21:27:12.761883Z",
     "start_time": "2023-11-08T21:27:12.746869Z"
    },
    "hidden": true
   },
   "outputs": [],
   "source": [
    "# dict to map team names to abbreviations\n",
    "team_dict = {'Arizona Cardinals': 'ARZ', 'Atlanta Falcons': 'ATL', 'Baltimore Ravens': 'BLT', 'Buffalo Bills': 'BUF', \n",
    "             'Carolina Panthers': 'CAR', 'Chicago Bears': 'CHI', 'Cincinnati Bengals': 'CIN', 'Cleveland Browns': 'CLV', \n",
    "             'Dallas Cowboys': 'DAL', 'Denver Broncos': 'DEN', 'Detroit Lions': 'DET', 'Green Bay Packers': 'GB',\n",
    "             'Houston Texans': 'HST', 'Indianapolis Colts': 'IND', 'Jacksonville Jaguars': 'JAX', 'Kansas City Chiefs': 'KC',\n",
    "             'Las Vegas Raiders': 'LV', 'Los Angeles Chargers': 'LAC', 'Los Angeles Rams': 'LA', 'Miami Dolphins': 'MIA',\n",
    "             'Minnesota Vikings': 'MIN', 'New England Patriots': 'NE', 'New Orleans Saints': 'NO', 'New York Giants': 'NYG',\n",
    "             'New York Jets': 'NYJ', 'Oakland Raiders': 'OAK', 'Philadelphia Eagles': 'PHI', 'Pittsburgh Steelers': 'PIT',\n",
    "             'San Diego Chargers': 'SD', 'San Francisco 49ers': 'SF', 'Seattle Seahawks': 'SEA', 'St. Louis Rams': 'SL', \n",
    "             'Tampa Bay Buccaneers': 'TB', 'Tennessee Titans': 'TEN', 'Washington Commanders': 'WAS', 'Washington Redskins': \n",
    "             'WAS'}"
   ]
  },
  {
   "cell_type": "code",
   "execution_count": 19,
   "metadata": {
    "ExecuteTime": {
     "end_time": "2023-11-08T21:27:12.777897Z",
     "start_time": "2023-11-08T21:27:12.763885Z"
    },
    "hidden": true
   },
   "outputs": [],
   "source": [
    "from urllib.error import HTTPError\n",
    "import time\n",
    "\n",
    "# i was getting a 429 error for placing too many http requests, so i implemented this function\n",
    "def read_html_with_backoff(url, retries=5, backoff_in_seconds=60):\n",
    "    for attempt in range(retries):\n",
    "        try:\n",
    "            html_tables = pd.read_html(url)\n",
    "            return html_tables\n",
    "        except HTTPError as e:\n",
    "            if e.code == 429:  # too many requests\n",
    "                print(f\"Rate limit hit, backing off for {backoff_in_seconds} seconds.\")\n",
    "                \n",
    "                # wait for 60 seconds, double wait if error continues\n",
    "                time.sleep(backoff_in_seconds)\n",
    "                backoff_in_seconds *= 2\n",
    "            else:\n",
    "                raise\n",
    "    raise Exception(\"All retries have failed.\")"
   ]
  },
  {
   "cell_type": "code",
   "execution_count": 20,
   "metadata": {
    "ExecuteTime": {
     "end_time": "2023-11-08T21:58:18.041651Z",
     "start_time": "2023-11-08T21:27:12.779899Z"
    },
    "hidden": true
   },
   "outputs": [
    {
     "name": "stdout",
     "output_type": "stream",
     "text": [
      "Rate limit hit, backing off for 60 seconds.\n",
      "Rate limit hit, backing off for 120 seconds.\n",
      "Rate limit hit, backing off for 240 seconds.\n",
      "Rate limit hit, backing off for 480 seconds.\n",
      "Rate limit hit, backing off for 960 seconds.\n"
     ]
    },
    {
     "ename": "Exception",
     "evalue": "All retries have failed.",
     "output_type": "error",
     "traceback": [
      "\u001b[1;31m---------------------------------------------------------------------------\u001b[0m",
      "\u001b[1;31mException\u001b[0m                                 Traceback (most recent call last)",
      "Cell \u001b[1;32mIn[20], line 13\u001b[0m\n\u001b[0;32m     10\u001b[0m url \u001b[38;5;241m=\u001b[39m \u001b[38;5;124m'\u001b[39m\u001b[38;5;124mhttps://www.pro-football-reference.com/years/\u001b[39m\u001b[38;5;124m'\u001b[39m \u001b[38;5;241m+\u001b[39m year_str\n\u001b[0;32m     12\u001b[0m \u001b[38;5;66;03m# read html table\u001b[39;00m\n\u001b[1;32m---> 13\u001b[0m html_tables \u001b[38;5;241m=\u001b[39m \u001b[43mread_html_with_backoff\u001b[49m\u001b[43m(\u001b[49m\u001b[43murl\u001b[49m\u001b[43m)\u001b[49m\n\u001b[0;32m     15\u001b[0m \u001b[38;5;66;03m# combine the 2 tables, drop unnecessary rows\u001b[39;00m\n\u001b[0;32m     16\u001b[0m wins \u001b[38;5;241m=\u001b[39m pd\u001b[38;5;241m.\u001b[39mconcat([html_tables[\u001b[38;5;241m0\u001b[39m], html_tables[\u001b[38;5;241m1\u001b[39m]])\u001b[38;5;241m.\u001b[39mdrop([\u001b[38;5;241m0\u001b[39m, \u001b[38;5;241m5\u001b[39m, \u001b[38;5;241m10\u001b[39m, \u001b[38;5;241m15\u001b[39m])\n",
      "Cell \u001b[1;32mIn[19], line 19\u001b[0m, in \u001b[0;36mread_html_with_backoff\u001b[1;34m(url, retries, backoff_in_seconds)\u001b[0m\n\u001b[0;32m     17\u001b[0m         \u001b[38;5;28;01melse\u001b[39;00m:\n\u001b[0;32m     18\u001b[0m             \u001b[38;5;28;01mraise\u001b[39;00m\n\u001b[1;32m---> 19\u001b[0m \u001b[38;5;28;01mraise\u001b[39;00m \u001b[38;5;167;01mException\u001b[39;00m(\u001b[38;5;124m\"\u001b[39m\u001b[38;5;124mAll retries have failed.\u001b[39m\u001b[38;5;124m\"\u001b[39m)\n",
      "\u001b[1;31mException\u001b[0m: All retries have failed."
     ]
    }
   ],
   "source": [
    "# list to hold all 18 wins dfs\n",
    "wins_dfs = []\n",
    "\n",
    "# iterate from 2006-2023\n",
    "for year in list(range(2006, 2024)):\n",
    "    # convert year to string\n",
    "    year_str = str(year)\n",
    "\n",
    "    # create url string\n",
    "    url = 'https://www.pro-football-reference.com/years/' + year_str\n",
    "\n",
    "    # read html table\n",
    "    html_tables = read_html_with_backoff(url)\n",
    "    \n",
    "    # combine the 2 tables, drop unnecessary rows\n",
    "    wins = pd.concat([html_tables[0], html_tables[1]]).drop([0, 5, 10, 15])\n",
    "\n",
    "    # clean '*' and '+' from team name\n",
    "    wins['Tm'] = wins['Tm'].str.replace('*', '', regex=False)\n",
    "    wins['Tm'] = wins['Tm'].str.replace('+', '', regex=False)\n",
    "\n",
    "    # add year column\n",
    "    wins['year'] = year\n",
    "\n",
    "    # map team name -> abbreviation\n",
    "    wins['Tm'] = wins['Tm'].map(team_dict)\n",
    "    \n",
    "    # add df to list\n",
    "    wins_dfs.append(wins)"
   ]
  },
  {
   "cell_type": "code",
   "execution_count": null,
   "metadata": {
    "ExecuteTime": {
     "end_time": "2023-11-08T21:58:18.043653Z",
     "start_time": "2023-11-08T21:58:18.043653Z"
    },
    "hidden": true
   },
   "outputs": [],
   "source": [
    "wins_dfs"
   ]
  },
  {
   "cell_type": "code",
   "execution_count": null,
   "metadata": {
    "hidden": true
   },
   "outputs": [],
   "source": [
    "# stack 18 wins dataframes together\n",
    "wins_df = pd.concat(wins_dfs, axis=0)"
   ]
  },
  {
   "cell_type": "code",
   "execution_count": null,
   "metadata": {
    "hidden": true
   },
   "outputs": [],
   "source": [
    "wins_df"
   ]
  },
  {
   "cell_type": "code",
   "execution_count": null,
   "metadata": {
    "hidden": true
   },
   "outputs": [],
   "source": []
  },
  {
   "cell_type": "code",
   "execution_count": null,
   "metadata": {
    "hidden": true
   },
   "outputs": [],
   "source": []
  },
  {
   "cell_type": "markdown",
   "metadata": {},
   "source": [
    "# Experience\n",
    "- Adding a feature \"exp\" to represent the player's __years of experience__. For example, a rookie quarterback would have exp=0. "
   ]
  },
  {
   "cell_type": "markdown",
   "metadata": {},
   "source": [
    "### QBs who have 2006 data\n",
    "- Most of these QBs are not rookies\n",
    "- I will manually input exp for the 2006 season, and then increment years_experience until they retire"
   ]
  },
  {
   "cell_type": "code",
   "execution_count": 31,
   "metadata": {
    "ExecuteTime": {
     "end_time": "2023-11-08T20:06:38.838131Z",
     "start_time": "2023-11-08T20:06:38.828122Z"
    }
   },
   "outputs": [],
   "source": [
    "# manual input found from research\n",
    "qbs_2006_exp = [15, 10, 6, 8, 5, 2, 3, 6, 6, 3, 2, 11, 2, 4, 1, 14, 9, 2, 1, 4, 5, 0, 8, 0, 3, 0, 9, 7, 1, 13, 10, 4, 1, 13, 7, \n",
    "               7, 3, 12, 13, 3, 0, 7, 1, 3, 6, 5, 11, 0, 4, 3, 8, 5, 5, 8, 2, 13, 4, 3, 1, 5, 0, 1, 0, 19, 12, 7, 6, 3, 4, 0]\n",
    "\n",
    "# append NaNs to fill out list for all non-2006 players\n",
    "for _ in range(len(df) - len(qbs_2006_exp)):\n",
    "    qbs_2006_exp.append(np.nan)"
   ]
  },
  {
   "cell_type": "markdown",
   "metadata": {},
   "source": [
    "### Add experience col"
   ]
  },
  {
   "cell_type": "code",
   "execution_count": 32,
   "metadata": {
    "ExecuteTime": {
     "end_time": "2023-11-08T20:06:39.366613Z",
     "start_time": "2023-11-08T20:06:39.345595Z"
    }
   },
   "outputs": [
    {
     "data": {
      "text/html": [
       "<div>\n",
       "<style scoped>\n",
       "    .dataframe tbody tr th:only-of-type {\n",
       "        vertical-align: middle;\n",
       "    }\n",
       "\n",
       "    .dataframe tbody tr th {\n",
       "        vertical-align: top;\n",
       "    }\n",
       "\n",
       "    .dataframe thead th {\n",
       "        text-align: right;\n",
       "    }\n",
       "</style>\n",
       "<table border=\"1\" class=\"dataframe\">\n",
       "  <thead>\n",
       "    <tr style=\"text-align: right;\">\n",
       "      <th></th>\n",
       "      <th>player</th>\n",
       "      <th>exp</th>\n",
       "      <th>year</th>\n",
       "    </tr>\n",
       "  </thead>\n",
       "  <tbody>\n",
       "    <tr>\n",
       "      <th>0</th>\n",
       "      <td>Brett Favre</td>\n",
       "      <td>15.0</td>\n",
       "      <td>2006</td>\n",
       "    </tr>\n",
       "    <tr>\n",
       "      <th>1</th>\n",
       "      <td>Jon Kitna</td>\n",
       "      <td>10.0</td>\n",
       "      <td>2006</td>\n",
       "    </tr>\n",
       "    <tr>\n",
       "      <th>2</th>\n",
       "      <td>Marc Bulger</td>\n",
       "      <td>6.0</td>\n",
       "      <td>2006</td>\n",
       "    </tr>\n",
       "    <tr>\n",
       "      <th>3</th>\n",
       "      <td>Peyton Manning</td>\n",
       "      <td>8.0</td>\n",
       "      <td>2006</td>\n",
       "    </tr>\n",
       "    <tr>\n",
       "      <th>4</th>\n",
       "      <td>Drew Brees</td>\n",
       "      <td>5.0</td>\n",
       "      <td>2006</td>\n",
       "    </tr>\n",
       "    <tr>\n",
       "      <th>...</th>\n",
       "      <td>...</td>\n",
       "      <td>...</td>\n",
       "      <td>...</td>\n",
       "    </tr>\n",
       "    <tr>\n",
       "      <th>1300</th>\n",
       "      <td>Mike White</td>\n",
       "      <td>NaN</td>\n",
       "      <td>2023</td>\n",
       "    </tr>\n",
       "    <tr>\n",
       "      <th>1301</th>\n",
       "      <td>C.J. Beathard</td>\n",
       "      <td>NaN</td>\n",
       "      <td>2023</td>\n",
       "    </tr>\n",
       "    <tr>\n",
       "      <th>1302</th>\n",
       "      <td>Aaron Rodgers</td>\n",
       "      <td>NaN</td>\n",
       "      <td>2023</td>\n",
       "    </tr>\n",
       "    <tr>\n",
       "      <th>1303</th>\n",
       "      <td>Jake Browning</td>\n",
       "      <td>NaN</td>\n",
       "      <td>2023</td>\n",
       "    </tr>\n",
       "    <tr>\n",
       "      <th>1304</th>\n",
       "      <td>Sam Darnold</td>\n",
       "      <td>NaN</td>\n",
       "      <td>2023</td>\n",
       "    </tr>\n",
       "  </tbody>\n",
       "</table>\n",
       "<p>1305 rows × 3 columns</p>\n",
       "</div>"
      ],
      "text/plain": [
       "              player   exp  year\n",
       "0        Brett Favre  15.0  2006\n",
       "1          Jon Kitna  10.0  2006\n",
       "2        Marc Bulger   6.0  2006\n",
       "3     Peyton Manning   8.0  2006\n",
       "4         Drew Brees   5.0  2006\n",
       "...              ...   ...   ...\n",
       "1300      Mike White   NaN  2023\n",
       "1301   C.J. Beathard   NaN  2023\n",
       "1302   Aaron Rodgers   NaN  2023\n",
       "1303   Jake Browning   NaN  2023\n",
       "1304     Sam Darnold   NaN  2023\n",
       "\n",
       "[1305 rows x 3 columns]"
      ]
     },
     "execution_count": 32,
     "metadata": {},
     "output_type": "execute_result"
    }
   ],
   "source": [
    "# add experience col\n",
    "df['exp'] = qbs_2006_exp\n",
    "\n",
    "# check\n",
    "df[['player', 'exp', 'year']]"
   ]
  },
  {
   "cell_type": "markdown",
   "metadata": {},
   "source": [
    "- QBs who played in 2006 season have an exp value, non-2006 QBs have NaN"
   ]
  },
  {
   "cell_type": "code",
   "execution_count": 33,
   "metadata": {
    "ExecuteTime": {
     "end_time": "2023-11-08T20:06:42.211205Z",
     "start_time": "2023-11-08T20:06:41.852879Z"
    }
   },
   "outputs": [],
   "source": [
    "# function to fill in experience column\n",
    "def fill_experience(group):\n",
    "    # get first experience value for a player\n",
    "    first_exp = group['exp'].iloc[0]\n",
    "    \n",
    "    if pd.isna(first_exp): # if value is null we set to 0 (rookie season)\n",
    "        first_exp = 0\n",
    "    \n",
    "    # define range of years to fill each player's experience column\n",
    "    experience = range(int(first_exp), int(first_exp) + len(group))\n",
    "    group['exp'] = list(experience)\n",
    "    return group\n",
    "\n",
    "# group by index and fill experience values, drop multi-index\n",
    "# df = df.groupby(level=0).apply(fill_experience).droplevel(0)\n",
    "df = df.groupby('player').apply(fill_experience).droplevel(0)"
   ]
  },
  {
   "cell_type": "code",
   "execution_count": 36,
   "metadata": {
    "ExecuteTime": {
     "end_time": "2023-11-08T20:07:01.352639Z",
     "start_time": "2023-11-08T20:07:01.335623Z"
    }
   },
   "outputs": [
    {
     "data": {
      "text/html": [
       "<div>\n",
       "<style scoped>\n",
       "    .dataframe tbody tr th:only-of-type {\n",
       "        vertical-align: middle;\n",
       "    }\n",
       "\n",
       "    .dataframe tbody tr th {\n",
       "        vertical-align: top;\n",
       "    }\n",
       "\n",
       "    .dataframe thead th {\n",
       "        text-align: right;\n",
       "    }\n",
       "</style>\n",
       "<table border=\"1\" class=\"dataframe\">\n",
       "  <thead>\n",
       "    <tr style=\"text-align: right;\">\n",
       "      <th></th>\n",
       "      <th>player</th>\n",
       "      <th>year</th>\n",
       "      <th>exp</th>\n",
       "    </tr>\n",
       "  </thead>\n",
       "  <tbody>\n",
       "    <tr>\n",
       "      <th>853</th>\n",
       "      <td>Patrick Mahomes</td>\n",
       "      <td>2017</td>\n",
       "      <td>0</td>\n",
       "    </tr>\n",
       "    <tr>\n",
       "      <th>875</th>\n",
       "      <td>Patrick Mahomes</td>\n",
       "      <td>2018</td>\n",
       "      <td>1</td>\n",
       "    </tr>\n",
       "    <tr>\n",
       "      <th>956</th>\n",
       "      <td>Patrick Mahomes</td>\n",
       "      <td>2019</td>\n",
       "      <td>2</td>\n",
       "    </tr>\n",
       "    <tr>\n",
       "      <th>1012</th>\n",
       "      <td>Patrick Mahomes</td>\n",
       "      <td>2020</td>\n",
       "      <td>3</td>\n",
       "    </tr>\n",
       "    <tr>\n",
       "      <th>1090</th>\n",
       "      <td>Patrick Mahomes</td>\n",
       "      <td>2021</td>\n",
       "      <td>4</td>\n",
       "    </tr>\n",
       "    <tr>\n",
       "      <th>1166</th>\n",
       "      <td>Patrick Mahomes</td>\n",
       "      <td>2022</td>\n",
       "      <td>5</td>\n",
       "    </tr>\n",
       "    <tr>\n",
       "      <th>1247</th>\n",
       "      <td>Patrick Mahomes</td>\n",
       "      <td>2023</td>\n",
       "      <td>6</td>\n",
       "    </tr>\n",
       "  </tbody>\n",
       "</table>\n",
       "</div>"
      ],
      "text/plain": [
       "               player  year  exp\n",
       "853   Patrick Mahomes  2017    0\n",
       "875   Patrick Mahomes  2018    1\n",
       "956   Patrick Mahomes  2019    2\n",
       "1012  Patrick Mahomes  2020    3\n",
       "1090  Patrick Mahomes  2021    4\n",
       "1166  Patrick Mahomes  2022    5\n",
       "1247  Patrick Mahomes  2023    6"
      ]
     },
     "execution_count": 36,
     "metadata": {},
     "output_type": "execute_result"
    }
   ],
   "source": [
    "df[df['player'] == 'Patrick Mahomes'][['player', 'year', 'exp']]"
   ]
  },
  {
   "cell_type": "markdown",
   "metadata": {},
   "source": [
    "- All players now have a corresponding experience for each of their seasons"
   ]
  },
  {
   "cell_type": "markdown",
   "metadata": {},
   "source": [
    "# Drop QBs we can't use"
   ]
  },
  {
   "cell_type": "markdown",
   "metadata": {},
   "source": [
    "### QBs with one season\n",
    "- QBs with only one season in the dataset will not have a target variable (next season's offensive grade). This means we cannot make predictions.\n",
    "- However, 2022 rookie QBs (who only have one season in the dataset) can actually be used for generalization. 10/18 weeks of the 2023 NFL season have been played. I will use the grades from the first 10 2023 weeks as a pseudo-target in the final analysis. This allows for a slightly larger test set and will hopefully provide better results."
   ]
  },
  {
   "cell_type": "code",
   "execution_count": 40,
   "metadata": {
    "ExecuteTime": {
     "end_time": "2023-11-08T20:08:20.724726Z",
     "start_time": "2023-11-08T20:08:20.701705Z"
    }
   },
   "outputs": [
    {
     "data": {
      "text/plain": [
       "(1241, 65)"
      ]
     },
     "execution_count": 40,
     "metadata": {},
     "output_type": "execute_result"
    }
   ],
   "source": [
    "# get players with only one season\n",
    "one_season = df.groupby('player').filter(lambda x: len(x) == 1)\n",
    "\n",
    "# get 2022 rookies, export to csv\n",
    "rookies_2022 = one_season[one_season['year'] == '2022']\n",
    "rookies_2022.to_csv('../train_data/rookies_2022.csv')\n",
    "\n",
    "# drop single season QBs from main dataframe\n",
    "df = df.drop(one_season.index)\n",
    "df.shape"
   ]
  },
  {
   "cell_type": "markdown",
   "metadata": {},
   "source": [
    "- Down to 1241 QB seasons"
   ]
  },
  {
   "cell_type": "markdown",
   "metadata": {},
   "source": [
    "### 2023 season\n",
    "- 2023 season cannot be input into a model, as there is no 2024 offensive grade target.\n",
    "- These rows will strictly be kept as a holdout test set."
   ]
  },
  {
   "cell_type": "code",
   "execution_count": 45,
   "metadata": {
    "ExecuteTime": {
     "end_time": "2023-11-08T20:09:29.513384Z",
     "start_time": "2023-11-08T20:09:29.499369Z"
    }
   },
   "outputs": [
    {
     "data": {
      "text/plain": [
       "(1193, 65)"
      ]
     },
     "execution_count": 45,
     "metadata": {},
     "output_type": "execute_result"
    }
   ],
   "source": [
    "# 2023 players, export to csv\n",
    "players_2023 = df[df['year'] == '2023']\n",
    "players_2023.to_csv('../train_data/players_2023.csv')\n",
    "\n",
    "# drop 2023 seasons from main dataframe\n",
    "df = df.drop(players_2023.index)\n",
    "df.shape"
   ]
  },
  {
   "cell_type": "markdown",
   "metadata": {},
   "source": [
    "- Down to 1193 QB seasons"
   ]
  },
  {
   "cell_type": "markdown",
   "metadata": {},
   "source": [
    "# Nulls"
   ]
  },
  {
   "cell_type": "code",
   "execution_count": 46,
   "metadata": {
    "ExecuteTime": {
     "end_time": "2023-11-08T20:09:44.198403Z",
     "start_time": "2023-11-08T20:09:44.176383Z"
    }
   },
   "outputs": [
    {
     "data": {
      "text/html": [
       "<div>\n",
       "<style scoped>\n",
       "    .dataframe tbody tr th:only-of-type {\n",
       "        vertical-align: middle;\n",
       "    }\n",
       "\n",
       "    .dataframe tbody tr th {\n",
       "        vertical-align: top;\n",
       "    }\n",
       "\n",
       "    .dataframe thead th {\n",
       "        text-align: right;\n",
       "    }\n",
       "</style>\n",
       "<table border=\"1\" class=\"dataframe\">\n",
       "  <thead>\n",
       "    <tr style=\"text-align: right;\">\n",
       "      <th></th>\n",
       "      <th>player</th>\n",
       "      <th>team_name</th>\n",
       "      <th>player_game_count</th>\n",
       "      <th>pass_accuracy_percent</th>\n",
       "      <th>pass_aimed_passes</th>\n",
       "      <th>pass_attempts</th>\n",
       "      <th>pass_avg_depth_of_target</th>\n",
       "      <th>pass_avg_time_to_throw</th>\n",
       "      <th>pass_bats</th>\n",
       "      <th>pass_big_time_throws</th>\n",
       "      <th>pass_btt_rate</th>\n",
       "      <th>pass_completion_percent</th>\n",
       "      <th>pass_completions</th>\n",
       "      <th>pass_def_gen_pressures</th>\n",
       "      <th>pass_drop_rate</th>\n",
       "      <th>pass_dropbacks</th>\n",
       "      <th>pass_drops</th>\n",
       "      <th>pass_first_downs</th>\n",
       "      <th>pass_grades_hands_fumble</th>\n",
       "      <th>pass_grades_offense</th>\n",
       "      <th>pass_grades_pass</th>\n",
       "      <th>pass_hit_as_threw</th>\n",
       "      <th>pass_interceptions</th>\n",
       "      <th>pass_passing_snaps</th>\n",
       "      <th>pass_penalties</th>\n",
       "      <th>pass_pressure_to_sack_rate</th>\n",
       "      <th>pass_qb_rating</th>\n",
       "      <th>pass_sack_percent</th>\n",
       "      <th>pass_sacks</th>\n",
       "      <th>pass_scrambles</th>\n",
       "      <th>pass_spikes</th>\n",
       "      <th>pass_thrown_aways</th>\n",
       "      <th>pass_touchdowns</th>\n",
       "      <th>pass_turnover_worthy_plays</th>\n",
       "      <th>pass_twp_rate</th>\n",
       "      <th>pass_yards</th>\n",
       "      <th>pass_ypa</th>\n",
       "      <th>year</th>\n",
       "      <th>rush_attempts</th>\n",
       "      <th>rush_avoided_tackles</th>\n",
       "      <th>rush_breakaway_attempts</th>\n",
       "      <th>rush_breakaway_percent</th>\n",
       "      <th>rush_breakaway_yards</th>\n",
       "      <th>rush_designed_yards</th>\n",
       "      <th>rush_elu_recv_mtf</th>\n",
       "      <th>rush_elu_rush_mtf</th>\n",
       "      <th>rush_elu_yco</th>\n",
       "      <th>rush_elusive_rating</th>\n",
       "      <th>rush_explosive</th>\n",
       "      <th>rush_first_downs</th>\n",
       "      <th>rush_fumbles</th>\n",
       "      <th>rush_gap_attempts</th>\n",
       "      <th>rush_grades_offense_penalty</th>\n",
       "      <th>rush_grades_run</th>\n",
       "      <th>rush_longest</th>\n",
       "      <th>rush_run_plays</th>\n",
       "      <th>rush_scramble_yards</th>\n",
       "      <th>rush_total_touches</th>\n",
       "      <th>rush_touchdowns</th>\n",
       "      <th>rush_yards</th>\n",
       "      <th>rush_yards_after_contact</th>\n",
       "      <th>rush_yco_attempt</th>\n",
       "      <th>rush_ypa</th>\n",
       "      <th>rush_zone_attempts</th>\n",
       "      <th>exp</th>\n",
       "    </tr>\n",
       "  </thead>\n",
       "  <tbody>\n",
       "    <tr>\n",
       "      <th>0</th>\n",
       "      <td>0</td>\n",
       "      <td>0</td>\n",
       "      <td>0</td>\n",
       "      <td>1</td>\n",
       "      <td>0</td>\n",
       "      <td>0</td>\n",
       "      <td>1</td>\n",
       "      <td>0</td>\n",
       "      <td>0</td>\n",
       "      <td>0</td>\n",
       "      <td>0</td>\n",
       "      <td>0</td>\n",
       "      <td>0</td>\n",
       "      <td>0</td>\n",
       "      <td>11</td>\n",
       "      <td>0</td>\n",
       "      <td>0</td>\n",
       "      <td>0</td>\n",
       "      <td>0</td>\n",
       "      <td>0</td>\n",
       "      <td>0</td>\n",
       "      <td>0</td>\n",
       "      <td>0</td>\n",
       "      <td>0</td>\n",
       "      <td>0</td>\n",
       "      <td>31</td>\n",
       "      <td>0</td>\n",
       "      <td>0</td>\n",
       "      <td>0</td>\n",
       "      <td>0</td>\n",
       "      <td>0</td>\n",
       "      <td>0</td>\n",
       "      <td>0</td>\n",
       "      <td>0</td>\n",
       "      <td>0</td>\n",
       "      <td>0</td>\n",
       "      <td>0</td>\n",
       "      <td>0</td>\n",
       "      <td>81</td>\n",
       "      <td>81</td>\n",
       "      <td>81</td>\n",
       "      <td>92</td>\n",
       "      <td>81</td>\n",
       "      <td>81</td>\n",
       "      <td>81</td>\n",
       "      <td>81</td>\n",
       "      <td>128</td>\n",
       "      <td>81</td>\n",
       "      <td>81</td>\n",
       "      <td>81</td>\n",
       "      <td>81</td>\n",
       "      <td>81</td>\n",
       "      <td>81</td>\n",
       "      <td>81</td>\n",
       "      <td>81</td>\n",
       "      <td>81</td>\n",
       "      <td>81</td>\n",
       "      <td>81</td>\n",
       "      <td>81</td>\n",
       "      <td>81</td>\n",
       "      <td>81</td>\n",
       "      <td>81</td>\n",
       "      <td>81</td>\n",
       "      <td>81</td>\n",
       "      <td>0</td>\n",
       "    </tr>\n",
       "  </tbody>\n",
       "</table>\n",
       "</div>"
      ],
      "text/plain": [
       "   player  team_name  player_game_count  pass_accuracy_percent  \\\n",
       "0       0          0                  0                      1   \n",
       "\n",
       "   pass_aimed_passes  pass_attempts  pass_avg_depth_of_target  \\\n",
       "0                  0              0                         1   \n",
       "\n",
       "   pass_avg_time_to_throw  pass_bats  pass_big_time_throws  pass_btt_rate  \\\n",
       "0                       0          0                     0              0   \n",
       "\n",
       "   pass_completion_percent  pass_completions  pass_def_gen_pressures  \\\n",
       "0                        0                 0                       0   \n",
       "\n",
       "   pass_drop_rate  pass_dropbacks  pass_drops  pass_first_downs  \\\n",
       "0              11               0           0                 0   \n",
       "\n",
       "   pass_grades_hands_fumble  pass_grades_offense  pass_grades_pass  \\\n",
       "0                         0                    0                 0   \n",
       "\n",
       "   pass_hit_as_threw  pass_interceptions  pass_passing_snaps  pass_penalties  \\\n",
       "0                  0                   0                   0               0   \n",
       "\n",
       "   pass_pressure_to_sack_rate  pass_qb_rating  pass_sack_percent  pass_sacks  \\\n",
       "0                          31               0                  0           0   \n",
       "\n",
       "   pass_scrambles  pass_spikes  pass_thrown_aways  pass_touchdowns  \\\n",
       "0               0            0                  0                0   \n",
       "\n",
       "   pass_turnover_worthy_plays  pass_twp_rate  pass_yards  pass_ypa  year  \\\n",
       "0                           0              0           0         0     0   \n",
       "\n",
       "   rush_attempts  rush_avoided_tackles  rush_breakaway_attempts  \\\n",
       "0             81                    81                       81   \n",
       "\n",
       "   rush_breakaway_percent  rush_breakaway_yards  rush_designed_yards  \\\n",
       "0                      92                    81                   81   \n",
       "\n",
       "   rush_elu_recv_mtf  rush_elu_rush_mtf  rush_elu_yco  rush_elusive_rating  \\\n",
       "0                 81                 81           128                   81   \n",
       "\n",
       "   rush_explosive  rush_first_downs  rush_fumbles  rush_gap_attempts  \\\n",
       "0              81                81            81                 81   \n",
       "\n",
       "   rush_grades_offense_penalty  rush_grades_run  rush_longest  rush_run_plays  \\\n",
       "0                           81               81            81              81   \n",
       "\n",
       "   rush_scramble_yards  rush_total_touches  rush_touchdowns  rush_yards  \\\n",
       "0                   81                  81               81          81   \n",
       "\n",
       "   rush_yards_after_contact  rush_yco_attempt  rush_ypa  rush_zone_attempts  \\\n",
       "0                        81                81        81                  81   \n",
       "\n",
       "   exp  \n",
       "0    0  "
      ]
     },
     "execution_count": 46,
     "metadata": {},
     "output_type": "execute_result"
    }
   ],
   "source": [
    "# look at null counts in each col\n",
    "df.isna().sum().to_frame().T"
   ]
  },
  {
   "cell_type": "markdown",
   "metadata": {},
   "source": [
    "- 1 null present in the avg_depth_of_target, 49 nulls present in the rush-statistic columns.\n",
    "- Null values in these columns indicate 0 attempts for that specific statistic, so these coumns can be filled with 0."
   ]
  },
  {
   "cell_type": "code",
   "execution_count": 47,
   "metadata": {
    "ExecuteTime": {
     "end_time": "2023-11-08T20:09:45.031162Z",
     "start_time": "2023-11-08T20:09:45.018149Z"
    }
   },
   "outputs": [],
   "source": [
    "# fill nulls with value of 0\n",
    "df = df.fillna(0)"
   ]
  },
  {
   "cell_type": "markdown",
   "metadata": {},
   "source": [
    "# Export data\n",
    "- Two different modeling approaches require two different datasets"
   ]
  },
  {
   "cell_type": "markdown",
   "metadata": {},
   "source": [
    "## Non-sequence models\n",
    "- Each input is a single season, target is next season's offensive grade.\n",
    "- This means we need players with at least 2 seasons each in the dataset. We already completed this step above, when we dropped 'one_season.index'."
   ]
  },
  {
   "cell_type": "code",
   "execution_count": 50,
   "metadata": {
    "ExecuteTime": {
     "end_time": "2023-11-08T20:10:09.100820Z",
     "start_time": "2023-11-08T20:10:09.084805Z"
    }
   },
   "outputs": [],
   "source": [
    "# get copy of df\n",
    "non_seq = df.copy()"
   ]
  },
  {
   "cell_type": "markdown",
   "metadata": {},
   "source": [
    "### Target variable\n",
    "- For each season __x__, the target is the grades_offense stat of season __x + 1__."
   ]
  },
  {
   "cell_type": "code",
   "execution_count": 51,
   "metadata": {
    "ExecuteTime": {
     "end_time": "2023-11-08T20:10:09.453140Z",
     "start_time": "2023-11-08T20:10:09.441130Z"
    }
   },
   "outputs": [
    {
     "data": {
      "text/html": [
       "<div>\n",
       "<style scoped>\n",
       "    .dataframe tbody tr th:only-of-type {\n",
       "        vertical-align: middle;\n",
       "    }\n",
       "\n",
       "    .dataframe tbody tr th {\n",
       "        vertical-align: top;\n",
       "    }\n",
       "\n",
       "    .dataframe thead th {\n",
       "        text-align: right;\n",
       "    }\n",
       "</style>\n",
       "<table border=\"1\" class=\"dataframe\">\n",
       "  <thead>\n",
       "    <tr style=\"text-align: right;\">\n",
       "      <th></th>\n",
       "      <th>player</th>\n",
       "      <th>pass_grades_offense</th>\n",
       "      <th>target</th>\n",
       "    </tr>\n",
       "  </thead>\n",
       "  <tbody>\n",
       "    <tr>\n",
       "      <th>52</th>\n",
       "      <td>A.J. Feeley</td>\n",
       "      <td>64.3</td>\n",
       "      <td>41.2</td>\n",
       "    </tr>\n",
       "    <tr>\n",
       "      <th>120</th>\n",
       "      <td>A.J. Feeley</td>\n",
       "      <td>41.2</td>\n",
       "      <td>50.0</td>\n",
       "    </tr>\n",
       "    <tr>\n",
       "      <th>427</th>\n",
       "      <td>A.J. Feeley</td>\n",
       "      <td>50.0</td>\n",
       "      <td>NaN</td>\n",
       "    </tr>\n",
       "  </tbody>\n",
       "</table>\n",
       "</div>"
      ],
      "text/plain": [
       "          player  pass_grades_offense  target\n",
       "52   A.J. Feeley                 64.3    41.2\n",
       "120  A.J. Feeley                 41.2    50.0\n",
       "427  A.J. Feeley                 50.0     NaN"
      ]
     },
     "execution_count": 51,
     "metadata": {},
     "output_type": "execute_result"
    }
   ],
   "source": [
    "# add target col\n",
    "non_seq['target'] = non_seq.groupby('player')['pass_grades_offense'].shift(-1)\n",
    "\n",
    "# check\n",
    "non_seq.head(3)[['player', 'pass_grades_offense', 'target']]"
   ]
  },
  {
   "cell_type": "markdown",
   "metadata": {},
   "source": [
    "- Players in their final season will have a NaN value for the target variable (as seen above).\n",
    "- These rows cannot be used to train model, as we don't have the grades_offense stat of the next year (it doesn't exist)."
   ]
  },
  {
   "cell_type": "markdown",
   "metadata": {},
   "source": [
    "### Export non_seq df"
   ]
  },
  {
   "cell_type": "code",
   "execution_count": 52,
   "metadata": {
    "ExecuteTime": {
     "end_time": "2023-11-08T20:10:28.070098Z",
     "start_time": "2023-11-08T20:10:28.058087Z"
    }
   },
   "outputs": [],
   "source": [
    "# drop rows with null target\n",
    "non_seq = non_seq.dropna(subset=['target'])"
   ]
  },
  {
   "cell_type": "code",
   "execution_count": 54,
   "metadata": {
    "ExecuteTime": {
     "end_time": "2023-11-08T20:10:55.921467Z",
     "start_time": "2023-11-08T20:10:55.915461Z"
    }
   },
   "outputs": [
    {
     "data": {
      "text/plain": [
       "((969, 66), 218)"
      ]
     },
     "execution_count": 54,
     "metadata": {},
     "output_type": "execute_result"
    }
   ],
   "source": [
    "non_seq.shape, len(set(non_seq.player))"
   ]
  },
  {
   "cell_type": "markdown",
   "metadata": {},
   "source": [
    "- 'non_seq' df contains 969 QB seasons, each with 64 features + player name + target variable.\n",
    "- 218 unique QBs."
   ]
  },
  {
   "cell_type": "code",
   "execution_count": 55,
   "metadata": {
    "ExecuteTime": {
     "end_time": "2023-11-08T20:11:02.395364Z",
     "start_time": "2023-11-08T20:11:02.362333Z"
    }
   },
   "outputs": [],
   "source": [
    "# export to csv\n",
    "non_seq.to_csv('../train_data/non_seq.csv')"
   ]
  },
  {
   "cell_type": "markdown",
   "metadata": {},
   "source": [
    "## Sequence models\n",
    "- Each input sequence must be of at least length 2, with a 3rd season as a target.\n",
    "- This means we need players with at least 3 seasons each in the dataset."
   ]
  },
  {
   "cell_type": "code",
   "execution_count": 56,
   "metadata": {
    "ExecuteTime": {
     "end_time": "2023-11-08T20:11:09.025402Z",
     "start_time": "2023-11-08T20:11:09.010388Z"
    }
   },
   "outputs": [],
   "source": [
    "# get players with more than 2 seasons\n",
    "sequence = df.groupby('player').filter(lambda x: len(x) > 2)"
   ]
  },
  {
   "cell_type": "markdown",
   "metadata": {},
   "source": [
    "### Target variable\n",
    "- For each pair of two seasons, the target var is the offensive grade of the 3rd season.\n",
    "- Creating this target variable is more complex, and is handled in the [sequence_model notebook](../notebooks/sequence_model)."
   ]
  },
  {
   "cell_type": "markdown",
   "metadata": {},
   "source": [
    "### Export sequence df"
   ]
  },
  {
   "cell_type": "code",
   "execution_count": 57,
   "metadata": {
    "ExecuteTime": {
     "end_time": "2023-11-08T20:11:16.330056Z",
     "start_time": "2023-11-08T20:11:16.317044Z"
    }
   },
   "outputs": [
    {
     "data": {
      "text/plain": [
       "((1097, 65), 224)"
      ]
     },
     "execution_count": 57,
     "metadata": {},
     "output_type": "execute_result"
    }
   ],
   "source": [
    "sequence.shape, len(set(df.player))"
   ]
  },
  {
   "cell_type": "markdown",
   "metadata": {},
   "source": [
    "- 'sequence' df has 1097 QB seasons, each with 64 features + player name.\n",
    "- This data size will slightly reduce, as several of the sequences will not have a target variable (indicating the final two seasons of a player's career).\n",
    "- 224 unique QBs."
   ]
  },
  {
   "cell_type": "code",
   "execution_count": 58,
   "metadata": {
    "ExecuteTime": {
     "end_time": "2023-11-08T20:17:33.290397Z",
     "start_time": "2023-11-08T20:17:33.243354Z"
    }
   },
   "outputs": [],
   "source": [
    "# export to csv\n",
    "sequence.to_csv('../train_data/sequence.csv')"
   ]
  },
  {
   "cell_type": "code",
   "execution_count": null,
   "metadata": {},
   "outputs": [],
   "source": []
  }
 ],
 "metadata": {
  "kernelspec": {
   "display_name": "torch_kernel",
   "language": "python",
   "name": "torch_env"
  },
  "language_info": {
   "codemirror_mode": {
    "name": "ipython",
    "version": 3
   },
   "file_extension": ".py",
   "mimetype": "text/x-python",
   "name": "python",
   "nbconvert_exporter": "python",
   "pygments_lexer": "ipython3",
   "version": "3.8.17"
  },
  "latex_envs": {
   "LaTeX_envs_menu_present": true,
   "autoclose": false,
   "autocomplete": true,
   "bibliofile": "biblio.bib",
   "cite_by": "apalike",
   "current_citInitial": 1,
   "eqLabelWithNumbers": true,
   "eqNumInitial": 1,
   "hotkeys": {
    "equation": "Ctrl-E",
    "itemize": "Ctrl-I"
   },
   "labels_anchors": false,
   "latex_user_defs": false,
   "report_style_numbering": false,
   "user_envs_cfg": false
  },
  "toc": {
   "base_numbering": 1,
   "nav_menu": {},
   "number_sections": true,
   "sideBar": true,
   "skip_h1_title": false,
   "title_cell": "Table of Contents",
   "title_sidebar": "Contents",
   "toc_cell": false,
   "toc_position": {},
   "toc_section_display": true,
   "toc_window_display": false
  }
 },
 "nbformat": 4,
 "nbformat_minor": 4
}
