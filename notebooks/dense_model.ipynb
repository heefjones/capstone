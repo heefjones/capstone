{
 "cells": [
  {
   "cell_type": "markdown",
   "metadata": {},
   "source": [
    "# Imports, Load data"
   ]
  },
  {
   "cell_type": "code",
   "execution_count": 1,
   "metadata": {
    "ExecuteTime": {
     "end_time": "2023-11-09T00:34:25.411284Z",
     "start_time": "2023-11-09T00:34:21.991169Z"
    }
   },
   "outputs": [],
   "source": [
    "import pandas as pd\n",
    "import numpy as np\n",
    "\n",
    "import matplotlib.pyplot as plt\n",
    "import seaborn as sns\n",
    "%matplotlib inline\n",
    "\n",
    "import torch\n",
    "import torch.nn as nn\n",
    "import torch.optim as optim\n",
    "from torch.utils.data import TensorDataset, DataLoader, Subset\n",
    "\n",
    "from sklearn.preprocessing import StandardScaler\n",
    "from sklearn.model_selection import train_test_split, KFold\n",
    "from sklearn.metrics import r2_score\n",
    "\n",
    "import joblib\n",
    "from tqdm import tqdm\n",
    "\n",
    "pd.options.display.max_columns = 100\n",
    "pd.options.display.max_rows = 100\n",
    "\n",
    "sns.set_theme(context='talk', style='darkgrid', palette='magma')\n",
    "\n",
    "# global random_state\n",
    "random_state = 9"
   ]
  },
  {
   "cell_type": "code",
   "execution_count": 2,
   "metadata": {
    "ExecuteTime": {
     "end_time": "2023-11-09T00:34:25.459328Z",
     "start_time": "2023-11-09T00:34:25.413287Z"
    }
   },
   "outputs": [
    {
     "data": {
      "text/plain": [
       "device(type='cuda')"
      ]
     },
     "execution_count": 2,
     "metadata": {},
     "output_type": "execute_result"
    }
   ],
   "source": [
    "# set up GPU\n",
    "device = torch.device('cuda') if torch.cuda.is_available() else torch.device('cpu')\n",
    "device"
   ]
  },
  {
   "cell_type": "code",
   "execution_count": 5,
   "metadata": {
    "ExecuteTime": {
     "end_time": "2023-11-09T00:34:55.461656Z",
     "start_time": "2023-11-09T00:34:55.431629Z"
    }
   },
   "outputs": [
    {
     "data": {
      "text/plain": [
       "((969, 66), 218)"
      ]
     },
     "execution_count": 5,
     "metadata": {},
     "output_type": "execute_result"
    }
   ],
   "source": [
    "df = pd.read_csv('../train_data/non_seq.csv').drop('Unnamed: 0', axis=1)\n",
    "df.shape, len(set(df.player))"
   ]
  },
  {
   "cell_type": "markdown",
   "metadata": {},
   "source": [
    "- 969 QB seasons.\n",
    "- 64 features + year and target.\n",
    "- 218 unique QBs."
   ]
  },
  {
   "cell_type": "markdown",
   "metadata": {},
   "source": [
    "# Prepare data"
   ]
  },
  {
   "cell_type": "code",
   "execution_count": 6,
   "metadata": {
    "ExecuteTime": {
     "end_time": "2023-11-09T00:35:39.982574Z",
     "start_time": "2023-11-09T00:35:39.976568Z"
    }
   },
   "outputs": [
    {
     "data": {
      "text/plain": [
       "Index(['player', 'team_name', 'player_game_count', 'pass_accuracy_percent',\n",
       "       'pass_aimed_passes', 'pass_attempts', 'pass_avg_depth_of_target',\n",
       "       'pass_avg_time_to_throw', 'pass_bats', 'pass_big_time_throws',\n",
       "       'pass_btt_rate', 'pass_completion_percent', 'pass_completions',\n",
       "       'pass_def_gen_pressures', 'pass_drop_rate', 'pass_dropbacks',\n",
       "       'pass_drops', 'pass_first_downs', 'pass_grades_hands_fumble',\n",
       "       'pass_grades_offense', 'pass_grades_pass', 'pass_hit_as_threw',\n",
       "       'pass_interceptions', 'pass_passing_snaps', 'pass_penalties',\n",
       "       'pass_pressure_to_sack_rate', 'pass_qb_rating', 'pass_sack_percent',\n",
       "       'pass_sacks', 'pass_scrambles', 'pass_spikes', 'pass_thrown_aways',\n",
       "       'pass_touchdowns', 'pass_turnover_worthy_plays', 'pass_twp_rate',\n",
       "       'pass_yards', 'pass_ypa', 'year', 'rush_attempts',\n",
       "       'rush_avoided_tackles', 'rush_breakaway_attempts',\n",
       "       'rush_breakaway_percent', 'rush_breakaway_yards', 'rush_designed_yards',\n",
       "       'rush_elu_recv_mtf', 'rush_elu_rush_mtf', 'rush_elu_yco',\n",
       "       'rush_elusive_rating', 'rush_explosive', 'rush_first_downs',\n",
       "       'rush_fumbles', 'rush_gap_attempts', 'rush_grades_offense_penalty',\n",
       "       'rush_grades_run', 'rush_longest', 'rush_run_plays',\n",
       "       'rush_scramble_yards', 'rush_total_touches', 'rush_touchdowns',\n",
       "       'rush_yards', 'rush_yards_after_contact', 'rush_yco_attempt',\n",
       "       'rush_ypa', 'rush_zone_attempts', 'exp', 'target'],\n",
       "      dtype='object')"
      ]
     },
     "execution_count": 6,
     "metadata": {},
     "output_type": "execute_result"
    }
   ],
   "source": [
    "# look at all 66 cols\n",
    "df.columns"
   ]
  },
  {
   "cell_type": "code",
   "execution_count": 7,
   "metadata": {
    "ExecuteTime": {
     "end_time": "2023-11-09T00:35:46.416434Z",
     "start_time": "2023-11-09T00:35:46.399419Z"
    }
   },
   "outputs": [
    {
     "data": {
      "text/plain": [
       "(34, 33)"
      ]
     },
     "execution_count": 7,
     "metadata": {},
     "output_type": "execute_result"
    }
   ],
   "source": [
    "# normal numerical (non-percentage) stats\n",
    "numerical_features = ['player_game_count', 'pass_aimed_passes', 'pass_avg_depth_of_target', 'pass_avg_time_to_throw', \n",
    "                      'pass_big_time_throws', 'pass_completions', 'pass_def_gen_pressures', 'pass_dropbacks', 'pass_drops', \n",
    "                      'pass_first_downs', 'pass_grades_offense', 'pass_grades_pass', 'pass_hit_as_threw', \n",
    "                      'pass_passing_snaps', 'pass_sacks', 'pass_scrambles', 'pass_spikes', 'pass_thrown_aways', \n",
    "                      'pass_touchdowns', 'pass_turnover_worthy_plays', 'pass_yards', 'rush_attempts', 'rush_avoided_tackles', \n",
    "                      'rush_designed_yards', 'rush_explosive', 'rush_first_downs', 'rush_fumbles', 'rush_grades_run', \n",
    "                      'rush_scramble_yards', 'rush_total_touches', 'rush_touchdowns', 'rush_yards', 'rush_yards_after_contact', \n",
    "                      'exp']\n",
    "\n",
    "# using many of the same features as above, but percentage stats where possible\n",
    "percent_features = ['player_game_count', 'pass_accuracy_percent', 'pass_avg_depth_of_target', 'pass_avg_time_to_throw', \n",
    "                    'pass_btt_rate', 'pass_drop_rate', 'pass_dropbacks', 'pass_first_downs', 'pass_grades_offense', \n",
    "                    'pass_grades_pass', 'pass_hit_as_threw', 'pass_passing_snaps', 'pass_pressure_to_sack_rate', \n",
    "                    'pass_sack_percent', 'pass_scrambles', 'pass_spikes', 'pass_thrown_aways', 'pass_touchdowns', \n",
    "                    'pass_twp_rate', 'pass_ypa', 'rush_attempts', 'rush_avoided_tackles', 'rush_designed_yards', \n",
    "                    'rush_explosive', 'rush_first_downs', 'rush_fumbles', 'rush_grades_run', 'rush_scramble_yards', \n",
    "                    'rush_total_touches', 'rush_touchdowns', 'rush_ypa', 'rush_yco_attempt', 'exp']\n",
    "\n",
    "len(numerical_features), len(percent_features)"
   ]
  },
  {
   "cell_type": "markdown",
   "metadata": {},
   "source": [
    "- 34 features of pure numerical stats.\n",
    "- 33 features of percentage stats, stats normalized by attempt, as well as a few pure numerical stats."
   ]
  },
  {
   "cell_type": "code",
   "execution_count": 95,
   "metadata": {
    "ExecuteTime": {
     "end_time": "2023-11-09T01:02:23.526919Z",
     "start_time": "2023-11-09T01:02:23.510906Z"
    }
   },
   "outputs": [],
   "source": [
    "# features and target\n",
    "X = df[numerical_features]\n",
    "y = df.target\n",
    "\n",
    "# train/test split, 90/10\n",
    "X_train, X_test, y_train, y_test = train_test_split(X, y, test_size=0.1, random_state=random_state)\n",
    "\n",
    "# train/val split, 80/20\n",
    "X_train, X_val, y_train, y_val = train_test_split(X_train, y_train, test_size=0.2, random_state=random_state)"
   ]
  },
  {
   "cell_type": "code",
   "execution_count": 96,
   "metadata": {
    "ExecuteTime": {
     "end_time": "2023-11-09T01:02:23.829195Z",
     "start_time": "2023-11-09T01:02:23.808177Z"
    },
    "scrolled": true
   },
   "outputs": [
    {
     "data": {
      "text/plain": [
       "['../model/dense_scaler.pkl']"
      ]
     },
     "execution_count": 96,
     "metadata": {},
     "output_type": "execute_result"
    }
   ],
   "source": [
    "# create scaler\n",
    "scaler = StandardScaler()\n",
    "\n",
    "# scale data\n",
    "train_scaled = scaler.fit_transform(X_train)\n",
    "val_scaled = scaler.transform(X_val)\n",
    "test_scaled = scaler.transform(X_test)\n",
    "\n",
    "# save the scaler\n",
    "joblib.dump(scaler, '../model/dense_scaler.pkl')"
   ]
  },
  {
   "cell_type": "code",
   "execution_count": 97,
   "metadata": {
    "ExecuteTime": {
     "end_time": "2023-11-09T01:02:24.131471Z",
     "start_time": "2023-11-09T01:02:24.123464Z"
    }
   },
   "outputs": [],
   "source": [
    "# convert data to tensors, specify 'device' to use gpu\n",
    "X_train = torch.tensor(train_scaled, dtype=torch.float32, device=device)\n",
    "y_train = torch.tensor(y_train.values, dtype=torch.float32, device=device)\n",
    "\n",
    "X_val = torch.tensor(val_scaled, dtype=torch.float32, device=device)\n",
    "y_val = torch.tensor(y_val.values, dtype=torch.float32, device=device)\n",
    "\n",
    "X_test = torch.tensor(test_scaled, dtype=torch.float32, device=device)\n",
    "y_test = torch.tensor(y_test.values, dtype=torch.float32, device=device)"
   ]
  },
  {
   "cell_type": "code",
   "execution_count": 98,
   "metadata": {
    "ExecuteTime": {
     "end_time": "2023-11-09T01:02:24.514819Z",
     "start_time": "2023-11-09T01:02:24.502809Z"
    }
   },
   "outputs": [
    {
     "data": {
      "text/plain": [
       "(torch.Size([697, 34]),\n",
       " torch.Size([175, 34]),\n",
       " torch.Size([97, 34]),\n",
       " torch.Size([697]),\n",
       " torch.Size([175]),\n",
       " torch.Size([97]))"
      ]
     },
     "execution_count": 98,
     "metadata": {},
     "output_type": "execute_result"
    }
   ],
   "source": [
    "# create datasets\n",
    "train_data = TensorDataset(X_train, y_train)\n",
    "val_data = TensorDataset(X_val, y_val)\n",
    "test_data = TensorDataset(X_test, y_test)\n",
    "\n",
    "# batch size\n",
    "batch_size = 8\n",
    "\n",
    "# create dataloaders\n",
    "train_loader = DataLoader(dataset=train_data, batch_size=batch_size, shuffle=True)\n",
    "val_loader = DataLoader(dataset=val_data, batch_size=X_val.shape[0], shuffle=False)\n",
    "test_loader = DataLoader(dataset=test_data, batch_size=X_test.shape[0], shuffle=False)\n",
    "\n",
    "# shapes of inputs, targets\n",
    "X_train.shape, X_val.shape, X_test.shape, y_train.shape, y_val.shape, y_test.shape"
   ]
  },
  {
   "cell_type": "markdown",
   "metadata": {},
   "source": [
    "# Dense NN"
   ]
  },
  {
   "cell_type": "code",
   "execution_count": 111,
   "metadata": {
    "ExecuteTime": {
     "end_time": "2023-11-09T01:09:02.830787Z",
     "start_time": "2023-11-09T01:09:02.819777Z"
    }
   },
   "outputs": [],
   "source": [
    "# simple NN with 1 hidden layer and relu activation\n",
    "class dense(nn.Module):\n",
    "    def __init__(self, input_dim, hidden_nodes):\n",
    "        super(dense, self).__init__()\n",
    "        \n",
    "        # Linear layers\n",
    "        self.fc1 = nn.Linear(input_dim, hidden_nodes)\n",
    "        self.output = nn.Linear(hidden_nodes, 1)\n",
    "        \n",
    "        # batch norm\n",
    "        self.bn1 = nn.BatchNorm1d(hidden_nodes)\n",
    "        \n",
    "        \n",
    "        \n",
    "    def forward(self, x):\n",
    "        x = torch.relu(self.fc1(x))\n",
    "        x = self.output(x)\n",
    "        return x"
   ]
  },
  {
   "cell_type": "code",
   "execution_count": 112,
   "metadata": {
    "ExecuteTime": {
     "end_time": "2023-11-09T01:09:03.119049Z",
     "start_time": "2023-11-09T01:09:03.110041Z"
    }
   },
   "outputs": [],
   "source": [
    "# 5 layers\n",
    "# class dense(nn.Module):\n",
    "#     def __init__(self, input_dim, hidden_nodes):\n",
    "#         super(dense, self).__init__()\n",
    "        \n",
    "#         # Linear layers\n",
    "#         self.fc1 = nn.Linear(input_dim, hidden_nodes)\n",
    "#         self.fc2 = nn.Linear(hidden_nodes, int(hidden_nodes/2))\n",
    "#         self.fc3 = nn.Linear(int(hidden_nodes/2), int(hidden_nodes/4))\n",
    "#         self.fc4 = nn.Linear(int(hidden_nodes/4), int(hidden_nodes/8))\n",
    "#         self.output = nn.Linear(int(hidden_nodes/8), 1)\n",
    "        \n",
    "#         # batch norm\n",
    "#         self.bn1 = nn.BatchNorm1d(hidden_nodes)\n",
    "#         self.bn2 = nn.BatchNorm1d(int(hidden_nodes/2))\n",
    "#         self.bn3 = nn.BatchNorm1d(int(hidden_nodes/4))\n",
    "#         self.bn4 = nn.BatchNorm1d(int(hidden_nodes/8))\n",
    "        \n",
    "        \n",
    "        \n",
    "#     def forward(self, x):\n",
    "#         x = torch.relu(self.bn1(self.fc1(x)))\n",
    "#         x = torch.relu(self.bn2(self.fc2(x)))\n",
    "#         x = torch.relu(self.bn3(self.fc3(x)))\n",
    "#         x = torch.relu(self.bn4(self.fc4(x)))\n",
    "#         x = self.output(x)\n",
    "#         return x"
   ]
  },
  {
   "cell_type": "code",
   "execution_count": 113,
   "metadata": {
    "ExecuteTime": {
     "end_time": "2023-11-09T01:09:03.407311Z",
     "start_time": "2023-11-09T01:09:03.386293Z"
    }
   },
   "outputs": [],
   "source": [
    "# instantiate model with 64 hidden neurons\n",
    "model = dense(input_dim=X.shape[1], hidden_nodes=int(64))\n",
    "\n",
    "# move params to gpu\n",
    "model.to(device)\n",
    "\n",
    "# loss, optimizer\n",
    "criterion = nn.MSELoss()\n",
    "optimizer = optim.Adam(model.parameters(), lr=0.001)"
   ]
  },
  {
   "cell_type": "markdown",
   "metadata": {},
   "source": [
    "### Train loop"
   ]
  },
  {
   "cell_type": "code",
   "execution_count": 114,
   "metadata": {
    "ExecuteTime": {
     "end_time": "2023-11-09T01:09:18.008612Z",
     "start_time": "2023-11-09T01:09:04.238068Z"
    }
   },
   "outputs": [
    {
     "name": "stdout",
     "output_type": "stream",
     "text": [
      "Epoch [10/1000]\n",
      "Train RMSE: 2.8439\n",
      "Train R2: -1.4865\n",
      "Val RMSE: 20.4310\n",
      "Val R2: -0.9504\n",
      "\n",
      "Epoch [20/1000]\n",
      "Train RMSE: 2.0294\n",
      "Train R2: -0.2929\n",
      "Val RMSE: 15.1025\n",
      "Val R2: -0.0657\n",
      "\n",
      "Epoch [30/1000]\n",
      "Train RMSE: 1.6362\n",
      "Train R2: 0.1652\n",
      "Val RMSE: 12.8606\n",
      "Val R2: 0.2272\n",
      "\n",
      "Epoch [40/1000]\n",
      "Train RMSE: 1.5055\n",
      "Train R2: 0.3067\n",
      "Val RMSE: 12.6840\n",
      "Val R2: 0.2483\n",
      "\n",
      "Epoch [50/1000]\n",
      "Train RMSE: 1.4439\n",
      "Train R2: 0.3528\n",
      "Val RMSE: 12.1429\n",
      "Val R2: 0.3110\n",
      "\n",
      "Epoch [60/1000]\n",
      "Train RMSE: 1.4454\n",
      "Train R2: 0.3705\n",
      "Val RMSE: 12.3569\n",
      "Val R2: 0.2865\n",
      "\n",
      "Epoch [70/1000]\n",
      "Train RMSE: 1.4384\n",
      "Train R2: 0.3983\n",
      "Val RMSE: 12.0598\n",
      "Val R2: 0.3204\n",
      "\n",
      "Epoch [80/1000]\n",
      "Train RMSE: 1.4052\n",
      "Train R2: 0.4062\n",
      "Val RMSE: 12.2283\n",
      "Val R2: 0.3013\n",
      "\n",
      "Epoch [90/1000]\n",
      "Train RMSE: 1.3800\n",
      "Train R2: 0.4134\n",
      "Val RMSE: 11.9252\n",
      "Val R2: 0.3355\n",
      "\n",
      "Epoch [100/1000]\n",
      "Train RMSE: 1.3518\n",
      "Train R2: 0.4305\n",
      "Val RMSE: 12.0544\n",
      "Val R2: 0.3210\n",
      "\n",
      "Epoch [110/1000]\n",
      "Train RMSE: 1.3709\n",
      "Train R2: 0.4356\n",
      "Val RMSE: 11.9998\n",
      "Val R2: 0.3272\n",
      "\n",
      "Epoch [120/1000]\n",
      "Train RMSE: 1.3555\n",
      "Train R2: 0.4410\n",
      "Val RMSE: 11.8872\n",
      "Val R2: 0.3397\n",
      "\n",
      "Epoch [130/1000]\n",
      "Train RMSE: 1.3359\n",
      "Train R2: 0.4487\n",
      "Val RMSE: 11.9078\n",
      "Val R2: 0.3375\n",
      "\n",
      "Early stopping on Epoch 131.\n",
      "\n",
      "Final validation RMSE: 11.843617944308326\n",
      "Best validation RMSE: 11.79693967283597\n",
      "\n"
     ]
    }
   ],
   "source": [
    "# epochs\n",
    "num_epochs = int(1000)\n",
    "\n",
    "# early stopping\n",
    "patience = 20\n",
    "best_val_loss = float('inf')\n",
    "epochs_without_improvement = 0\n",
    "\n",
    "# train loop\n",
    "for epoch in range(num_epochs):\n",
    "    # set model to train mode\n",
    "    model.train()\n",
    "\n",
    "    # sum of rmse, preds, and y. reset at the start of every epoch\n",
    "    sum_rmse = 0\n",
    "    epoch_preds = []\n",
    "    epoch_y = []\n",
    "\n",
    "    for x, y in train_loader:\n",
    "        # zero the parameter gradients\n",
    "        optimizer.zero_grad()\n",
    "        # forward pass\n",
    "        train_preds = model(x).squeeze(-1)\n",
    "        # calc loss\n",
    "        train_loss = criterion(train_preds, y)\n",
    "        # backward pass\n",
    "        train_loss.backward()\n",
    "        # optimize\n",
    "        optimizer.step()\n",
    "\n",
    "        # get rmse for current batch, add to sum rmse\n",
    "        sum_rmse += np.sqrt(train_loss.item())\n",
    "\n",
    "        # get preds and y from batch to calc r2\n",
    "        epoch_preds.extend(train_preds.numpy(force=True))\n",
    "        epoch_y.extend(y.numpy(force=True))\n",
    "\n",
    "    # train metrics\n",
    "    train_rmse = sum_rmse / len(train_data)\n",
    "    train_r2 = r2_score(epoch_y, epoch_preds)\n",
    "\n",
    "\n",
    "\n",
    "    # validation\n",
    "    model.eval()\n",
    "\n",
    "    with torch.inference_mode():\n",
    "        for x, y in val_loader:\n",
    "            # forward pass\n",
    "            val_preds = model(x).squeeze(-1)\n",
    "            # calc loss\n",
    "            val_loss = criterion(val_preds, y)\n",
    "\n",
    "        # val metrics\n",
    "        val_rmse = np.sqrt(val_loss.item())\n",
    "        val_r2 = r2_score(y.numpy(force=True), val_preds.numpy(force=True))\n",
    "\n",
    "\n",
    "\n",
    "    # print metrics\n",
    "    if (epoch+1) % 1e1 == 0:\n",
    "        print(f'Epoch [{epoch+1}/{num_epochs}]')\n",
    "        print(f'Train RMSE: {train_rmse:.4f}')\n",
    "        print(f'Train R2: {train_r2:.4f}')\n",
    "        print(f'Val RMSE: {val_rmse:.4f}')\n",
    "        print(f'Val R2: {val_r2:.4f}')\n",
    "        print()\n",
    "\n",
    "    # early stopping\n",
    "    if val_rmse < best_val_loss:\n",
    "        best_val_loss = val_rmse\n",
    "        epochs_without_improvement = 0\n",
    "    else:\n",
    "        epochs_without_improvement += 1\n",
    "\n",
    "        # break out of train loop if we reach patience value\n",
    "        if epochs_without_improvement == patience:\n",
    "            print(f'Early stopping on Epoch {epoch+1}.')\n",
    "            break\n",
    "\n",
    "\n",
    "\n",
    "print(f'\\nFinal validation RMSE: {val_rmse}')\n",
    "print(f'Best validation RMSE: {best_val_loss}\\n')"
   ]
  },
  {
   "cell_type": "markdown",
   "metadata": {},
   "source": [
    "- So far, best val RMSE is 11.8 and best val R2 is 0.33"
   ]
  },
  {
   "cell_type": "code",
   "execution_count": null,
   "metadata": {},
   "outputs": [],
   "source": []
  },
  {
   "cell_type": "code",
   "execution_count": null,
   "metadata": {},
   "outputs": [],
   "source": []
  },
  {
   "cell_type": "code",
   "execution_count": null,
   "metadata": {},
   "outputs": [],
   "source": []
  },
  {
   "cell_type": "code",
   "execution_count": null,
   "metadata": {},
   "outputs": [],
   "source": []
  },
  {
   "cell_type": "code",
   "execution_count": null,
   "metadata": {},
   "outputs": [],
   "source": []
  },
  {
   "cell_type": "markdown",
   "metadata": {
    "heading_collapsed": true
   },
   "source": [
    "# KFolds Validation"
   ]
  },
  {
   "cell_type": "code",
   "execution_count": 58,
   "metadata": {
    "ExecuteTime": {
     "end_time": "2023-11-08T22:56:39.885617Z",
     "start_time": "2023-11-08T22:56:39.877610Z"
    },
    "hidden": true
   },
   "outputs": [],
   "source": [
    "# use KFold cross validation\n",
    "kf = KFold(n_splits=5, shuffle=True, random_state=random_state)\n",
    "\n",
    "# indices to split on\n",
    "splits = kf.split(range(len(train_data)))"
   ]
  },
  {
   "cell_type": "code",
   "execution_count": 69,
   "metadata": {
    "ExecuteTime": {
     "end_time": "2023-11-08T23:00:23.094765Z",
     "start_time": "2023-11-08T23:00:23.082755Z"
    },
    "hidden": true
   },
   "outputs": [],
   "source": [
    "# list to store each set of (train, val) dataloaders\n",
    "dataloaders = []\n",
    "\n",
    "for fold, (train_idx, val_idx) in enumerate(splits):\n",
    "    # subset data to create a train and val set for each fold\n",
    "    train_subset = Subset(train_data, train_idx)\n",
    "    val_subset = Subset(train_data, val_idx)\n",
    "    \n",
    "    # create dataLoaders for training and validation sets\n",
    "    train_loader = DataLoader(train_subset, batch_size=batch_size, shuffle=True)\n",
    "    val_loader = DataLoader(val_subset, batch_size=len(val_subset), shuffle=False)\n",
    "    \n",
    "    # store in list\n",
    "    dataloaders.append((train_loader, val_loader))"
   ]
  },
  {
   "cell_type": "code",
   "execution_count": 70,
   "metadata": {
    "ExecuteTime": {
     "end_time": "2023-11-08T23:00:24.514058Z",
     "start_time": "2023-11-08T23:00:24.494041Z"
    },
    "hidden": true,
    "scrolled": true
   },
   "outputs": [],
   "source": [
    "# epochs\n",
    "num_epochs = int(100)\n",
    "\n",
    "# store val loss and r2 for each fold\n",
    "kfold_loss = []\n",
    "kfold_r2 = []\n",
    "\n",
    "# early stopping\n",
    "patience = 20\n",
    "best_val_loss = float('inf')\n",
    "epochs_without_improvement = 0\n",
    "\n",
    "# KFold loop, 5 iterations for 5 splits\n",
    "for fold, (train_loader, val_loader) in enumerate(dataloaders):\n",
    "    print(f\"Training fold {fold+1}:\")\n",
    "    \n",
    "    # initialize model, move params to gpu\n",
    "    model = dense(input_dim=X_train.shape[1], hidden_nodes=int(64))\n",
    "    model.to(device)\n",
    "    \n",
    "    optimizer = optim.Adam(model.parameters(), lr=0.001)\n",
    "\n",
    "    # train loop\n",
    "    for epoch in range(num_epochs):\n",
    "        model.train()\n",
    "        \n",
    "        # sum of rmse, preds, and y. reset at the start of every epoch\n",
    "        sum_rmse = 0\n",
    "        epoch_preds = []\n",
    "        epoch_y = []\n",
    "\n",
    "        for x, y in train_loader:\n",
    "            # zero the parameter gradients\n",
    "            optimizer.zero_grad()\n",
    "            # forward pass\n",
    "            train_preds = model(x).squeeze(-1)\n",
    "            # calc loss\n",
    "            train_loss = criterion(train_preds, y)\n",
    "            # backward pass\n",
    "            train_loss.backward()\n",
    "            # optimize\n",
    "            optimizer.step()\n",
    "\n",
    "            # get rmse for current batch, add to sum rmse\n",
    "            sum_rmse += np.sqrt(train_loss.item())\n",
    "\n",
    "            # get preds and y from batch to calc r2\n",
    "            epoch_preds.extend(train_preds.numpy(force=True))\n",
    "            epoch_y.extend(y.numpy(force=True))\n",
    "            \n",
    "        # train metrics\n",
    "        train_rmse = sum_rmse / len(train_data)\n",
    "        train_r2 = r2_score(epoch_y, epoch_preds)\n",
    "        \n",
    "        \n",
    "        \n",
    "        # validation\n",
    "        model.eval()\n",
    "        \n",
    "        with torch.inference_mode():\n",
    "            for x, y in val_loader:\n",
    "                # forward pass\n",
    "                val_preds = model(x).squeeze(-1)\n",
    "                # calc loss\n",
    "                val_loss = criterion(val_preds, y)\n",
    "\n",
    "            # val metrics\n",
    "            val_rmse = np.sqrt(val_loss.item())\n",
    "            val_r2 = r2_score(y.numpy(force=True), val_preds.numpy(force=True))\n",
    "\n",
    "            \n",
    "            \n",
    "        # print metrics\n",
    "#         if (epoch+1) % 1e1 == 0:\n",
    "#             print(f'Epoch [{epoch+1}/{num_epochs}]')\n",
    "#             print(f'Train RMSE: {train_rmse:.4f}')\n",
    "#             print(f'Train R2: {train_r2:.4f}')\n",
    "#             print(f'Val RMSE: {val_rmse:.4f}')\n",
    "#             print(f'Val R2: {val_r2:.4f}')\n",
    "#             print()\n",
    "\n",
    "        # early stopping\n",
    "        if val_loss.item() < best_val_loss:\n",
    "            best_val_loss = val_rmse\n",
    "            epochs_without_improvement = 0\n",
    "        else:\n",
    "            epochs_without_improvement += 1\n",
    "\n",
    "            # break out of train loop if we reach patience value\n",
    "            if epochs_without_improvement == patience:\n",
    "                print(f'Early stopping on Epoch {epoch+1}.')\n",
    "                break\n",
    "\n",
    "                \n",
    "    \n",
    "    print(f'Final validation RMSE: {val_rmse}\\n')\n",
    "    print(f'Best validation RMSE: {best_val_loss}\\n')\n",
    "    \n",
    "    # append validation metrics at the end of a fold\n",
    "    kfold_loss.append(val_rmse)\n",
    "    kfold_loss.append(val_r2)"
   ]
  },
  {
   "cell_type": "code",
   "execution_count": 29,
   "metadata": {
    "ExecuteTime": {
     "end_time": "2023-11-07T21:55:47.655710Z",
     "start_time": "2023-11-07T21:55:47.644701Z"
    },
    "hidden": true
   },
   "outputs": [
    {
     "data": {
      "text/plain": [
       "(7.1108801163769115, 10.908309078255208)"
      ]
     },
     "execution_count": 29,
     "metadata": {},
     "output_type": "execute_result"
    }
   ],
   "source": [
    "np.mean(kfold_loss), np.std(kfold_loss)"
   ]
  },
  {
   "cell_type": "markdown",
   "metadata": {
    "heading_collapsed": true
   },
   "source": [
    "# Results df\n",
    "- Load in dataframe from dense.csv to store all results from dense models.\n",
    "- Stores loss, r2, hyperparameters, and features used."
   ]
  },
  {
   "cell_type": "code",
   "execution_count": 57,
   "metadata": {
    "ExecuteTime": {
     "end_time": "2023-11-07T21:14:33.524728Z",
     "start_time": "2023-11-07T21:14:33.514720Z"
    },
    "hidden": true
   },
   "outputs": [
    {
     "data": {
      "text/html": [
       "<div>\n",
       "<style scoped>\n",
       "    .dataframe tbody tr th:only-of-type {\n",
       "        vertical-align: middle;\n",
       "    }\n",
       "\n",
       "    .dataframe tbody tr th {\n",
       "        vertical-align: top;\n",
       "    }\n",
       "\n",
       "    .dataframe thead th {\n",
       "        text-align: right;\n",
       "    }\n",
       "</style>\n",
       "<table border=\"1\" class=\"dataframe\">\n",
       "  <thead>\n",
       "    <tr style=\"text-align: right;\">\n",
       "      <th></th>\n",
       "      <th>train_rmse</th>\n",
       "      <th>train_r2</th>\n",
       "      <th>'test_rmse</th>\n",
       "      <th>test_r2</th>\n",
       "      <th>num_layers</th>\n",
       "      <th>shape</th>\n",
       "      <th>optim</th>\n",
       "      <th>epochs</th>\n",
       "      <th>batch_size</th>\n",
       "      <th>feats</th>\n",
       "    </tr>\n",
       "  </thead>\n",
       "  <tbody>\n",
       "  </tbody>\n",
       "</table>\n",
       "</div>"
      ],
      "text/plain": [
       "Empty DataFrame\n",
       "Columns: [train_rmse, train_r2,  'test_rmse, test_r2, num_layers, shape, optim, epochs, batch_size, feats]\n",
       "Index: []"
      ]
     },
     "execution_count": 57,
     "metadata": {},
     "output_type": "execute_result"
    }
   ],
   "source": [
    "# load in dense.csv ()\n",
    "dense_df = pd.read_csv('../model/dense.csv')\n",
    "dense_df"
   ]
  },
  {
   "cell_type": "code",
   "execution_count": null,
   "metadata": {
    "hidden": true
   },
   "outputs": [],
   "source": [
    "Subset()"
   ]
  },
  {
   "cell_type": "code",
   "execution_count": null,
   "metadata": {
    "hidden": true
   },
   "outputs": [],
   "source": [
    "dense_df"
   ]
  },
  {
   "cell_type": "code",
   "execution_count": null,
   "metadata": {
    "hidden": true
   },
   "outputs": [],
   "source": [
    "def fit_eval(layers, df=dense_df, X_train=X_train, y_train=y_train, X_test=X_test, y_test=y_test):\n",
    "\n",
    "    '''\n",
    "    Fit model, append performance metrics and hyperparameters to df.\n",
    "    \n",
    "    Parameters:\n",
    "    layers - a list containing node counts for hidden layers\n",
    "\n",
    "    Returns:\n",
    "    df - dense_df passed in with the results appended from the pipeline passed in, params of nn also included\n",
    "    \n",
    "    '''\n",
    "    \n",
    "\n",
    "\n",
    "    # get number of layers\n",
    "    \n",
    "\n",
    "    # get shape of nn\n",
    "    nn_shape = []\n",
    "    for i, layer in enumerate():\n",
    "        if i % 2 == 0:\n",
    "            nn_shape.append(layer.units)\n",
    "\n",
    "    # get optimizer\n",
    "    optim = str(nn.optimizer).split()[0].split('.')[-1]\n",
    "    \n",
    "    \n",
    "    \n",
    "    # append results to last row of the df\n",
    "    df.loc[len(df.index)] = [train_loss, test_loss, num_layers, nn_shape, optimizer, num_epochs, batch_size]\n",
    "    \n",
    "    \n",
    "    \n",
    "    return df"
   ]
  },
  {
   "cell_type": "code",
   "execution_count": null,
   "metadata": {
    "hidden": true
   },
   "outputs": [],
   "source": []
  },
  {
   "cell_type": "code",
   "execution_count": null,
   "metadata": {
    "hidden": true
   },
   "outputs": [],
   "source": []
  },
  {
   "cell_type": "code",
   "execution_count": null,
   "metadata": {
    "hidden": true
   },
   "outputs": [],
   "source": []
  },
  {
   "cell_type": "code",
   "execution_count": null,
   "metadata": {
    "hidden": true
   },
   "outputs": [],
   "source": []
  },
  {
   "cell_type": "code",
   "execution_count": null,
   "metadata": {
    "hidden": true
   },
   "outputs": [],
   "source": []
  },
  {
   "cell_type": "code",
   "execution_count": null,
   "metadata": {
    "hidden": true
   },
   "outputs": [],
   "source": []
  },
  {
   "cell_type": "code",
   "execution_count": null,
   "metadata": {
    "hidden": true
   },
   "outputs": [],
   "source": []
  },
  {
   "cell_type": "code",
   "execution_count": null,
   "metadata": {
    "hidden": true
   },
   "outputs": [],
   "source": []
  },
  {
   "cell_type": "code",
   "execution_count": null,
   "metadata": {
    "hidden": true
   },
   "outputs": [],
   "source": []
  },
  {
   "cell_type": "code",
   "execution_count": null,
   "metadata": {
    "hidden": true
   },
   "outputs": [],
   "source": []
  },
  {
   "cell_type": "code",
   "execution_count": null,
   "metadata": {
    "hidden": true
   },
   "outputs": [],
   "source": []
  },
  {
   "cell_type": "markdown",
   "metadata": {
    "heading_collapsed": true
   },
   "source": [
    "# Test set"
   ]
  },
  {
   "cell_type": "code",
   "execution_count": 116,
   "metadata": {
    "ExecuteTime": {
     "end_time": "2023-11-02T01:24:15.527123Z",
     "start_time": "2023-11-02T01:24:15.507106Z"
    },
    "hidden": true
   },
   "outputs": [],
   "source": [
    "# set model to eval mode\n",
    "model.eval()\n",
    "\n",
    "with torch.inference_mode():\n",
    "    # test loop (single batch)\n",
    "    for i, (inputs, targets) in enumerate(test_loader):\n",
    "        # forward pass\n",
    "        test_preds = model(inputs).squeeze()\n",
    "        # calc loss\n",
    "        test_loss = criterion(test_preds, targets)\n",
    "\n",
    "        # test metrics\n",
    "        test_loss = np.sqrt(test_loss.item())\n",
    "        test_r2 = r2_score(targets.numpy(force=True), test_preds.numpy(force=True))"
   ]
  },
  {
   "cell_type": "code",
   "execution_count": 117,
   "metadata": {
    "ExecuteTime": {
     "end_time": "2023-11-02T01:24:15.700737Z",
     "start_time": "2023-11-02T01:24:15.687726Z"
    },
    "hidden": true
   },
   "outputs": [
    {
     "name": "stdout",
     "output_type": "stream",
     "text": [
      "Test RMSE: 13.2927\n",
      "Test R2: 0.2553\n"
     ]
    }
   ],
   "source": [
    "print(f'Test RMSE: {test_loss:.4f}')\n",
    "print(f'Test R2: {test_r2:.4f}')"
   ]
  },
  {
   "cell_type": "code",
   "execution_count": null,
   "metadata": {
    "hidden": true
   },
   "outputs": [],
   "source": []
  },
  {
   "cell_type": "markdown",
   "metadata": {
    "heading_collapsed": true
   },
   "source": [
    "# 2022 Rookie QBs\n",
    "- Making projections for the 2023 season.\n",
    "- Using the first 10/18 2023 weeks as the target."
   ]
  },
  {
   "cell_type": "code",
   "execution_count": null,
   "metadata": {
    "hidden": true
   },
   "outputs": [],
   "source": [
    "pd.read_csv('../train_data/rookies_2022')"
   ]
  },
  {
   "cell_type": "code",
   "execution_count": null,
   "metadata": {
    "hidden": true
   },
   "outputs": [],
   "source": []
  },
  {
   "cell_type": "code",
   "execution_count": null,
   "metadata": {
    "hidden": true
   },
   "outputs": [],
   "source": []
  }
 ],
 "metadata": {
  "kernelspec": {
   "display_name": "torch_kernel",
   "language": "python",
   "name": "torch_env"
  },
  "language_info": {
   "codemirror_mode": {
    "name": "ipython",
    "version": 3
   },
   "file_extension": ".py",
   "mimetype": "text/x-python",
   "name": "python",
   "nbconvert_exporter": "python",
   "pygments_lexer": "ipython3",
   "version": "3.8.17"
  },
  "latex_envs": {
   "LaTeX_envs_menu_present": true,
   "autoclose": false,
   "autocomplete": true,
   "bibliofile": "biblio.bib",
   "cite_by": "apalike",
   "current_citInitial": 1,
   "eqLabelWithNumbers": true,
   "eqNumInitial": 1,
   "hotkeys": {
    "equation": "Ctrl-E",
    "itemize": "Ctrl-I"
   },
   "labels_anchors": false,
   "latex_user_defs": false,
   "report_style_numbering": false,
   "user_envs_cfg": false
  },
  "toc": {
   "base_numbering": 1,
   "nav_menu": {},
   "number_sections": true,
   "sideBar": true,
   "skip_h1_title": false,
   "title_cell": "Table of Contents",
   "title_sidebar": "Contents",
   "toc_cell": false,
   "toc_position": {},
   "toc_section_display": true,
   "toc_window_display": false
  }
 },
 "nbformat": 4,
 "nbformat_minor": 4
}
